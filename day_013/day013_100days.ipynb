{
 "cells": [
  {
   "cell_type": "markdown",
   "id": "894a107d",
   "metadata": {},
   "source": [
    "### Day 13 - Beginner - Debugging: How to Find and Fix Errors in your Code"
   ]
  },
  {
   "cell_type": "markdown",
   "id": "a6f6a5d3",
   "metadata": {},
   "source": [
    "**------------------------------------------------------------------------------------------------------------------------------------------------------------------------------------------------------------------**"
   ]
  },
  {
   "cell_type": "markdown",
   "id": "9ec13e59",
   "metadata": {},
   "source": [
    "**Debugging**"
   ]
  },
  {
   "cell_type": "markdown",
   "id": "e3306bb8",
   "metadata": {},
   "source": [
    "1. Describe the Problem\n",
    "2. Reproduce the Bug\n",
    "3. Play Computer\n",
    "4. Fix the Errors\n",
    "5. Print is Your Friend\n",
    "6. Use a Debugger\n",
    "7. Take a Break\n",
    "8. Ask a Friend\n",
    "9. Run Often\n",
    "10. Ask StackOverflow"
   ]
  },
  {
   "cell_type": "markdown",
   "id": "bc023d4d",
   "metadata": {},
   "source": [
    "**------------------------------------------------------------------------------------------------------------------------------------------------------------------------------------------------------------------**"
   ]
  },
  {
   "cell_type": "markdown",
   "id": "fb16963f",
   "metadata": {},
   "source": [
    "### Exercise 1 - Debugging Odd or Even"
   ]
  },
  {
   "cell_type": "code",
   "execution_count": null,
   "id": "9573368a",
   "metadata": {},
   "outputs": [],
   "source": [
    "number = int(input(\"Which number do you want to check?\"))\n",
    "\n",
    "if number % 2 == 0:\n",
    "  print(\"This is an even number.\")\n",
    "else:\n",
    "  print(\"This is an odd number.\")"
   ]
  },
  {
   "cell_type": "markdown",
   "id": "3d6bcf95",
   "metadata": {},
   "source": [
    "**------------------------------------------------------------------------------------------------------------------------------------------------------------------------------------------------------------------**"
   ]
  },
  {
   "cell_type": "markdown",
   "id": "986b2ff2",
   "metadata": {},
   "source": [
    "### Exercise 2 - Debugging Leap Year"
   ]
  },
  {
   "cell_type": "code",
   "execution_count": null,
   "id": "783a36f5",
   "metadata": {},
   "outputs": [],
   "source": [
    "year = int(input(\"Which year do you want to check?\"))\n",
    "\n",
    "if year % 4 == 0:\n",
    "  if year % 100 == 0:\n",
    "    if year % 400 == 0:\n",
    "      print(\"Leap year.\")\n",
    "    else:\n",
    "      print(\"Not leap year.\")\n",
    "  else:\n",
    "    print(\"Leap year.\")\n",
    "else:\n",
    "  print(\"Not leap year.\")"
   ]
  },
  {
   "cell_type": "markdown",
   "id": "d69d3db9",
   "metadata": {},
   "source": [
    "**------------------------------------------------------------------------------------------------------------------------------------------------------------------------------------------------------------------**"
   ]
  },
  {
   "cell_type": "markdown",
   "id": "6bf8d400",
   "metadata": {},
   "source": [
    "### Debugging FizzBuzz"
   ]
  },
  {
   "cell_type": "code",
   "execution_count": null,
   "id": "53ae71e0",
   "metadata": {},
   "outputs": [],
   "source": [
    "for number in range(1, 101):\n",
    "  if number % 3 == 0 and number % 5 == 0:\n",
    "    print(\"FizzBuzz\")\n",
    "  elif number % 3 == 0:\n",
    "    print(\"Fizz\")\n",
    "  elif number % 5 == 0:\n",
    "    print(\"Buzz\")\n",
    "  else:\n",
    "    print(number)"
   ]
  },
  {
   "cell_type": "markdown",
   "id": "4c498c65",
   "metadata": {},
   "source": [
    "**------------------------------------------------------------------------------------------------------------------------------------------------------------------------------------------------------------------**"
   ]
  }
 ],
 "metadata": {
  "kernelspec": {
   "display_name": "Python 3 (ipykernel)",
   "language": "python",
   "name": "python3"
  },
  "language_info": {
   "codemirror_mode": {
    "name": "ipython",
    "version": 3
   },
   "file_extension": ".py",
   "mimetype": "text/x-python",
   "name": "python",
   "nbconvert_exporter": "python",
   "pygments_lexer": "ipython3",
   "version": "3.9.13"
  }
 },
 "nbformat": 4,
 "nbformat_minor": 5
}
