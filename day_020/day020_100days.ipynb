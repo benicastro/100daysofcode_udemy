{
 "cells": [
  {
   "cell_type": "markdown",
   "id": "36b02b14",
   "metadata": {},
   "source": [
    "### Section 20: Day 20 - Intermediate - Build the Snake Game Part 1: Animation & Coordinates"
   ]
  },
  {
   "cell_type": "markdown",
   "id": "1d8b2292",
   "metadata": {},
   "source": [
    "**------------------------------------------------------------------------------------------------------------------------------------------------------------------------------------------------------------------**"
   ]
  },
  {
   "cell_type": "markdown",
   "id": "f25ee516",
   "metadata": {},
   "source": [
    "1. Create a Snake Body\n",
    "2. Move the Snake\n",
    "3. Control the Snake\n",
    "4. Detect Collision with Food\n",
    "5. Create a scoreboard\n",
    "6. Detect Collision with Wall\n",
    "7. Detect Collision with Tail"
   ]
  },
  {
   "cell_type": "markdown",
   "id": "944c6fff",
   "metadata": {},
   "source": [
    "**------------------------------------------------------------------------------------------------------------------------------------------------------------------------------------------------------------------**"
   ]
  },
  {
   "cell_type": "code",
   "execution_count": null,
   "id": "28f93874",
   "metadata": {},
   "outputs": [],
   "source": [
    "# Import needed modules ######################################################################################################\n",
    "from turtle import Turtle, Screen\n",
    "import random"
   ]
  },
  {
   "cell_type": "code",
   "execution_count": null,
   "id": "f3242a0f",
   "metadata": {},
   "outputs": [],
   "source": [
    "# Configure screen properties ################################################################################################\n",
    "WIDTH = 600\n",
    "HEIGHT = 600\n",
    "BG_COLOR = \"black\"\n",
    "\n",
    "screen = Screen()\n",
    "screen.setup(width=WIDTH, height=HEIGHT)\n",
    "screen.bgcolor(BG_COLOR)\n",
    "screen.title(\"Milyastroc's Snake Game\")"
   ]
  },
  {
   "cell_type": "code",
   "execution_count": null,
   "id": "a98d1dcb",
   "metadata": {},
   "outputs": [],
   "source": [
    "# Create a Snake body ########################################################################################################\n",
    "# STARTING_POSITIONS = [(0, 0), (-20, 0), (-40, 0)]\n",
    "#\n",
    "# for position in STARTING_POSITIONS:\n",
    "#     new_segment = Turtle(\"square\")\n",
    "#     new_segment.color(\"white\")\n",
    "#     new_segment.penup()\n",
    "#     new_segment.goto(position)"
   ]
  },
  {
   "cell_type": "code",
   "execution_count": null,
   "id": "8c1c0771",
   "metadata": {},
   "outputs": [],
   "source": [
    "# Animate the Snake segments on Screen #######################################################################################\n",
    "# STARTING_POSITIONS = [(0, 0), (-20, 0), (-40, 0)]\n",
    "# segments = []\n",
    "#\n",
    "# for position in STARTING_POSITIONS:\n",
    "#     new_segment = Turtle(\"square\")\n",
    "#     new_segment.color(\"white\")\n",
    "#     new_segment.penup()\n",
    "#     new_segment.goto(position)\n",
    "#     segments.append(new_segment)\n",
    "#\n",
    "# # Create a variable which indicates if the game is running\n",
    "# game_is_on = True\n",
    "# while game_is_on:\n",
    "#     screen.update()\n",
    "#     time.sleep(0.1)\n",
    "#     for seg_num in range(len(segments)-1, 0, -1):\n",
    "#         segments[seg_num].goto(x=segments[seg_num-1].xcor(), y=segments[seg_num-1].ycor())\n",
    "#     segments[0].forward(20)"
   ]
  },
  {
   "cell_type": "code",
   "execution_count": null,
   "id": "3dddbebf",
   "metadata": {},
   "outputs": [],
   "source": [
    "# Create a Snake Class & Move to OOP ##########################################################################################\n",
    "# snake = Snake()\n",
    "#\n",
    "# game_is_on = True\n",
    "# while game_is_on:\n",
    "#     screen.update()\n",
    "#     time.sleep(0.1)\n",
    "#\n",
    "#     snake.move()"
   ]
  },
  {
   "cell_type": "markdown",
   "id": "7a572fd7",
   "metadata": {},
   "source": [
    "**------------------------------------------------------------------------------------------------------------------------------------------------------------------------------------------------------------------**"
   ]
  },
  {
   "cell_type": "code",
   "execution_count": null,
   "id": "8c8178e4",
   "metadata": {},
   "outputs": [],
   "source": [
    "from turtle import Screen\n",
    "from snake import Snake\n",
    "import time\n",
    "\n",
    "screen = Screen()\n",
    "screen.setup(width=600, height=600)\n",
    "screen.bgcolor(\"black\")\n",
    "screen.title(\"My Snake Game\")\n",
    "screen.tracer(0)\n",
    "\n",
    "snake = Snake()\n",
    "food = Food()\n",
    "\n",
    "screen.listen()\n",
    "screen.onkey(snake.up, \"Up\")\n",
    "screen.onkey(snake.down, \"Down\")\n",
    "screen.onkey(snake.left, \"Left\")\n",
    "screen.onkey(snake.right, \"Right\")\n",
    "\n",
    "game_is_on = True\n",
    "while game_is_on:\n",
    "    screen.update()\n",
    "    time.sleep(0.1)\n",
    "\n",
    "    snake.move()\n",
    "\n",
    "\n",
    "screen.exitonclick()"
   ]
  },
  {
   "cell_type": "code",
   "execution_count": null,
   "id": "9989a0a9",
   "metadata": {},
   "outputs": [],
   "source": []
  },
  {
   "cell_type": "code",
   "execution_count": null,
   "id": "f161ed64",
   "metadata": {},
   "outputs": [],
   "source": []
  }
 ],
 "metadata": {
  "kernelspec": {
   "display_name": "Python 3 (ipykernel)",
   "language": "python",
   "name": "python3"
  },
  "language_info": {
   "codemirror_mode": {
    "name": "ipython",
    "version": 3
   },
   "file_extension": ".py",
   "mimetype": "text/x-python",
   "name": "python",
   "nbconvert_exporter": "python",
   "pygments_lexer": "ipython3",
   "version": "3.9.13"
  }
 },
 "nbformat": 4,
 "nbformat_minor": 5
}
