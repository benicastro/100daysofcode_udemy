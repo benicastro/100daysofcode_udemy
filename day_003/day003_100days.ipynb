{
 "cells": [
  {
   "cell_type": "markdown",
   "id": "04375173",
   "metadata": {},
   "source": [
    "### Section 3: Day 3 - Beginner - Control Flow and Logical Operators"
   ]
  },
  {
   "cell_type": "markdown",
   "id": "322aff73",
   "metadata": {},
   "source": [
    "**------------------------------------------------------------------------------------------------------------------------------------------------------------------------------------------------------------------**"
   ]
  },
  {
   "cell_type": "markdown",
   "id": "19849cd9",
   "metadata": {},
   "source": [
    "- conditional if/else statement:\n",
    "\n",
    "    if condition:\n",
    "        do this\n",
    "    else:\n",
    "        do this"
   ]
  },
  {
   "cell_type": "code",
   "execution_count": 1,
   "id": "efa3d982",
   "metadata": {},
   "outputs": [
    {
     "name": "stdout",
     "output_type": "stream",
     "text": [
      "Continue\n"
     ]
    }
   ],
   "source": [
    "water_level = 50\n",
    "if water_level > 80:\n",
    "    print(\"Drain water\")\n",
    "else:\n",
    "    print(\"Continue\")"
   ]
  },
  {
   "cell_type": "markdown",
   "id": "a0a02e38",
   "metadata": {},
   "source": [
    "draw.io"
   ]
  },
  {
   "cell_type": "code",
   "execution_count": 2,
   "id": "625981bb",
   "metadata": {},
   "outputs": [
    {
     "name": "stdout",
     "output_type": "stream",
     "text": [
      "Welcome to the rollercoaster!\n",
      "What is your height in cm? 130\n",
      "You can ride the rollercoaster!\n"
     ]
    }
   ],
   "source": [
    "print(\"Welcome to the rollercoaster!\")\n",
    "height = int(input(\"What is your height in cm? \"))\n",
    "\n",
    "if height >= 120:\n",
    "    print(\"You can ride the rollercoaster!\")\n",
    "else:\n",
    "    print(\"Sorry, you have to be taller before you can ride.\")"
   ]
  },
  {
   "cell_type": "markdown",
   "id": "5b495cd0",
   "metadata": {},
   "source": [
    "- Comparison Operators: > | < | >= | <== | == | !="
   ]
  },
  {
   "cell_type": "markdown",
   "id": "dc0a8b43",
   "metadata": {},
   "source": [
    "**------------------------------------------------------------------------------------------------------------------------------------------------------------------------------------------------------------------**"
   ]
  },
  {
   "cell_type": "markdown",
   "id": "adfc52e8",
   "metadata": {},
   "source": [
    "### Exercise 1 - Odd or Even"
   ]
  },
  {
   "cell_type": "markdown",
   "id": "e4dbffae",
   "metadata": {},
   "source": [
    "- Write a program that works out whether if a given number is an odd or even number."
   ]
  },
  {
   "cell_type": "code",
   "execution_count": 4,
   "id": "36fc623e",
   "metadata": {},
   "outputs": [],
   "source": [
    "def odd_or_even(n):\n",
    "    # This function tells whether the inputted number n is odd or even\n",
    "    if n % 2 == 0:\n",
    "        return \"It is even!\"\n",
    "    else:\n",
    "        return \"It is odd!\""
   ]
  },
  {
   "cell_type": "code",
   "execution_count": 6,
   "id": "f0fd8cd0",
   "metadata": {},
   "outputs": [
    {
     "name": "stdout",
     "output_type": "stream",
     "text": [
      "Please provide number to check: 8\n",
      "It is even!\n"
     ]
    }
   ],
   "source": [
    "n = int(input(\"Please provide number to check: \"))\n",
    "print(odd_or_even(n))"
   ]
  },
  {
   "cell_type": "markdown",
   "id": "01cb112c",
   "metadata": {},
   "source": [
    "**------------------------------------------------------------------------------------------------------------------------------------------------------------------------------------------------------------------**"
   ]
  },
  {
   "cell_type": "code",
   "execution_count": 9,
   "id": "45526522",
   "metadata": {},
   "outputs": [
    {
     "name": "stdout",
     "output_type": "stream",
     "text": [
      "Welcome to the rollercoaster!\n",
      "What is your height in cm? 160\n",
      "What is your age? 12\n",
      "You can ride the rollercoaster! Please pay 7$ for the ticket.\n"
     ]
    }
   ],
   "source": [
    "print(\"Welcome to the rollercoaster!\")\n",
    "height = int(input(\"What is your height in cm? \"))\n",
    "age = int(input(\"What is your age? \"))\n",
    "\n",
    "if height >= 120:\n",
    "    if age > 18:\n",
    "        print(\"You can ride the rollercoaster! Please pay 12$ for the ticket.\")\n",
    "    elif age >= 12:\n",
    "        print(\"You can ride the rollercoaster! Please pay 7$ for the ticket.\")\n",
    "    else:\n",
    "        print(\"You can ride the rollercoaster! Please pay 5$ for the ticket.\")\n",
    "else:\n",
    "    print(\"Sorry, you have to be taller before you can ride.\")"
   ]
  },
  {
   "cell_type": "markdown",
   "id": "a2559feb",
   "metadata": {},
   "source": [
    "**------------------------------------------------------------------------------------------------------------------------------------------------------------------------------------------------------------------**"
   ]
  },
  {
   "cell_type": "markdown",
   "id": "fa80fefb",
   "metadata": {},
   "source": [
    "### Exercise 2 - BMI 2.0"
   ]
  },
  {
   "cell_type": "markdown",
   "id": "85594a2f",
   "metadata": {},
   "source": [
    "- Write a program that interprets the Body Mass Index (BMI) based on a user's weight and height.\n",
    "- It should tell them the interpretation of their BMI based on the BMI value.\n",
    "    - Under 18.5 they are underweight\n",
    "    - Over 18.5 but below 25 they have a normal weight\n",
    "    - Over 25 but below 30 they are slightly overweight\n",
    "    - Over 30 but below 35 they are obese\n",
    "    - Above 35 they are clinically obese.\n",
    "    \n",
    "    \n",
    "- The BMI is calculated by dividing a person's weight (in kg) by the square of their height (in m):\n",
    "\n",
    "$$\n",
    "BMI = \\frac{weight (kg)}{height^2 (m^2)}\n",
    "$$"
   ]
  },
  {
   "cell_type": "code",
   "execution_count": 16,
   "id": "94aa0ac3",
   "metadata": {},
   "outputs": [],
   "source": [
    "def get_bmi(height, weight):\n",
    "    # This function calculates the BMI of a user and then interprets it\n",
    "    bmi = round(weight / (height**2))\n",
    "    if bmi < 18.5:\n",
    "        return f\"You're BMI is {bmi}, you are underweight.\"\n",
    "    elif bmi < 25:\n",
    "        return f\"You're BMI is {bmi}, you have a normal weight.\"\n",
    "    elif bmi < 30:\n",
    "        return f\"You're BMI is {bmi}, you are slightly overweight.\"\n",
    "    elif bmi < 35:\n",
    "        return f\"You're BMI is {bmi}, you are obese.\"\n",
    "    else:\n",
    "        return f\"You're BMI is {bmi}, you are clinically obese.\""
   ]
  },
  {
   "cell_type": "code",
   "execution_count": 18,
   "id": "a9c6e81b",
   "metadata": {},
   "outputs": [
    {
     "name": "stdout",
     "output_type": "stream",
     "text": [
      "Please provide height in m: 1.72\n",
      "Please provide weight in kg: 70\n",
      "You're BMI is 24, you have a normal weight.\n"
     ]
    }
   ],
   "source": [
    "height = float(input(\"Please provide height in m: \"))\n",
    "weight = float(input(\"Please provide weight in kg: \"))\n",
    "print(get_bmi(height, weight))"
   ]
  },
  {
   "cell_type": "markdown",
   "id": "adb9a5a5",
   "metadata": {},
   "source": [
    "**------------------------------------------------------------------------------------------------------------------------------------------------------------------------------------------------------------------**"
   ]
  },
  {
   "cell_type": "markdown",
   "id": "8288dd8e",
   "metadata": {},
   "source": [
    "### Exercise 3 - Leap Year"
   ]
  },
  {
   "cell_type": "markdown",
   "id": "b3dcb9c1",
   "metadata": {},
   "source": [
    "- Write a program that works out whether if a given year is a leap year. A normal year has 365 days, leap years have 366, with an extra day in February. The reason why we have leap years is really fascinating, this video does it more justice: https://www.youtube.com/watch?v=xX96xng7sAE"
   ]
  },
  {
   "cell_type": "markdown",
   "id": "d3991863",
   "metadata": {},
   "source": [
    "- This is how you work out whether if a particular year is a leap year.\n",
    "\n",
    "    - on every year that is evenly divisible by 4 \n",
    "\n",
    "    - **except** every year that is evenly divisible by 100 \n",
    "\n",
    "    - **unless** the year is also evenly divisible by 400"
   ]
  },
  {
   "cell_type": "markdown",
   "id": "780029aa",
   "metadata": {},
   "source": [
    "- e.g. The year 2000:\n",
    "\n",
    "    - 2000 ÷ 4 = 500 (Leap)\n",
    "\n",
    "    - 2000 ÷ 100 = 20 (Not Leap)\n",
    "\n",
    "    - 2000 ÷ 400 = 5 (Leap!)\n",
    "\n",
    "- So the year 2000 is a leap year.\n",
    "\n",
    "- But the year 2100 is not a leap year because:\n",
    "\n",
    "    - 2100 ÷ 4 = 525 (Leap)\n",
    "\n",
    "    - 2100 ÷ 100 = 21 (Not Leap)\n",
    "\n",
    "    - 2100 ÷ 400 = 5.25 (Not Leap)"
   ]
  },
  {
   "cell_type": "code",
   "execution_count": 31,
   "id": "50fe2fe5",
   "metadata": {},
   "outputs": [],
   "source": [
    "def check_leap(year):\n",
    "    # This function checks whether the input year is a leap year or not\n",
    "    if year % 4 == 0:\n",
    "        if year % 100 != 0 or year % 400 == 0:\n",
    "                return f\"{year} is a leap year.\"\n",
    "    return f\"{year} is not a leap year.\""
   ]
  },
  {
   "cell_type": "code",
   "execution_count": 32,
   "id": "1cac4a2d",
   "metadata": {},
   "outputs": [
    {
     "name": "stdout",
     "output_type": "stream",
     "text": [
      "Please provide the year to be checked: 2400\n",
      "2400 is a leap year.\n"
     ]
    }
   ],
   "source": [
    "year = int(input(\"Please provide the year to be checked: \"))\n",
    "print(check_leap(year))"
   ]
  },
  {
   "cell_type": "markdown",
   "id": "9fad2f86",
   "metadata": {},
   "source": [
    "**------------------------------------------------------------------------------------------------------------------------------------------------------------------------------------------------------------------**"
   ]
  },
  {
   "cell_type": "code",
   "execution_count": 37,
   "id": "89bc1766",
   "metadata": {},
   "outputs": [
    {
     "name": "stdout",
     "output_type": "stream",
     "text": [
      "Welcome to the rollercoaster!\n",
      "What is your height in cm? 110\n",
      "What is your age? 52\n",
      "Sorry, you have to be taller before you can ride.\n"
     ]
    }
   ],
   "source": [
    "print(\"Welcome to the rollercoaster!\")\n",
    "height = int(input(\"What is your height in cm? \"))\n",
    "age = int(input(\"What is your age? \"))\n",
    "payment = 0\n",
    "\n",
    "if height >= 120:\n",
    "    if age > 18:\n",
    "        payment = 12\n",
    "        print(\"You can ride the rollercoaster! Adult tickets are 12$.\")\n",
    "    elif age >= 12:\n",
    "        payment = 7\n",
    "        print(\"You can ride the rollercoaster! Youth tickets are 7$.\")\n",
    "    else:\n",
    "        payment = 5\n",
    "        print(\"You can ride the rollercoaster! Child tickets are 5$.\")\n",
    "    add_photo = input(\"Do you want to add photo? Y or N: \")\n",
    "    if add_photo.upper() == \"Y\":\n",
    "        payment += 3\n",
    "        print(f\"Your total bill is {payment}$.\")\n",
    "    else:\n",
    "        print(\"Invalid answer.\")\n",
    "else:\n",
    "    print(\"Sorry, you have to be taller before you can ride.\")"
   ]
  },
  {
   "cell_type": "markdown",
   "id": "8f033538",
   "metadata": {},
   "source": [
    "**------------------------------------------------------------------------------------------------------------------------------------------------------------------------------------------------------------------**"
   ]
  },
  {
   "cell_type": "markdown",
   "id": "8417f532",
   "metadata": {},
   "source": [
    "### Exercise 4 - Pizza Order Practice"
   ]
  },
  {
   "cell_type": "markdown",
   "id": "7b1b0717",
   "metadata": {},
   "source": [
    "- Congratulations, you've got a job at Python Pizza. Your first job is to build an automatic pizza order program.\n",
    "- Based on a user's order, work out their final bill.\n",
    "    - Small Pizza: \\\\$15\n",
    "    - Medium Pizza: \\\\$20\n",
    "    - Large Pizza: \\\\$25\n",
    "    - Pepperoni for Small Pizza: +\\\\$2\n",
    "    - Pepperoni for Medium or Large Pizza: +\\\\$3\n",
    "    - Extra cheese for any size pizza: +\\\\$1"
   ]
  },
  {
   "cell_type": "code",
   "execution_count": 40,
   "id": "a94d33c2",
   "metadata": {},
   "outputs": [],
   "source": [
    "def order_pizza(size, add_pepperoni, extra_cheese):\n",
    "    # This function is an automatic pizza order program. It ouputs the total bill based on the customer's preference.\n",
    "    bill = 0\n",
    "    if size.upper() == \"S\":\n",
    "        bill += 15\n",
    "    elif size.upper() == \"M\":\n",
    "        bill += 20\n",
    "    elif size.upper() == \"L\":\n",
    "        bill+=25\n",
    "    else:\n",
    "        return \"Please provide valid answer.\"\n",
    "    if add_pepperoni.upper() == \"Y\":\n",
    "        if size.upper() == \"S\":\n",
    "            bill += 2\n",
    "        else:\n",
    "            bill += 3\n",
    "    if extra_cheese.upper() == \"Y\":\n",
    "        bill += 1\n",
    "    \n",
    "    return bill"
   ]
  },
  {
   "cell_type": "code",
   "execution_count": 41,
   "id": "b893ef5b",
   "metadata": {},
   "outputs": [
    {
     "name": "stdout",
     "output_type": "stream",
     "text": [
      "What pizza size do you want? S, M, or L: L\n",
      "Do you want to add pepperoni? Y or N: Y\n",
      "Would you like some extra cheese? Y or N: Y\n",
      "Your final bill is 29$\n"
     ]
    }
   ],
   "source": [
    "size = input(\"What pizza size do you want? S, M, or L: \")\n",
    "add_pepperoni = input(\"Do you want to add pepperoni? Y or N: \")\n",
    "extra_cheese = input(\"Would you like some extra cheese? Y or N: \")\n",
    "bill = order_pizza(size, add_pepperoni, extra_cheese)\n",
    "print(f\"Your final bill is {bill}$\")"
   ]
  },
  {
   "cell_type": "markdown",
   "id": "935c9be6",
   "metadata": {},
   "source": [
    "**------------------------------------------------------------------------------------------------------------------------------------------------------------------------------------------------------------------**"
   ]
  },
  {
   "cell_type": "markdown",
   "id": "5c5c8b04",
   "metadata": {},
   "source": [
    "- Logical Operators\n",
    "    - and\n",
    "    - or\n",
    "    - not"
   ]
  },
  {
   "cell_type": "code",
   "execution_count": 43,
   "id": "2dfa6c80",
   "metadata": {},
   "outputs": [
    {
     "name": "stdout",
     "output_type": "stream",
     "text": [
      "Welcome to the rollercoaster!\n",
      "What is your height in cm? 170\n",
      "What is your age? 45\n",
      "Everything is going to be ok. Have a free ride!\n",
      "Do you want to add photo? Y or N: Y\n",
      "Your total bill is 3$.\n"
     ]
    }
   ],
   "source": [
    "print(\"Welcome to the rollercoaster!\")\n",
    "height = int(input(\"What is your height in cm? \"))\n",
    "age = int(input(\"What is your age? \"))\n",
    "payment = 0\n",
    "\n",
    "if height >= 120:\n",
    "    if age >= 45 and age <= 55:\n",
    "        payment = 0\n",
    "        print(\"Everything is going to be ok. Have a free ride!\")\n",
    "    elif age > 18:\n",
    "        payment = 12\n",
    "        print(\"You can ride the rollercoaster! Adult tickets are 12$.\")\n",
    "    elif age >= 12:\n",
    "        payment = 7\n",
    "        print(\"You can ride the rollercoaster! Youth tickets are 7$.\")\n",
    "    else:\n",
    "        payment = 5\n",
    "        print(\"You can ride the rollercoaster! Child tickets are 5$.\")\n",
    "    add_photo = input(\"Do you want to add photo? Y or N: \")\n",
    "    if add_photo.upper() == \"Y\":\n",
    "        payment += 3\n",
    "        print(f\"Your total bill is {payment}$.\")\n",
    "    else:\n",
    "        print(\"Invalid answer.\")\n",
    "else:\n",
    "    print(\"Sorry, you have to be taller before you can ride.\")"
   ]
  },
  {
   "cell_type": "markdown",
   "id": "7ab5998c",
   "metadata": {},
   "source": [
    "**------------------------------------------------------------------------------------------------------------------------------------------------------------------------------------------------------------------**"
   ]
  },
  {
   "cell_type": "markdown",
   "id": "a3d691ab",
   "metadata": {},
   "source": [
    "### Exercise 5 - Love Calculator"
   ]
  },
  {
   "cell_type": "markdown",
   "id": "1318d581",
   "metadata": {},
   "source": [
    "- You are going to write a program that tests the compatibility between two people.\n",
    "\n",
    "- To work out the love score between two people:\n",
    "\n",
    "    - Take both people's names and check for the number of times the letters in the word TRUE occurs. \n",
    "\n",
    "    - Then check for the number of times the letters in the word LOVE occurs. \n",
    "\n",
    "    - Then combine these numbers to make a 2 digit number."
   ]
  },
  {
   "cell_type": "markdown",
   "id": "86158fc7",
   "metadata": {},
   "source": [
    "- For Love Scores less than 10 or greater than 90, the message should be:\n",
    "    - Your score is **x**, you go together like coke and mentos.\n",
    "- For Love Scores between 40 and 50, the message should be:\n",
    "    - Your score is **y**, you are alright together.\n",
    "- Otherwise, the message will just be their score. e.g.:\n",
    "    - Your score is **z**."
   ]
  },
  {
   "cell_type": "code",
   "execution_count": 17,
   "id": "b5c0bb78",
   "metadata": {},
   "outputs": [],
   "source": [
    "def love_calculator(name1, name2):\n",
    "    # This function calculates the love compatibility of two people based on the set of criteria provided\n",
    "    name1_lower = name1.lower()\n",
    "    name2_lower = name2.lower()\n",
    "    true_count = 0\n",
    "    love_count = 0\n",
    "    for letter in \"TRUE\".lower():\n",
    "        true_count += (name1_lower + name2_lower).count(letter)\n",
    "    for letter in \"LOVE\".lower():\n",
    "        love_count += (name1_lower + name2_lower).count(letter)\n",
    "    true_love_count= int(str(true_count) + str(love_count))\n",
    "    \n",
    "    # Check interpretation\n",
    "    if true_love_count < 10 or true_love_count > 90:\n",
    "        return f\"Your score is {true_love_count}, you go together like coke and mentos.\"\n",
    "    elif true_love_count > 40 and true_love_count < 50:\n",
    "        return f\"Your score is {true_love_count}, you are alright together.\"\n",
    "    else:\n",
    "        return f\"Your score is {true_love_count}.\""
   ]
  },
  {
   "cell_type": "code",
   "execution_count": 20,
   "id": "ac8b8cd1",
   "metadata": {},
   "outputs": [
    {
     "name": "stdout",
     "output_type": "stream",
     "text": [
      "Please provide one person's name: Brad Pitt\n",
      "Please provide another name: Jennifer Aniston\n",
      "Your score is 73.\n"
     ]
    }
   ],
   "source": [
    "name1 = input(\"Please provide one person's name: \")\n",
    "name2 = input(\"Please provide another name: \")\n",
    "result = love_calculator(name1, name2)\n",
    "print(result)"
   ]
  },
  {
   "cell_type": "markdown",
   "id": "e7c92ac3",
   "metadata": {},
   "source": [
    "**------------------------------------------------------------------------------------------------------------------------------------------------------------------------------------------------------------------**"
   ]
  },
  {
   "cell_type": "markdown",
   "id": "163cbad7",
   "metadata": {},
   "source": [
    "### Project 3 - Tresure Island"
   ]
  },
  {
   "cell_type": "code",
   "execution_count": 1,
   "id": "7aa42037",
   "metadata": {},
   "outputs": [
    {
     "name": "stdout",
     "output_type": "stream",
     "text": [
      "\n",
      "*******************************************************************************\n",
      "          |                   |                  |                     |\n",
      " _________|________________.=\"\"_;=.______________|_____________________|_______\n",
      "|                   |  ,-\"_,=\"\"     `\"=.|                  |\n",
      "|___________________|__\"=._o`\"-._        `\"=.______________|___________________\n",
      "          |                `\"=._o`\"=._      _`\"=._                     |\n",
      " _________|_____________________:=._o \"=._.\"_.-=\"'\"=.__________________|_______\n",
      "|                   |    __.--\" , ; `\"=._o.\" ,-\"\"\"-._ \".   |\n",
      "|___________________|_._\"  ,. .` ` `` ,  `\"-._\"-._   \". '__|___________________\n",
      "          |           |o`\"=._` , \"` `; .\". ,  \"-._\"-._; ;              |\n",
      " _________|___________| ;`-.o`\"=._; .\" ` '`.\"\"` . \"-._ /_______________|_______\n",
      "|                   | |o;    `\"-.o`\"=._``  '` \" ,__.--o;   |\n",
      "|___________________|_| ;     (#) `-.o `\"=.`_.--\"_o.-; ;___|___________________\n",
      "____/______/______/___|o;._    \"      `\".o|o_.--\"    ;o;____/______/______/____\n",
      "/______/______/______/_\"=._o--._        ; | ;        ; ;/______/______/______/_\n",
      "____/______/______/______/__\"=._o--._   ;o|o;     _._;o;____/______/______/____\n",
      "/______/______/______/______/____\"=._o._; | ;_.--\"o.--\"_/______/______/______/_\n",
      "____/______/______/______/______/_____\"=.o|o_.--\"\"___/______/______/______/____\n",
      "/______/______/______/______/______/______/______/______/______/______/________\n",
      "*******************************************************************************\n",
      "\n",
      "Welcome to Milyastroc's Treasure Island!\n",
      "Your mission is to find the treasure.\n",
      "You suddenly wake up from a deep sleep and found yourself in the middleof nowhere. You tried to look for familiar places but you ended being stuck at a crossroad\n",
      "Where do you want to go? Type \"left\" or \"right\": right\n",
      "You arrived at a monsters' den. With nowhere to run to, you were devoured by them.\n"
     ]
    }
   ],
   "source": [
    "treasure_art = '''\n",
    "*******************************************************************************\n",
    "          |                   |                  |                     |\n",
    " _________|________________.=\"\"_;=.______________|_____________________|_______\n",
    "|                   |  ,-\"_,=\"\"     `\"=.|                  |\n",
    "|___________________|__\"=._o`\"-._        `\"=.______________|___________________\n",
    "          |                `\"=._o`\"=._      _`\"=._                     |\n",
    " _________|_____________________:=._o \"=._.\"_.-=\"'\"=.__________________|_______\n",
    "|                   |    __.--\" , ; `\"=._o.\" ,-\"\"\"-._ \".   |\n",
    "|___________________|_._\"  ,. .` ` `` ,  `\"-._\"-._   \". '__|___________________\n",
    "          |           |o`\"=._` , \"` `; .\". ,  \"-._\"-._; ;              |\n",
    " _________|___________| ;`-.o`\"=._; .\" ` '`.\"\"` . \"-._ /_______________|_______\n",
    "|                   | |o;    `\"-.o`\"=._``  '` \" ,__.--o;   |\n",
    "|___________________|_| ;     (#) `-.o `\"=.`_.--\"_o.-; ;___|___________________\n",
    "____/______/______/___|o;._    \"      `\".o|o_.--\"    ;o;____/______/______/____\n",
    "/______/______/______/_\"=._o--._        ; | ;        ; ;/______/______/______/_\n",
    "____/______/______/______/__\"=._o--._   ;o|o;     _._;o;____/______/______/____\n",
    "/______/______/______/______/____\"=._o._; | ;_.--\"o.--\"_/______/______/______/_\n",
    "____/______/______/______/______/_____\"=.o|o_.--\"\"___/______/______/______/____\n",
    "/______/______/______/______/______/______/______/______/______/______/________\n",
    "*******************************************************************************\n",
    "'''\n",
    "\n",
    "print(treasure_art)\n",
    "print(\"Welcome to Milyastroc's Treasure Island!\")\n",
    "print(\"Your mission is to find the treasure.\")\n",
    "\n",
    "# Island Adventure\n",
    "print(\"You suddenly wake up from a deep sleep and found yourself in the middle\"\n",
    "      \"of nowhere. You tried to look for familiar places but you ended being stuck \"\n",
    "      \"at a crossroad\")\n",
    "ans_1 = input('Where do you want to go? Type \"left\" or \"right\": ')\n",
    "if ans_1 == \"left\":\n",
    "    print(\"Good choice! You suddenly hear weird noises from the other direction.\")\n",
    "    ans_2 = input(\"Now you've arrived at mysteriously-looking house. Do you want to enter? \"\n",
    "                  'Type \"yes\" or \"no\": ')\n",
    "    if ans_2 == \"yes\":\n",
    "        print(\"That was close! Monsters then came from all directions. Luckily, you're safe... for now.\")\n",
    "        ans_3 = input(\"Now there's an elevator that suddenly opened. It seemed like it wants you to ride it.\"\n",
    "                      \"Upon entering, you see that there are five floors to choose from. Would you stay of go\"\n",
    "                      'higher? Please choose floor, type a number from 1-5: ')\n",
    "        if ans_3 == \"5\":\n",
    "            print(\"It's wise you went to the top. Tons of weapons and treasures await you!\")\n",
    "        else:\n",
    "            print(\"Oops! Wrong floor, you've been stabbed.\")\n",
    "    else:\n",
    "        print(\"You're now being chased by tons of monsters and you regret not entering the house for shelter.\"\n",
    "              \"This is the end for you.\")\n",
    "else:\n",
    "    print(\"You arrived at a monsters' den. With nowhere to run to, you were devoured by them.\")\n",
    "\n"
   ]
  }
 ],
 "metadata": {
  "kernelspec": {
   "display_name": "Python 3 (ipykernel)",
   "language": "python",
   "name": "python3"
  },
  "language_info": {
   "codemirror_mode": {
    "name": "ipython",
    "version": 3
   },
   "file_extension": ".py",
   "mimetype": "text/x-python",
   "name": "python",
   "nbconvert_exporter": "python",
   "pygments_lexer": "ipython3",
   "version": "3.9.13"
  }
 },
 "nbformat": 4,
 "nbformat_minor": 5
}
