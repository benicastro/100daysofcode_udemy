{
 "cells": [
  {
   "cell_type": "markdown",
   "id": "07439001",
   "metadata": {},
   "source": [
    "### Section 30: Day 30 - Intermediate - Errors, Exceptions and JSON Data: Improving the Password"
   ]
  },
  {
   "cell_type": "markdown",
   "id": "25bc3437",
   "metadata": {},
   "source": [
    "**------------------------------------------------------------------------------------------------------------------------------------------------------------------------------------------------------------------**"
   ]
  },
  {
   "cell_type": "markdown",
   "id": "9b9bf32a",
   "metadata": {},
   "source": [
    "##### Handling Errors and Exceptions"
   ]
  },
  {
   "cell_type": "code",
   "execution_count": 2,
   "id": "4e7995ed",
   "metadata": {},
   "outputs": [],
   "source": [
    "# FileNotFound\n",
    "# with open(\"a_file.txt\") as file:\n",
    "#     file.read()"
   ]
  },
  {
   "cell_type": "code",
   "execution_count": 4,
   "id": "1b2e7f16",
   "metadata": {},
   "outputs": [],
   "source": [
    "# KeyError\n",
    "# a_dictionary = {\"key\": \"value\"}\n",
    "# value = a_dictionary[\"non_existent_key\"]"
   ]
  },
  {
   "cell_type": "code",
   "execution_count": 6,
   "id": "6517a268",
   "metadata": {},
   "outputs": [],
   "source": [
    "# IndexError\n",
    "# fruit_list = [\"Apple\", \"Banana\", \"Pear\"]\n",
    "# fruit = fruit_list[3]"
   ]
  },
  {
   "cell_type": "code",
   "execution_count": 8,
   "id": "3d2047fd",
   "metadata": {},
   "outputs": [],
   "source": [
    "# TypeError\n",
    "# text = \"abc\"\n",
    "# print(text + 5)"
   ]
  },
  {
   "cell_type": "markdown",
   "id": "40f40f8f",
   "metadata": {},
   "source": [
    "**Catching Exceptions** - When something goes wrong, and in that moment we catch that exception, then it doesn't have to fail catastrophically."
   ]
  },
  {
   "cell_type": "code",
   "execution_count": null,
   "id": "53a3055c",
   "metadata": {},
   "outputs": [],
   "source": [
    "try:       # Something that might cause an exception\n",
    "    pass\n",
    "except:    # Do this if there was an exception\n",
    "    pass\n",
    "else:      # Do this if there were no exceptions\n",
    "    pass\n",
    "finally:   # Do this no matter what happens\n",
    "    pass"
   ]
  },
  {
   "cell_type": "code",
   "execution_count": 14,
   "id": "dd18a014",
   "metadata": {},
   "outputs": [
    {
     "name": "stdout",
     "output_type": "stream",
     "text": [
      "That key 'non_existent_key' does not exist.\n",
      "File was closed.\n"
     ]
    }
   ],
   "source": [
    "try:\n",
    "    file = open(\"aa_file.txt\")\n",
    "    a_dictionary = {\"key\": \"value\"}\n",
    "    value = a_dictionary[\"non_existent_key\"]\n",
    "except FileNotFoundError:\n",
    "    file = open(\"aa_file.txt\", \"w\")\n",
    "    file.write(\"Something\")\n",
    "except KeyError as error_message:\n",
    "    print(f\"That key {error_message} does not exist.\")\n",
    "else:\n",
    "    content = file.read()\n",
    "    print(content)\n",
    "finally:\n",
    "    file.close()\n",
    "    print(\"File was closed.\")"
   ]
  },
  {
   "cell_type": "markdown",
   "id": "b335ea1d",
   "metadata": {},
   "source": [
    "**------------------------------------------------------------------------------------------------------------------------------------------------------------------------------------------------------------------**"
   ]
  },
  {
   "cell_type": "markdown",
   "id": "e514aec2",
   "metadata": {},
   "source": [
    "##### Raising Exceptions"
   ]
  },
  {
   "cell_type": "code",
   "execution_count": 16,
   "id": "7bec6024",
   "metadata": {},
   "outputs": [
    {
     "name": "stdout",
     "output_type": "stream",
     "text": [
      "That key 'non_existent_key' does not exist.\n"
     ]
    },
    {
     "ename": "TypeError",
     "evalue": "This is an error that I made up.",
     "output_type": "error",
     "traceback": [
      "\u001b[1;31m---------------------------------------------------------------------------\u001b[0m",
      "\u001b[1;31mTypeError\u001b[0m                                 Traceback (most recent call last)",
      "\u001b[1;32m~\\AppData\\Local\\Temp\\ipykernel_21880\\1710952985.py\u001b[0m in \u001b[0;36m<module>\u001b[1;34m\u001b[0m\n\u001b[0;32m     12\u001b[0m     \u001b[0mprint\u001b[0m\u001b[1;33m(\u001b[0m\u001b[0mcontent\u001b[0m\u001b[1;33m)\u001b[0m\u001b[1;33m\u001b[0m\u001b[1;33m\u001b[0m\u001b[0m\n\u001b[0;32m     13\u001b[0m \u001b[1;32mfinally\u001b[0m\u001b[1;33m:\u001b[0m\u001b[1;33m\u001b[0m\u001b[1;33m\u001b[0m\u001b[0m\n\u001b[1;32m---> 14\u001b[1;33m     \u001b[1;32mraise\u001b[0m \u001b[0mTypeError\u001b[0m\u001b[1;33m(\u001b[0m\u001b[1;34m\"This is an error that I made up.\"\u001b[0m\u001b[1;33m)\u001b[0m\u001b[1;33m\u001b[0m\u001b[1;33m\u001b[0m\u001b[0m\n\u001b[0m",
      "\u001b[1;31mTypeError\u001b[0m: This is an error that I made up."
     ]
    }
   ],
   "source": [
    "try:\n",
    "    file = open(\"aa_file.txt\")\n",
    "    a_dictionary = {\"key\": \"value\"}\n",
    "    value = a_dictionary[\"non_existent_key\"]\n",
    "except FileNotFoundError:\n",
    "    open(\"aa_file.txt\", \"w\")\n",
    "    file.write(\"Something\")\n",
    "except KeyError as error_message:\n",
    "    print(f\"That key {error_message} does not exist.\")\n",
    "else:\n",
    "    content = file.read()\n",
    "    print(content)\n",
    "finally:\n",
    "    raise TypeError(\"This is an error that I made up.\")"
   ]
  },
  {
   "cell_type": "code",
   "execution_count": 19,
   "id": "69041697",
   "metadata": {},
   "outputs": [
    {
     "name": "stdout",
     "output_type": "stream",
     "text": [
      "Height: 4\n",
      "Weight: 12\n"
     ]
    },
    {
     "ename": "ValueError",
     "evalue": "Human Height should not be over 3 meters.",
     "output_type": "error",
     "traceback": [
      "\u001b[1;31m---------------------------------------------------------------------------\u001b[0m",
      "\u001b[1;31mValueError\u001b[0m                                Traceback (most recent call last)",
      "\u001b[1;32m~\\AppData\\Local\\Temp\\ipykernel_21880\\3428646100.py\u001b[0m in \u001b[0;36m<module>\u001b[1;34m\u001b[0m\n\u001b[0;32m      3\u001b[0m \u001b[1;33m\u001b[0m\u001b[0m\n\u001b[0;32m      4\u001b[0m \u001b[1;32mif\u001b[0m \u001b[0mheight\u001b[0m \u001b[1;33m>\u001b[0m \u001b[1;36m3\u001b[0m\u001b[1;33m:\u001b[0m\u001b[1;33m\u001b[0m\u001b[1;33m\u001b[0m\u001b[0m\n\u001b[1;32m----> 5\u001b[1;33m     \u001b[1;32mraise\u001b[0m \u001b[0mValueError\u001b[0m\u001b[1;33m(\u001b[0m\u001b[1;34m\"Human Height should not be over 3 meters.\"\u001b[0m\u001b[1;33m)\u001b[0m\u001b[1;33m\u001b[0m\u001b[1;33m\u001b[0m\u001b[0m\n\u001b[0m\u001b[0;32m      6\u001b[0m \u001b[1;33m\u001b[0m\u001b[0m\n\u001b[0;32m      7\u001b[0m \u001b[0mbmi\u001b[0m \u001b[1;33m=\u001b[0m \u001b[0mweight\u001b[0m \u001b[1;33m/\u001b[0m \u001b[1;33m(\u001b[0m\u001b[0mheight\u001b[0m \u001b[1;33m**\u001b[0m \u001b[1;36m2\u001b[0m\u001b[1;33m)\u001b[0m\u001b[1;33m\u001b[0m\u001b[1;33m\u001b[0m\u001b[0m\n",
      "\u001b[1;31mValueError\u001b[0m: Human Height should not be over 3 meters."
     ]
    }
   ],
   "source": [
    "height = float(input(\"Height: \"))\n",
    "weight = int(input(\"Weight: \"))\n",
    "\n",
    "if height > 3:\n",
    "    raise ValueError(\"Human Height should not be over 3 meters.\")\n",
    "\n",
    "bmi = weight / (height ** 2)\n",
    "print(bmi)"
   ]
  },
  {
   "cell_type": "markdown",
   "id": "cf91cf07",
   "metadata": {},
   "source": [
    "**------------------------------------------------------------------------------------------------------------------------------------------------------------------------------------------------------------------**"
   ]
  },
  {
   "cell_type": "markdown",
   "id": "3a88dd19",
   "metadata": {},
   "source": [
    "### Exercise 1 - IndexError Handling"
   ]
  },
  {
   "cell_type": "markdown",
   "id": "385da5ac",
   "metadata": {},
   "source": [
    "- We've got some buggy code. Try running the code. The code will crash and give you an IndexError. This is because we're looking through the list of fruits for an index that is out of range.\n",
    "\n",
    "- Use what you've learnt about exception handling to prevent the program from crashing. If the user enters something that is out of range just print a default output of \"Fruit pie\""
   ]
  },
  {
   "cell_type": "code",
   "execution_count": null,
   "id": "7bc97a1f",
   "metadata": {},
   "outputs": [],
   "source": [
    "# fruits = [\"Apple\", \"Pear\", \"Orange\"]\n",
    "\n",
    "# #TODO: Catch the exception and make sure the code runs without crashing.\n",
    "# def make_pie(index):\n",
    "#     fruit = fruits[index]\n",
    "#     print(fruit + \" pie\")\n",
    "\n",
    "\n",
    "# make_pie(4)"
   ]
  },
  {
   "cell_type": "code",
   "execution_count": 23,
   "id": "b657601b",
   "metadata": {},
   "outputs": [
    {
     "name": "stdout",
     "output_type": "stream",
     "text": [
      "Fruit pie\n"
     ]
    }
   ],
   "source": [
    "fruits = [\"Apple\", \"Pear\", \"Orange\"]\n",
    "\n",
    "def make_pie(index):\n",
    "    try:\n",
    "        fruit = fruits[index]\n",
    "    except IndexError:\n",
    "        print(\"Fruit pie\")\n",
    "    else:\n",
    "        print(fruit + \" pie\")\n",
    "\n",
    "\n",
    "make_pie(4)"
   ]
  },
  {
   "cell_type": "markdown",
   "id": "3ce093f8",
   "metadata": {},
   "source": [
    "**------------------------------------------------------------------------------------------------------------------------------------------------------------------------------------------------------------------**"
   ]
  },
  {
   "cell_type": "markdown",
   "id": "95fece53",
   "metadata": {},
   "source": [
    "### Exercise 2 - KeyError Handling"
   ]
  },
  {
   "cell_type": "markdown",
   "id": "e6e60944",
   "metadata": {},
   "source": [
    "- We've got some buggy code, try running the code. The code will crash and give you a KeyError. This is because some of the posts in the facebook_posts don't have any \"Likes\".\n",
    "\n",
    "- Use what you've learnt about exception handling to prevent the program from crashing."
   ]
  },
  {
   "cell_type": "code",
   "execution_count": null,
   "id": "55556243",
   "metadata": {},
   "outputs": [],
   "source": [
    "# facebook_posts = [\n",
    "#     {'Likes': 21, 'Comments': 2}, \n",
    "#     {'Likes': 13, 'Comments': 2, 'Shares': 1}, \n",
    "#     {'Likes': 33, 'Comments': 8, 'Shares': 3}, \n",
    "#     {'Comments': 4, 'Shares': 2}, \n",
    "#     {'Comments': 1, 'Shares': 1}, \n",
    "#     {'Likes': 19, 'Comments': 3}\n",
    "# ]\n",
    "\n",
    "# total_likes = 0\n",
    "\n",
    "# for post in facebook_posts:\n",
    "#     total_likes = total_likes + post['Likes']\n",
    "\n",
    "\n",
    "# print(total_likes)"
   ]
  },
  {
   "cell_type": "code",
   "execution_count": null,
   "id": "45573d2f",
   "metadata": {},
   "outputs": [],
   "source": [
    "facebook_posts = [\n",
    "    {'Likes': 21, 'Comments': 2}, \n",
    "    {'Likes': 13, 'Comments': 2, 'Shares': 1}, \n",
    "    {'Likes': 33, 'Comments': 8, 'Shares': 3}, \n",
    "    {'Comments': 4, 'Shares': 2}, \n",
    "    {'Comments': 1, 'Shares': 1}, \n",
    "    {'Likes': 19, 'Comments': 3}\n",
    "]\n",
    "\n",
    "total_likes = 0\n",
    "\n",
    "for post in facebook_posts:\n",
    "    try: \n",
    "        total_likes = total_likes + post['Likes']\n",
    "    except KeyError:\n",
    "        total_likes += 0\n",
    "\n",
    "print(total_likes)"
   ]
  },
  {
   "cell_type": "markdown",
   "id": "1c8c1a56",
   "metadata": {},
   "source": [
    "**------------------------------------------------------------------------------------------------------------------------------------------------------------------------------------------------------------------**"
   ]
  },
  {
   "cell_type": "markdown",
   "id": "d46f50d3",
   "metadata": {},
   "source": [
    "### Code Exercise: Exception Handling in the NATO Phonetic Alphabet Project"
   ]
  },
  {
   "cell_type": "code",
   "execution_count": null,
   "id": "24561865",
   "metadata": {},
   "outputs": [],
   "source": [
    "\"\"\"\n",
    "NATO Alphabet Project by Benedict Z. Castro | benedict.zcastro@gmail.com\n",
    "\"\"\"\n",
    "\n",
    "# Import needed modules\n",
    "import pandas as pd\n",
    "\n",
    "# Declare constants/global variables\n",
    "NATO_CSV = \"nato_phonetic_alphabet.csv\"\n",
    "\n",
    "# Import data frame from csv file and convert to a dictionary\n",
    "nato_alphabet = pd.read_csv(NATO_CSV)\n",
    "nato_dict = {row.letter: row.code for (index, row) in nato_alphabet.iterrows()}\n",
    "\n",
    "\n",
    "def main():\n",
    "\n",
    "    # Create a variable and condition asking if the user wants to use the program again\n",
    "    try_again = True\n",
    "    while try_again:\n",
    "\n",
    "        # Ask user for word input\n",
    "        invalid_input = True\n",
    "        while invalid_input:\n",
    "            user_input = input(\"Please provide a word: \").upper()\n",
    "            try:\n",
    "                user_code = [nato_dict[letter] for letter in user_input]\n",
    "            except KeyError:\n",
    "                print(\"Sorry, only letters in the alphabet please.\")\n",
    "            else:\n",
    "                invalid_input = False\n",
    "                print(user_code)\n",
    "\n",
    "        if input(\"Do you want to use the program again?: 'Yes' or 'No': \").lower() != \"yes\":\n",
    "            try_again = False\n",
    "            print(\"Thanks for you using the program. Have a nice day!\")\n",
    "\n",
    "\n",
    "# Run the project\n",
    "if __name__ == \"__main__\":\n",
    "    main() "
   ]
  },
  {
   "cell_type": "code",
   "execution_count": null,
   "id": "1b239ca9",
   "metadata": {},
   "outputs": [],
   "source": [
    "import pandas\n",
    "\n",
    "data = pandas.read_csv(\"nato_phonetic_alphabet.csv\")\n",
    "\n",
    "phonetic_dict = {row.letter: row.code for (index, row) in data.iterrows()}\n",
    "print(phonetic_dict)\n",
    "\n",
    "def generate_phonetic():\n",
    "    word = input(\"Enter a word: \").upper()\n",
    "    try:\n",
    "        output_list = [phonetic_dict[letter] for letter in word]\n",
    "    except KeyError:\n",
    "        print(\"Sorry, only letters in the alphabet please.\")\n",
    "        generate_phonetic()\n",
    "    else:\n",
    "        print(output_list)\n",
    "\n",
    "generate_phonetic()\n"
   ]
  },
  {
   "cell_type": "markdown",
   "id": "0c9d33b0",
   "metadata": {},
   "source": [
    "**------------------------------------------------------------------------------------------------------------------------------------------------------------------------------------------------------------------**"
   ]
  },
  {
   "cell_type": "markdown",
   "id": "1699f478",
   "metadata": {},
   "source": [
    "### Write, read, and update JSON data in the Password Manager"
   ]
  },
  {
   "cell_type": "markdown",
   "id": "dff6219e",
   "metadata": {},
   "source": [
    "- JavaScript Object Notation"
   ]
  },
  {
   "cell_type": "markdown",
   "id": "8ab74294",
   "metadata": {},
   "source": [
    "**------------------------------------------------------------------------------------------------------------------------------------------------------------------------------------------------------------------**"
   ]
  },
  {
   "cell_type": "code",
   "execution_count": null,
   "id": "b4bb620c",
   "metadata": {},
   "outputs": [],
   "source": [
    "\"\"\"\n",
    "Password Manager by Benedict Z. Castro | benedict.zcastro@gmail.com\n",
    "\"\"\"\n",
    "\n",
    "# Import needed modules\n",
    "from tkinter import *\n",
    "from tkinter import messagebox\n",
    "import random\n",
    "import pyperclip\n",
    "import json\n",
    "\n",
    "# Declare constants\n",
    "FONT_NAME = \"Arial\"\n",
    "\n",
    "\n",
    "# Build program functions\n",
    "def generate_pw():\n",
    "    \"\"\"This function generates a random string based on user-defined conditions as a password.\"\"\"\n",
    "    letters = ['a', 'b', 'c', 'd', 'e', 'f', 'g', 'h', 'i', 'j', 'k', 'l', 'm', 'n', 'o', 'p', 'q', 'r', 's', 't', 'u', 'v', 'w', 'x',\n",
    "               'y', 'z', 'A', 'B', 'C', 'D', 'E', 'F', 'G', 'H', 'I', 'J', 'K', 'L', 'M', 'N', 'O', 'P', 'Q', 'R', 'S', 'T', 'U', 'V',\n",
    "               'W', 'X', 'Y', 'Z']\n",
    "    numbers = ['0', '1', '2', '3', '4', '5', '6', '7', '8', '9']\n",
    "    symbols = ['!', '#', '$', '%', '&', '(', ')', '*', '+']\n",
    "\n",
    "    pw_list = [random.choice(letters) for _ in range(random.randint(8, 10))] + \\\n",
    "              [random.choice(numbers) for _ in range(random.randint(2, 4))] + \\\n",
    "              [random.choice(symbols) for _ in range(random.randint(2, 4))]\n",
    "    random.shuffle(pw_list)\n",
    "    pw_str = \"\".join(pw_list)\n",
    "\n",
    "    # Insert password\n",
    "    if pw_entry.get():\n",
    "        pw_entry.delete(0, END)\n",
    "    pw_entry.insert(0, pw_str)\n",
    "    pyperclip.copy(pw_str)\n",
    "\n",
    "\n",
    "def add_pw():\n",
    "    \"\"\"This function gets the user inputs or entries and then save to a file.\"\"\"\n",
    "    # Get entries\n",
    "    website_input = website_entry.get()\n",
    "    email_input = email_entry.get()\n",
    "    pw_input = pw_entry.get()\n",
    "    new_data = {\n",
    "        website_input.title(): {\n",
    "            \"Email\": email_input,\n",
    "            \"Password\": pw_input,\n",
    "        }\n",
    "    }\n",
    "\n",
    "    # Create a messagebox and save data\n",
    "    if website_input and email_input and pw_input:\n",
    "        try:\n",
    "            with open(\"data.json\", \"r\") as data_file:\n",
    "                data = json.load(data_file)\n",
    "        except (FileNotFoundError, json.decoder.JSONDecodeError):\n",
    "            with open(\"data.json\", \"w\") as data_file:\n",
    "                json.dump(new_data, data_file, indent=4)\n",
    "        else:\n",
    "            with open(\"data.json\", \"w\") as data_file:\n",
    "                data.update(new_data)\n",
    "                json.dump(data, data_file, indent=4)\n",
    "        finally:\n",
    "            # Delete entered data from entries\n",
    "            website_entry.delete(0, END)\n",
    "            pw_entry.delete(0, END)\n",
    "    else:\n",
    "        messagebox.showwarning(title=\"Warning!\", message=\"Please don't leave any field empty.\")\n",
    "\n",
    "\n",
    "def find_pw():\n",
    "    \"\"\"This function searches the JSON file for the password details for a given site. The details are displayed in a message box.\"\"\"\n",
    "    website_input = website_entry.get().title()\n",
    "    try:\n",
    "        with open(\"data.json\", \"r\") as data_file:\n",
    "            data = json.load(data_file)\n",
    "            email = data[website_input][\"Email\"]\n",
    "            password = data[website_input][\"Password\"]\n",
    "    except (KeyError, FileNotFoundError):\n",
    "        messagebox.showwarning(title=\"Oops!\", message=f\"There are no saved details for {website_input}. Please provide a valid one.\")\n",
    "    else:\n",
    "        messagebox.showinfo(title=f\"Password Details for {website_input}\",\n",
    "                            message=f\"Email: {email} \\nPassword: {password}\")\n",
    "\n",
    "\n",
    "# UI Setup\n",
    "window = Tk()\n",
    "window.title(\"0xAstroc's Password Manager\")\n",
    "window.minsize(height=450, width=550)\n",
    "window.maxsize(height=450, width=550)\n",
    "window.config(padx=50, pady=50)\n",
    "\n",
    "# Create Canvas\n",
    "canvas = Canvas(width=200, height=200)\n",
    "logo_img = PhotoImage(file=\"logo.png\")\n",
    "canvas.create_image(100, 100, image=logo_img)\n",
    "canvas.pack()\n",
    "\n",
    "# Create Labels\n",
    "website_label = Label(text=\"Website:\")\n",
    "website_label.place(x=0, y=200)\n",
    "email_label = Label(text=\"Email/Username:\")\n",
    "email_label.place(x=0, y=235)\n",
    "pw_label = Label(text=\"Password:\")\n",
    "pw_label.place(x=0, y=270)\n",
    "\n",
    "# Create Entries\n",
    "website_entry = Entry(width=25)\n",
    "website_entry.focus()\n",
    "website_entry.place(x=125, y=200)\n",
    "email_entry = Entry(width=45)\n",
    "email_entry.insert(0, \"benedict.zcastro@gmail.com\")\n",
    "email_entry.place(x=125, y=235)\n",
    "pw_entry = Entry(width=25)\n",
    "pw_entry.place(x=125, y=270)\n",
    "\n",
    "# Create Buttons\n",
    "search_button = Button(text=\"Search\", width=16, relief=RIDGE, command=find_pw)\n",
    "search_button.place(x=320, y=195)\n",
    "generate_button = Button(text=\"Generate Password\", width=16, relief=RIDGE, command=generate_pw)\n",
    "generate_button.place(x=320, y=265)\n",
    "add_button = Button(text=\"Add\", width=45, relief=RIDGE, command=add_pw)\n",
    "add_button.place(x=125, y=305)\n",
    "\n",
    "# Keep screen open\n",
    "window.mainloop()\n"
   ]
  },
  {
   "cell_type": "markdown",
   "id": "4e86d9b5",
   "metadata": {},
   "source": [
    "**------------------------------------------------------------------------------------------------------------------------------------------------------------------------------------------------------------------**"
   ]
  },
  {
   "cell_type": "code",
   "execution_count": null,
   "id": "1497a090",
   "metadata": {},
   "outputs": [],
   "source": [
    "from tkinter import *\n",
    "from tkinter import messagebox\n",
    "from random import choice, randint, shuffle\n",
    "import pyperclip\n",
    "import json\n",
    "\n",
    "# ---------------------------- PASSWORD GENERATOR ------------------------------- #\n",
    "\n",
    "#Password Generator Project\n",
    "def generate_password():\n",
    "    letters = ['a', 'b', 'c', 'd', 'e', 'f', 'g', 'h', 'i', 'j', 'k', 'l', 'm', 'n', 'o', 'p', 'q', 'r', 's', 't', 'u', 'v', 'w', 'x', 'y', 'z', 'A', 'B', 'C', 'D', 'E', 'F', 'G', 'H', 'I', 'J', 'K', 'L', 'M', 'N', 'O', 'P', 'Q', 'R', 'S', 'T', 'U', 'V', 'W', 'X', 'Y', 'Z']\n",
    "    numbers = ['0', '1', '2', '3', '4', '5', '6', '7', '8', '9']\n",
    "    symbols = ['!', '#', '$', '%', '&', '(', ')', '*', '+']\n",
    "\n",
    "    password_letters = [choice(letters) for _ in range(randint(8, 10))]\n",
    "    password_symbols = [choice(symbols) for _ in range(randint(2, 4))]\n",
    "    password_numbers = [choice(numbers) for _ in range(randint(2, 4))]\n",
    "\n",
    "    password_list = password_letters + password_symbols + password_numbers\n",
    "    shuffle(password_list)\n",
    "\n",
    "    password = \"\".join(password_list)\n",
    "    password_entry.insert(0, password)\n",
    "    pyperclip.copy(password)\n",
    "\n",
    "# ---------------------------- SAVE PASSWORD ------------------------------- #\n",
    "def save():\n",
    "\n",
    "    website = website_entry.get()\n",
    "    email = email_entry.get()\n",
    "    password = password_entry.get()\n",
    "    new_data = {\n",
    "        website: {\n",
    "            \"email\": email,\n",
    "            \"password\": password,\n",
    "        }\n",
    "    }\n",
    "\n",
    "    if len(website) == 0 or len(password) == 0:\n",
    "        messagebox.showinfo(title=\"Oops\", message=\"Please make sure you haven't left any fields empty.\")\n",
    "    else:\n",
    "        try:\n",
    "            with open(\"data.json\", \"r\") as data_file:\n",
    "                #Reading old data\n",
    "                data = json.load(data_file)\n",
    "        except FileNotFoundError:\n",
    "            with open(\"data.json\", \"w\") as data_file:\n",
    "                json.dump(new_data, data_file, indent=4)\n",
    "        else:\n",
    "            #Updating old data with new data\n",
    "            data.update(new_data)\n",
    "\n",
    "            with open(\"data.json\", \"w\") as data_file:\n",
    "                #Saving updated data\n",
    "                json.dump(data, data_file, indent=4)\n",
    "        finally:\n",
    "            website_entry.delete(0, END)\n",
    "            password_entry.delete(0, END)\n",
    "\n",
    "\n",
    "# ---------------------------- FIND PASSWORD ------------------------------- #\n",
    "def find_password():\n",
    "    website = website_entry.get()\n",
    "    try:\n",
    "        with open(\"data.json\") as data_file:\n",
    "            data = json.load(data_file)\n",
    "    except FileNotFoundError:\n",
    "        messagebox.showinfo(title=\"Error\", message=\"No Data File Found.\")\n",
    "    else:\n",
    "        if website in data:\n",
    "            email = data[website][\"email\"]\n",
    "            password = data[website][\"password\"]\n",
    "            messagebox.showinfo(title=website, message=f\"Email: {email}\\nPassword: {password}\")\n",
    "        else:\n",
    "            messagebox.showinfo(title=\"Error\", message=f\"No details for {website} exists.\")\n",
    "\n",
    "\n",
    "# ---------------------------- UI SETUP ------------------------------- #\n",
    "\n",
    "window = Tk()\n",
    "window.title(\"Password Manager\")\n",
    "window.config(padx=50, pady=50)\n",
    "\n",
    "canvas = Canvas(height=200, width=200)\n",
    "logo_img = PhotoImage(file=\"logo.png\")\n",
    "canvas.create_image(100, 100, image=logo_img)\n",
    "canvas.grid(row=0, column=1)\n",
    "\n",
    "#Labels\n",
    "website_label = Label(text=\"Website:\")\n",
    "website_label.grid(row=1, column=0)\n",
    "email_label = Label(text=\"Email/Username:\")\n",
    "email_label.grid(row=2, column=0)\n",
    "password_label = Label(text=\"Password:\")\n",
    "password_label.grid(row=3, column=0)\n",
    "\n",
    "#Entries\n",
    "website_entry = Entry(width=21)\n",
    "website_entry.grid(row=1, column=1)\n",
    "website_entry.focus()\n",
    "email_entry = Entry(width=35)\n",
    "email_entry.grid(row=2, column=1, columnspan=2)\n",
    "email_entry.insert(0, \"angela@gmail.com\")\n",
    "password_entry = Entry(width=21)\n",
    "password_entry.grid(row=3, column=1)\n",
    "\n",
    "# Buttons\n",
    "search_button = Button(text=\"Search\", width=13, command=find_password)\n",
    "search_button.grid(row=1, column=2)\n",
    "generate_password_button = Button(text=\"Generate Password\", command=generate_password)\n",
    "generate_password_button.grid(row=3, column=2)\n",
    "add_button = Button(text=\"Add\", width=36, command=save)\n",
    "add_button.grid(row=4, column=1, columnspan=2)\n",
    "\n",
    "window.mainloop()"
   ]
  }
 ],
 "metadata": {
  "kernelspec": {
   "display_name": "Python 3 (ipykernel)",
   "language": "python",
   "name": "python3"
  },
  "language_info": {
   "codemirror_mode": {
    "name": "ipython",
    "version": 3
   },
   "file_extension": ".py",
   "mimetype": "text/x-python",
   "name": "python",
   "nbconvert_exporter": "python",
   "pygments_lexer": "ipython3",
   "version": "3.9.13"
  }
 },
 "nbformat": 4,
 "nbformat_minor": 5
}
