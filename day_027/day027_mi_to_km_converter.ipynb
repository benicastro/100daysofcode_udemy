{
 "cells": [
  {
   "cell_type": "markdown",
   "id": "0376deaa",
   "metadata": {},
   "source": [
    "### Section 27: Day 27 - Intermediate - Tkinter, \\*args, \\**kwargs, and Creating GUI Programs"
   ]
  },
  {
   "cell_type": "markdown",
   "id": "6aecdd04",
   "metadata": {},
   "source": [
    "**------------------------------------------------------------------------------------------------------------------------------------------------------------------------------------------------------------------**"
   ]
  },
  {
   "cell_type": "markdown",
   "id": "4be464d6",
   "metadata": {},
   "source": [
    "- GUI - Graphical User Interface"
   ]
  },
  {
   "cell_type": "code",
   "execution_count": 1,
   "id": "ba130bea",
   "metadata": {},
   "outputs": [],
   "source": [
    "import tkinter"
   ]
  },
  {
   "cell_type": "code",
   "execution_count": 15,
   "id": "8f2963b2",
   "metadata": {},
   "outputs": [],
   "source": [
    "window = tkinter.Tk()\n",
    "\n",
    "window.title(\"0xAstroc GUI Program\")\n",
    "window.minsize(width=500, height=300)\n",
    "\n",
    "# Label\n",
    "\n",
    "my_label = tkinter.Label(text=\"Hello, World!\", font=(\"Arial\", 24, \"bold\"))\n",
    "my_label.pack(side=\"left\")\n",
    "\n",
    "window.mainloop()"
   ]
  },
  {
   "cell_type": "markdown",
   "id": "9b8e1dc4",
   "metadata": {},
   "source": [
    "**------------------------------------------------------------------------------------------------------------------------------------------------------------------------------------------------------------------**"
   ]
  },
  {
   "cell_type": "markdown",
   "id": "86e526e7",
   "metadata": {},
   "source": [
    "### Setting Default Values for Optional Arguments inside a Function Header"
   ]
  },
  {
   "cell_type": "markdown",
   "id": "8a3591bf",
   "metadata": {},
   "source": [
    "- Advanced Python Arguments\n",
    "- Default Arguments"
   ]
  },
  {
   "cell_type": "markdown",
   "id": "568b43bc",
   "metadata": {},
   "source": [
    "**------------------------------------------------------------------------------------------------------------------------------------------------------------------------------------------------------------------**"
   ]
  },
  {
   "cell_type": "markdown",
   "id": "fc7bbcfc",
   "metadata": {},
   "source": [
    "### Quiz 14: Default Values Quiz"
   ]
  },
  {
   "cell_type": "markdown",
   "id": "2a5e9821",
   "metadata": {},
   "source": [
    "1. What is the output of this code? "
   ]
  },
  {
   "cell_type": "code",
   "execution_count": 18,
   "id": "0e590feb",
   "metadata": {},
   "outputs": [
    {
     "name": "stdout",
     "output_type": "stream",
     "text": [
      "1 4 6\n"
     ]
    }
   ],
   "source": [
    "def foo(a, b=4, c=6): \n",
    "    print(a, b, c)\n",
    " \n",
    "foo(1)"
   ]
  },
  {
   "cell_type": "markdown",
   "id": "9bad0c09",
   "metadata": {},
   "source": [
    "2. What is the output of this code?"
   ]
  },
  {
   "cell_type": "code",
   "execution_count": 19,
   "id": "5b7baf6e",
   "metadata": {},
   "outputs": [
    {
     "name": "stdout",
     "output_type": "stream",
     "text": [
      "4 9 6\n"
     ]
    }
   ],
   "source": [
    "def foo(a, b=4, c=6): \n",
    "    print(a, b, c)\n",
    " \n",
    "foo(4, 9)"
   ]
  },
  {
   "cell_type": "markdown",
   "id": "668f8e1f",
   "metadata": {},
   "source": [
    "3. What is the output of this code?"
   ]
  },
  {
   "cell_type": "code",
   "execution_count": 20,
   "id": "711487fd",
   "metadata": {},
   "outputs": [
    {
     "name": "stdout",
     "output_type": "stream",
     "text": [
      "1 7 9\n"
     ]
    }
   ],
   "source": [
    "def foo(a, b=4, c=6): \n",
    "    print(a, b, c)\n",
    " \n",
    "foo(1, 7, 9)"
   ]
  },
  {
   "cell_type": "markdown",
   "id": "c3d586a0",
   "metadata": {},
   "source": [
    "4. What is the output of this code?"
   ]
  },
  {
   "cell_type": "code",
   "execution_count": 21,
   "id": "7358c499",
   "metadata": {},
   "outputs": [
    {
     "name": "stdout",
     "output_type": "stream",
     "text": [
      "20 4 6\n"
     ]
    }
   ],
   "source": [
    "def foo(a, b=4, c=6):\n",
    "    print(a, b, c)\n",
    " \n",
    "foo(20, c=6)"
   ]
  },
  {
   "cell_type": "markdown",
   "id": "177b5a6a",
   "metadata": {},
   "source": [
    "**------------------------------------------------------------------------------------------------------------------------------------------------------------------------------------------------------------------**"
   ]
  },
  {
   "cell_type": "markdown",
   "id": "3363bec8",
   "metadata": {},
   "source": [
    "### \\*args: Many Positional Arguments"
   ]
  },
  {
   "cell_type": "markdown",
   "id": "1d9e7ea1",
   "metadata": {},
   "source": [
    "- Unlimited Arguments"
   ]
  },
  {
   "cell_type": "code",
   "execution_count": 22,
   "id": "f65fa3f2",
   "metadata": {},
   "outputs": [],
   "source": [
    "def add(*args):\n",
    "    sum = 0\n",
    "    for num in args:\n",
    "        sum += num\n",
    "    print(sum)\n",
    "        "
   ]
  },
  {
   "cell_type": "code",
   "execution_count": 23,
   "id": "45a36d55",
   "metadata": {},
   "outputs": [
    {
     "name": "stdout",
     "output_type": "stream",
     "text": [
      "19\n"
     ]
    }
   ],
   "source": [
    "add(5, 7, 7)"
   ]
  },
  {
   "cell_type": "markdown",
   "id": "b16e1c27",
   "metadata": {},
   "source": [
    "### \\**kwargs: Many Keyword Arguments"
   ]
  },
  {
   "cell_type": "code",
   "execution_count": 28,
   "id": "023efe18",
   "metadata": {},
   "outputs": [],
   "source": [
    "def calculate(n, **kwargs):\n",
    "    n += kwargs[\"add\"]\n",
    "    n *= kwargs[\"multiply\"]\n",
    "    return n\n",
    "    "
   ]
  },
  {
   "cell_type": "code",
   "execution_count": 29,
   "id": "fb0669a9",
   "metadata": {},
   "outputs": [
    {
     "name": "stdout",
     "output_type": "stream",
     "text": [
      "25\n"
     ]
    }
   ],
   "source": [
    "print(calculate(2, add=3, multiply=5))"
   ]
  },
  {
   "cell_type": "code",
   "execution_count": 32,
   "id": "7109a627",
   "metadata": {},
   "outputs": [],
   "source": [
    "class Car:\n",
    "    def __init__(self, **kw):\n",
    "        self.make = kw.get(\"make\")\n",
    "        self.model = kw.get(\"model\")\n",
    "        self.colour = kw.get(\"color\")\n",
    "        self.seats = kw.get(\"seats\")\n",
    "#         self.make = kw[\"make\"]\n",
    "#         self.model = kw[\"model\"]"
   ]
  },
  {
   "cell_type": "code",
   "execution_count": 31,
   "id": "31bdf715",
   "metadata": {},
   "outputs": [],
   "source": [
    "my_car = Car(make=\"Nissan\", model=\"GT-R\")"
   ]
  },
  {
   "cell_type": "markdown",
   "id": "4fbd1a9c",
   "metadata": {},
   "source": [
    "**------------------------------------------------------------------------------------------------------------------------------------------------------------------------------------------------------------------**"
   ]
  },
  {
   "cell_type": "markdown",
   "id": "fca24dbc",
   "metadata": {},
   "source": [
    "### Quiz 15: Optional Arguments, *args and **kwargs Quiz"
   ]
  },
  {
   "cell_type": "markdown",
   "id": "8c13c2c4",
   "metadata": {},
   "source": [
    "1. What is the output of this code?"
   ]
  },
  {
   "cell_type": "code",
   "execution_count": 33,
   "id": "ee697f57",
   "metadata": {},
   "outputs": [
    {
     "name": "stdout",
     "output_type": "stream",
     "text": [
      "1 2 yes please! 0\n"
     ]
    }
   ],
   "source": [
    "def bar(spam, eggs, toast='yes please!', ham=0):\n",
    "    print(spam, eggs, toast, ham)\n",
    " \n",
    "bar(1, 2)"
   ]
  },
  {
   "cell_type": "markdown",
   "id": "e7661ef5",
   "metadata": {},
   "source": [
    "2. What is the output of this code?"
   ]
  },
  {
   "cell_type": "code",
   "execution_count": 34,
   "id": "2531007f",
   "metadata": {},
   "outputs": [
    {
     "name": "stdout",
     "output_type": "stream",
     "text": [
      "4 2 nah 0\n"
     ]
    }
   ],
   "source": [
    "def bar(spam, eggs, toast='yes please!', ham=0):\n",
    "    print(spam, eggs, toast, ham)\n",
    " \n",
    "bar(toast='nah', spam=4, eggs=2)"
   ]
  },
  {
   "cell_type": "markdown",
   "id": "ff73ba65",
   "metadata": {},
   "source": [
    "3. What is the data type of args?"
   ]
  },
  {
   "cell_type": "code",
   "execution_count": 37,
   "id": "9211f49b",
   "metadata": {},
   "outputs": [
    {
     "name": "stdout",
     "output_type": "stream",
     "text": [
      "(1, 2, 3, 5)\n",
      "<class 'tuple'>\n"
     ]
    }
   ],
   "source": [
    "def test(*args):\n",
    "    print(args)\n",
    "    print(type(args))\n",
    " \n",
    "test(1,2,3,5)\n"
   ]
  },
  {
   "cell_type": "markdown",
   "id": "87e75249",
   "metadata": {},
   "source": [
    "4. What is the output of this code?"
   ]
  },
  {
   "cell_type": "code",
   "execution_count": 38,
   "id": "2c297a55",
   "metadata": {},
   "outputs": [
    {
     "name": "stdout",
     "output_type": "stream",
     "text": [
      "(1, 2, 3, 5)\n"
     ]
    }
   ],
   "source": [
    "def test(*args):\n",
    "    print(args)\n",
    " \n",
    "test(1,2,3,5)"
   ]
  },
  {
   "cell_type": "markdown",
   "id": "eb4d7a6f",
   "metadata": {},
   "source": [
    "5. What is the output of this code?"
   ]
  },
  {
   "cell_type": "code",
   "execution_count": 39,
   "id": "3b952920",
   "metadata": {},
   "outputs": [
    {
     "name": "stdout",
     "output_type": "stream",
     "text": [
      "4 (7, 3, 0) {'x': 10, 'y': 64}\n"
     ]
    }
   ],
   "source": [
    "def all_aboard(a, *args, **kw): \n",
    "    print(a, args, kw)\n",
    " \n",
    "all_aboard(4, 7, 3, 0, x=10, y=64)"
   ]
  },
  {
   "cell_type": "markdown",
   "id": "b59b8c03",
   "metadata": {},
   "source": [
    "**------------------------------------------------------------------------------------------------------------------------------------------------------------------------------------------------------------------**"
   ]
  },
  {
   "cell_type": "markdown",
   "id": "5756736a",
   "metadata": {},
   "source": [
    "### Buttons, Entry, and Setting Component Options"
   ]
  },
  {
   "cell_type": "code",
   "execution_count": 53,
   "id": "2ee7cd7b",
   "metadata": {},
   "outputs": [],
   "source": [
    "from tkinter import *"
   ]
  },
  {
   "cell_type": "code",
   "execution_count": 55,
   "id": "a923464f",
   "metadata": {},
   "outputs": [],
   "source": [
    "window = Tk()\n",
    "\n",
    "window.title(\"0xAstroc GUI Program\")\n",
    "window.minsize(width=500, height=300)\n",
    "\n",
    "# Label\n",
    "\n",
    "my_label = Label(text=\"Hello, World!\", font=(\"Arial\", 24, \"bold\"))\n",
    "my_label.pack()\n",
    "\n",
    "# Entry\n",
    "\n",
    "input = Entry(width=27)\n",
    "input.pack()\n",
    "\n",
    "# Button\n",
    "\n",
    "def button_clicked():\n",
    "    text_input = input.get()\n",
    "    my_label[\"text\"] = text_input\n",
    "    \n",
    "button = Button(text=\"Click Me\", command=button_clicked)\n",
    "button.pack()\n",
    "\n",
    "\n",
    "\n",
    "\n",
    "\n",
    "\n",
    "\n",
    "\n",
    "\n",
    "window.mainloop()"
   ]
  },
  {
   "cell_type": "markdown",
   "id": "b8e59cec",
   "metadata": {},
   "source": [
    "**------------------------------------------------------------------------------------------------------------------------------------------------------------------------------------------------------------------**"
   ]
  },
  {
   "cell_type": "markdown",
   "id": "1e07cc78",
   "metadata": {},
   "source": [
    "### Other Tkinter Widgets: Radiobuttons, Scales, Checkbuttons, and more"
   ]
  },
  {
   "cell_type": "code",
   "execution_count": 59,
   "id": "a4ce8206",
   "metadata": {},
   "outputs": [
    {
     "name": "stdout",
     "output_type": "stream",
     "text": [
      "Some text to begin with.\n",
      "Example of multi-line text entry.\n",
      "\n",
      "Do something\n",
      "Do something\n",
      "1\n",
      "2\n",
      "3\n",
      "4\n",
      "5\n",
      "6\n",
      "7\n",
      "8\n",
      "9\n",
      "10\n",
      "10\n",
      "1\n",
      "3\n",
      "4\n",
      "7\n",
      "9\n",
      "10\n",
      "12\n",
      "15\n",
      "16\n",
      "18\n",
      "19\n",
      "22\n",
      "24\n",
      "25\n",
      "28\n",
      "29\n",
      "31\n",
      "32\n",
      "35\n",
      "37\n",
      "38\n",
      "40\n",
      "43\n",
      "44\n",
      "46\n",
      "47\n",
      "50\n",
      "51\n",
      "53\n",
      "56\n",
      "57\n",
      "59\n",
      "60\n",
      "63\n",
      "65\n",
      "66\n",
      "68\n",
      "71\n",
      "72\n",
      "74\n",
      "75\n",
      "78\n",
      "79\n",
      "81\n",
      "84\n",
      "85\n",
      "87\n",
      "88\n",
      "91\n",
      "93\n",
      "94\n",
      "96\n",
      "99\n",
      "100\n",
      "97\n",
      "96\n",
      "94\n",
      "Pear\n"
     ]
    }
   ],
   "source": [
    "from tkinter import *\n",
    "\n",
    "#Creating a new window and configurations\n",
    "window = Tk()\n",
    "window.title(\"Widget Examples\")\n",
    "window.minsize(width=500, height=500)\n",
    "\n",
    "#Labels\n",
    "label = Label(text=\"This is old text\")\n",
    "label.config(text=\"This is new text\")\n",
    "label.pack()\n",
    "\n",
    "#Buttons\n",
    "def action():\n",
    "    print(\"Do something\")\n",
    "\n",
    "#calls action() when pressed\n",
    "button = Button(text=\"Click Me\", command=action)\n",
    "button.pack()\n",
    "\n",
    "#Entries\n",
    "entry = Entry(width=30)\n",
    "#Add some text to begin with\n",
    "entry.insert(END, string=\"Some text to begin with.\")\n",
    "#Gets text in entry\n",
    "print(entry.get())\n",
    "entry.pack()\n",
    "\n",
    "#Text\n",
    "text = Text(height=5, width=30)\n",
    "#Puts cursor in textbox.\n",
    "text.focus()\n",
    "#Adds some text to begin with.\n",
    "text.insert(END, \"Example of multi-line text entry.\")\n",
    "#Get's current value in textbox at line 1, character 0\n",
    "print(text.get(\"1.0\", END))\n",
    "text.pack()\n",
    "\n",
    "#Spinbox\n",
    "def spinbox_used():\n",
    "    #gets the current value in spinbox.\n",
    "    print(spinbox.get())\n",
    "spinbox = Spinbox(from_=0, to=10, width=5, command=spinbox_used)\n",
    "spinbox.pack()\n",
    "\n",
    "#Scale\n",
    "#Called with current scale value.\n",
    "def scale_used(value):\n",
    "    print(value)\n",
    "scale = Scale(from_=0, to=100, command=scale_used)\n",
    "scale.pack()\n",
    "\n",
    "#Checkbutton\n",
    "def checkbutton_used():\n",
    "    #Prints 1 if On button checked, otherwise 0.\n",
    "    print(checked_state.get())\n",
    "#variable to hold on to checked state, 0 is off, 1 is on.\n",
    "checked_state = IntVar()\n",
    "checkbutton = Checkbutton(text=\"Is On?\", variable=checked_state, command=checkbutton_used)\n",
    "checked_state.get()\n",
    "checkbutton.pack()\n",
    "\n",
    "#Radiobutton\n",
    "def radio_used():\n",
    "    print(radio_state.get())\n",
    "#Variable to hold on to which radio button value is checked.\n",
    "radio_state = IntVar()\n",
    "radiobutton1 = Radiobutton(text=\"Option1\", value=1, variable=radio_state, command=radio_used)\n",
    "radiobutton2 = Radiobutton(text=\"Option2\", value=2, variable=radio_state, command=radio_used)\n",
    "radiobutton1.pack()\n",
    "radiobutton2.pack()\n",
    "\n",
    "\n",
    "#Listbox\n",
    "def listbox_used(event):\n",
    "    # Gets current selection from listbox\n",
    "    print(listbox.get(listbox.curselection()))\n",
    "\n",
    "listbox = Listbox(height=4)\n",
    "fruits = [\"Apple\", \"Pear\", \"Orange\", \"Banana\"]\n",
    "for item in fruits:\n",
    "    listbox.insert(fruits.index(item), item)\n",
    "listbox.bind(\"<<ListboxSelect>>\", listbox_used)\n",
    "listbox.pack()\n",
    "window.mainloop()"
   ]
  },
  {
   "cell_type": "markdown",
   "id": "53965f8c",
   "metadata": {},
   "source": [
    "**------------------------------------------------------------------------------------------------------------------------------------------------------------------------------------------------------------------**"
   ]
  },
  {
   "cell_type": "markdown",
   "id": "44a5525b",
   "metadata": {},
   "source": [
    "### Tkinter Layout Managers"
   ]
  },
  {
   "cell_type": "markdown",
   "id": "b7bff263",
   "metadata": {},
   "source": [
    "##### Pack"
   ]
  },
  {
   "cell_type": "code",
   "execution_count": 60,
   "id": "e003d490",
   "metadata": {},
   "outputs": [
    {
     "name": "stdout",
     "output_type": "stream",
     "text": [
      "\n"
     ]
    }
   ],
   "source": [
    "from tkinter import *\n",
    "\n",
    "def button_clicked():\n",
    "    print(\"I got clicked.\")\n",
    "    text_input = input.get()\n",
    "    my_label[\"text\"] = text_input\n",
    "    \n",
    "window = Tk()\n",
    "window.title(\"0xAstroc GUI Program\")\n",
    "window.minsize(width=500, height=300)\n",
    "\n",
    "# Label\n",
    "my_label = Label(text=\"Hello, World!\", font=(\"Arial\", 24, \"bold\"))\n",
    "my_label.pack()\n",
    "\n",
    "# Button\n",
    "button = Button(text=\"Click Me\", command=button_clicked)\n",
    "button.pack()\n",
    "\n",
    "# Entry\n",
    "input = Entry(width=10)\n",
    "print(input.get())\n",
    "input.pack()\n",
    "\n",
    "\n",
    "\n",
    "\n",
    "\n",
    "\n",
    "\n",
    "\n",
    "\n",
    "window.mainloop()"
   ]
  },
  {
   "cell_type": "markdown",
   "id": "6c6b3d35",
   "metadata": {},
   "source": [
    "##### Place"
   ]
  },
  {
   "cell_type": "code",
   "execution_count": 70,
   "id": "deb87ec1",
   "metadata": {},
   "outputs": [
    {
     "name": "stdout",
     "output_type": "stream",
     "text": [
      "\n"
     ]
    }
   ],
   "source": [
    "from tkinter import *\n",
    "\n",
    "def button_clicked():\n",
    "    print(\"I got clicked.\")\n",
    "    text_input = input.get()\n",
    "    my_label[\"text\"] = text_input\n",
    "    \n",
    "window = Tk()\n",
    "window.title(\"0xAstroc GUI Program\")\n",
    "window.minsize(width=500, height=300)\n",
    "\n",
    "# Label\n",
    "my_label = Label(text=\"Hello, World!\", font=(\"Arial\", 24, \"bold\"))\n",
    "my_label.place(x=100, y=200)\n",
    "\n",
    "# Button\n",
    "button = Button(text=\"Click Me\", command=button_clicked)\n",
    "button.pack()\n",
    "\n",
    "# Entry\n",
    "input = Entry(width=10)\n",
    "print(input.get())\n",
    "input.pack()\n",
    "\n",
    "\n",
    "\n",
    "\n",
    "\n",
    "\n",
    "\n",
    "\n",
    "\n",
    "window.mainloop()"
   ]
  },
  {
   "cell_type": "markdown",
   "id": "37ae972e",
   "metadata": {},
   "source": [
    "##### Grid"
   ]
  },
  {
   "cell_type": "code",
   "execution_count": 69,
   "id": "41bed301",
   "metadata": {},
   "outputs": [
    {
     "name": "stdout",
     "output_type": "stream",
     "text": [
      "\n"
     ]
    }
   ],
   "source": [
    "from tkinter import *\n",
    "\n",
    "def button_clicked():\n",
    "    print(\"I got clicked.\")\n",
    "    text_input = input.get()\n",
    "    my_label[\"text\"] = text_input\n",
    "    \n",
    "window = Tk()\n",
    "window.title(\"0xAstroc GUI Program\")\n",
    "window.minsize(width=500, height=300)\n",
    "\n",
    "# Label\n",
    "my_label = Label(text=\"Hello, World!\", font=(\"Arial\", 24, \"bold\"))\n",
    "my_label.grid(column=0, row=0)\n",
    "\n",
    "# Entry\n",
    "input = Entry(width=10)\n",
    "print(input.get())\n",
    "input.grid(column=1, row=1)\n",
    "\n",
    "# Button\n",
    "button = Button(text=\"Click Me\", command=button_clicked)\n",
    "button.grid(column=2, row=2)\n",
    "\n",
    "\n",
    "\n",
    "window.mainloop()"
   ]
  },
  {
   "cell_type": "markdown",
   "id": "207ebffe",
   "metadata": {},
   "source": [
    "##### Challenge"
   ]
  },
  {
   "cell_type": "code",
   "execution_count": 1,
   "id": "7874e08a",
   "metadata": {},
   "outputs": [
    {
     "name": "stdout",
     "output_type": "stream",
     "text": [
      "\n"
     ]
    }
   ],
   "source": [
    "from tkinter import *\n",
    "\n",
    "def button_clicked():\n",
    "    print(\"I got clicked.\")\n",
    "    text_input = input.get()\n",
    "    my_label[\"text\"] = text_input\n",
    "    \n",
    "window = Tk()\n",
    "window.title(\"0xAstroc GUI Program\")\n",
    "window.minsize(width=500, height=300)\n",
    "window.config(padx=100, pady=200)\n",
    "\n",
    "# Label\n",
    "my_label = Label(text=\"Hello, World!\", font=(\"Arial\", 24, \"bold\"))\n",
    "my_label.grid(column=0, row=0)\n",
    "\n",
    "# Button\n",
    "button1 = Button(text=\"Click Me\", command=button_clicked)\n",
    "button1.grid(column=1, row=1)\n",
    "button2 = Button(text=\"Click Me Again\", command=button_clicked)\n",
    "button2.grid(column=2, row=0)\n",
    "\n",
    "# Entry\n",
    "input = Entry(width=10)\n",
    "print(input.get())\n",
    "input.grid(column=3, row=2)\n",
    "\n",
    "\n",
    "\n",
    "\n",
    "\n",
    "\n",
    "\n",
    "\n",
    "\n",
    "\n",
    "window.mainloop()"
   ]
  },
  {
   "cell_type": "markdown",
   "id": "92483888",
   "metadata": {},
   "source": [
    "**------------------------------------------------------------------------------------------------------------------------------------------------------------------------------------------------------------------**"
   ]
  },
  {
   "cell_type": "markdown",
   "id": "38b2ec3f",
   "metadata": {},
   "source": [
    "### Miles to Kilometers Converter Project"
   ]
  },
  {
   "cell_type": "code",
   "execution_count": null,
   "id": "d1cea74b",
   "metadata": {},
   "outputs": [],
   "source": [
    "\"\"\"\n",
    "Miles to Kilometers Converter Project by Benedict Z. Castro | benedict.zcastro@gmail.com\n",
    "\"\"\"\n",
    "\n",
    "# Import needed module(s)\n",
    "from tkinter import *\n",
    "\n",
    "# Declare constants/global variables\n",
    "FONT = (\"Arial\", 11, \"normal\")\n",
    "\n",
    "\n",
    "def main():\n",
    "\n",
    "    def convert():\n",
    "        \"\"\"Converts the given miles value to kilometers.\"\"\"\n",
    "        mi_input = float(user_input.get())\n",
    "        print(type(mi_input))\n",
    "        km = mi_input * 1.609\n",
    "        ans_label.config(text=f\"{km}\")\n",
    "\n",
    "    # Configure window\n",
    "    window = Tk()\n",
    "    window.title(\"0xAstroc's Miles to Kilometers Converter\")\n",
    "    # window.minsize(width=450, height=150)\n",
    "    window.config(padx=20, pady=20)\n",
    "\n",
    "    # Create Label objects\n",
    "    mi_label = Label(text=\"Miles\", font=FONT)\n",
    "    km_label = Label(text=\"Kilometers\", font=FONT)\n",
    "    eq_label = Label(text=\"is equal to\", font=FONT)\n",
    "    ans_label = Label(text=\"0\", font=FONT)\n",
    "\n",
    "    # Create a Button object\n",
    "    button = Button(text=\"Calculate\", command=convert)\n",
    "\n",
    "    # Create an Entry object\n",
    "    user_input = Entry(width=5)\n",
    "\n",
    "    # Arrange widgets in the window\n",
    "    user_input.grid(column=1, row=0)\n",
    "    mi_label.grid(column=2, row=0)\n",
    "    eq_label.grid(column=0, row=1)\n",
    "    ans_label.grid(column=1, row=1)\n",
    "    km_label.grid(column=2, row=1)\n",
    "    button.grid(column=1, row=2)\n",
    "\n",
    "    # Keep window open\n",
    "    window.mainloop()\n",
    "\n",
    "\n",
    "# Run the program\n",
    "if __name__ == \"__main__\":\n",
    "    main()\n"
   ]
  }
 ],
 "metadata": {
  "kernelspec": {
   "display_name": "Python 3 (ipykernel)",
   "language": "python",
   "name": "python3"
  },
  "language_info": {
   "codemirror_mode": {
    "name": "ipython",
    "version": 3
   },
   "file_extension": ".py",
   "mimetype": "text/x-python",
   "name": "python",
   "nbconvert_exporter": "python",
   "pygments_lexer": "ipython3",
   "version": "3.9.13"
  }
 },
 "nbformat": 4,
 "nbformat_minor": 5
}
