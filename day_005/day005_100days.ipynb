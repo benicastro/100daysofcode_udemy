{
 "cells": [
  {
   "cell_type": "markdown",
   "id": "5377274c",
   "metadata": {},
   "source": [
    "### Section 5:Day 5 - Beginner- Python Loops"
   ]
  },
  {
   "cell_type": "markdown",
   "id": "322aff73",
   "metadata": {},
   "source": [
    "**------------------------------------------------------------------------------------------------------------------------------------------------------------------------------------------------------------------**"
   ]
  },
  {
   "cell_type": "code",
   "execution_count": null,
   "id": "5de38927",
   "metadata": {},
   "outputs": [],
   "source": [
    "# for item in list_of_items:\n",
    "    # Do something to each item"
   ]
  },
  {
   "cell_type": "code",
   "execution_count": 1,
   "id": "57782072",
   "metadata": {},
   "outputs": [
    {
     "name": "stdout",
     "output_type": "stream",
     "text": [
      "Apple\n",
      "Peach\n",
      "Pear\n"
     ]
    }
   ],
   "source": [
    "fruits = [\"Apple\", \"Peach\", \"Pear\"]\n",
    "for fruit in fruits:\n",
    "    print(fruit)"
   ]
  },
  {
   "cell_type": "markdown",
   "id": "94640e7f",
   "metadata": {},
   "source": [
    "**------------------------------------------------------------------------------------------------------------------------------------------------------------------------------------------------------------------**"
   ]
  },
  {
   "cell_type": "markdown",
   "id": "42e28c32",
   "metadata": {},
   "source": [
    "### Exercise 1 - Average Height"
   ]
  },
  {
   "cell_type": "markdown",
   "id": "8e2f8b95",
   "metadata": {},
   "source": [
    "- You are going to write a program that calculates the average student height from a List of heights."
   ]
  },
  {
   "cell_type": "code",
   "execution_count": 2,
   "id": "ead8cd72",
   "metadata": {},
   "outputs": [],
   "source": [
    "def get_ave(list):\n",
    "    \"\"\"This function takes list inputs and then outputs the average value.\"\"\"\n",
    "    total = 0\n",
    "    length = 0\n",
    "    for i in list:\n",
    "        total += i\n",
    "        length += 1\n",
    "    average = round(total / length)\n",
    "    return average"
   ]
  },
  {
   "cell_type": "code",
   "execution_count": 4,
   "id": "544ce65b",
   "metadata": {},
   "outputs": [
    {
     "name": "stdout",
     "output_type": "stream",
     "text": [
      "171\n"
     ]
    }
   ],
   "source": [
    "student_heights = [180, 124, 165, 173, 189, 169, 146]\n",
    "# student_heights = [156, 178, 165, 171, 187]\n",
    "average = get_ave(student_heights)\n",
    "print(average)"
   ]
  },
  {
   "cell_type": "markdown",
   "id": "4557d2fe",
   "metadata": {},
   "source": [
    "**------------------------------------------------------------------------------------------------------------------------------------------------------------------------------------------------------------------**"
   ]
  },
  {
   "cell_type": "markdown",
   "id": "de22068f",
   "metadata": {},
   "source": [
    "### Exercise 2 - High Score"
   ]
  },
  {
   "cell_type": "markdown",
   "id": "41f83669",
   "metadata": {},
   "source": [
    "- You are going to write a program that calculates the highest score from a List of scores."
   ]
  },
  {
   "cell_type": "code",
   "execution_count": 2,
   "id": "438db32b",
   "metadata": {},
   "outputs": [],
   "source": [
    "def get_highest(list):\n",
    "    \"\"\"This function takes in a list of student scores and outputs the highest value.\"\"\"\n",
    "    highest = 0\n",
    "    for i in list:\n",
    "        if i > highest:\n",
    "            highest = i\n",
    "    return f\"The highest score in the class is: {highest}\""
   ]
  },
  {
   "cell_type": "code",
   "execution_count": 3,
   "id": "d7cc3ee8",
   "metadata": {},
   "outputs": [
    {
     "name": "stdout",
     "output_type": "stream",
     "text": [
      "The highest score in the class is: 91\n"
     ]
    }
   ],
   "source": [
    "student_scores = [78, 65, 89, 86, 55, 91, 64, 89]\n",
    "print(get_highest(student_scores))"
   ]
  },
  {
   "cell_type": "markdown",
   "id": "f2bbe74e",
   "metadata": {},
   "source": [
    "**------------------------------------------------------------------------------------------------------------------------------------------------------------------------------------------------------------------**"
   ]
  },
  {
   "cell_type": "code",
   "execution_count": null,
   "id": "28809543",
   "metadata": {},
   "outputs": [],
   "source": [
    "for number in range(a, b):\n",
    "    print(number)"
   ]
  },
  {
   "cell_type": "code",
   "execution_count": 4,
   "id": "aba76b91",
   "metadata": {},
   "outputs": [
    {
     "name": "stdout",
     "output_type": "stream",
     "text": [
      "1\n",
      "4\n",
      "7\n",
      "10\n"
     ]
    }
   ],
   "source": [
    "for number in range(1, 11, 3):\n",
    "    print(number)"
   ]
  },
  {
   "cell_type": "markdown",
   "id": "95e838bb",
   "metadata": {},
   "source": [
    "**------------------------------------------------------------------------------------------------------------------------------------------------------------------------------------------------------------------**"
   ]
  },
  {
   "cell_type": "markdown",
   "id": "6f241107",
   "metadata": {},
   "source": [
    "### Exercise 3 - Adding Even Numbers"
   ]
  },
  {
   "cell_type": "markdown",
   "id": "3121f01f",
   "metadata": {},
   "source": [
    "- You are going to write a program that calculates the sum of all the even numbers from 1 to 100. Thus, the first even number would be 2 and the last one is 100:\n",
    "\n",
    "    - i.e. 2 + 4 + 6 + 8 +10 ... + 98 + 100\n",
    "\n",
    "- Important, there should only be 1 print statement in your console output. It should just print the final total and not every step of the calculation."
   ]
  },
  {
   "cell_type": "code",
   "execution_count": 7,
   "id": "818c2d29",
   "metadata": {},
   "outputs": [],
   "source": [
    "def add_even(max):\n",
    "    \"\"\"This function sums all even numbers from 1 to 'max', as provided by the user.\"\"\"\n",
    "    sum = 0\n",
    "    for i in range(1, max+1):\n",
    "        if i % 2 == 0:\n",
    "            sum += i\n",
    "    return sum"
   ]
  },
  {
   "cell_type": "code",
   "execution_count": 8,
   "id": "861fe7fa",
   "metadata": {},
   "outputs": [
    {
     "name": "stdout",
     "output_type": "stream",
     "text": [
      "Please provide max value: 100\n",
      "2550\n"
     ]
    }
   ],
   "source": [
    "max = int(input(\"Please provide max value: \"))\n",
    "print(add_even(max))"
   ]
  },
  {
   "cell_type": "markdown",
   "id": "fb66fcc4",
   "metadata": {},
   "source": [
    "**------------------------------------------------------------------------------------------------------------------------------------------------------------------------------------------------------------------**"
   ]
  },
  {
   "cell_type": "markdown",
   "id": "8c991c5a",
   "metadata": {},
   "source": [
    "### Exercise 4 - FizzBuzz"
   ]
  },
  {
   "cell_type": "markdown",
   "id": "4fb17724",
   "metadata": {},
   "source": [
    "- You are going to write a program that automatically prints the solution to the FizzBuzz game.\n",
    "\n",
    "    - Your program should print each number from 1 to 100 in turn.\n",
    "\n",
    "    - When the number is divisible by 3 then instead of printing the number it should print \"Fizz\".\n",
    "\n",
    "    - When the number is divisible by 5, then instead of printing the number it should print \"Buzz\".`\n",
    "\n",
    "    - And if the number is divisible by both 3 and 5 e.g. 15 then instead of the number it should print \"FizzBuzz\""
   ]
  },
  {
   "cell_type": "code",
   "execution_count": 9,
   "id": "586771ff",
   "metadata": {},
   "outputs": [],
   "source": [
    "def fizzbuzz(max):\n",
    "    \"\"\"This function simulates the FizzBuzz game wherein it runs until the input value max.\"\"\"\n",
    "    for number in range(1, max):\n",
    "        if (number % 3 == 0) and (number % 5 == 0):\n",
    "            print(\"FizzBuzz\")\n",
    "        elif number % 3 == 0:\n",
    "            print(\"Fizz\")\n",
    "        elif number % 5 == 0:\n",
    "            print(\"Buzz\")\n",
    "        else:\n",
    "            print(number)       "
   ]
  },
  {
   "cell_type": "code",
   "execution_count": 11,
   "id": "21463953",
   "metadata": {},
   "outputs": [
    {
     "name": "stdout",
     "output_type": "stream",
     "text": [
      "Please provide max value: 15\n",
      "1\n",
      "2\n",
      "Fizz\n",
      "4\n",
      "Buzz\n",
      "Fizz\n",
      "7\n",
      "8\n",
      "Fizz\n",
      "Buzz\n",
      "11\n",
      "Fizz\n",
      "13\n",
      "14\n"
     ]
    }
   ],
   "source": [
    "max = int(input(\"Please provide max value: \"))\n",
    "fizzbuzz(max)"
   ]
  },
  {
   "cell_type": "markdown",
   "id": "afa2e214",
   "metadata": {},
   "source": [
    "**------------------------------------------------------------------------------------------------------------------------------------------------------------------------------------------------------------------**"
   ]
  },
  {
   "cell_type": "markdown",
   "id": "e188c4b0",
   "metadata": {},
   "source": [
    "### Project 5 - Password Generator"
   ]
  },
  {
   "cell_type": "code",
   "execution_count": 17,
   "id": "371eaae9",
   "metadata": {},
   "outputs": [],
   "source": [
    "# PyPassword Generator\n",
    "\n",
    "def generate_password(num_letters, num_symbols, num_numbers):\n",
    "    \"\"\"\n",
    "    This function generates a random password for the user based on the number of input values and types.\n",
    "    :param num_letters: number of letter occurrences in the password\n",
    "    :param num_symbols: number of symbol occurrences in the password\n",
    "    :param num_numbers: number of numbers occurrences in the password\n",
    "    :return: random_password\n",
    "    \"\"\"\n",
    "    # Import needed modules\n",
    "    import random\n",
    "    \n",
    "    letters = ['a', 'b', 'c', 'd', 'e', 'f', 'g', 'h', 'i', 'j', 'k', 'l', 'm', 'n', 'o', 'p', 'q', 'r', 's', 't',\n",
    "           'u', 'v', 'w', 'x', 'y', 'z', 'A', 'B', 'C', 'D', 'E', 'F', 'G', 'H', 'I', 'J', 'K', 'L', 'M', 'N',\n",
    "           'O', 'P', 'Q', 'R', 'S', 'T', 'U', 'V', 'W', 'X', 'Y', 'Z']\n",
    "    numbers = ['0', '1', '2', '3', '4', '5', '6', '7', '8', '9']\n",
    "    symbols = ['!', '#', '$', '%', '&', '(', ')', '*', '+']\n",
    "\n",
    "    random_password = ''\n",
    "    for i in range(num_letters):\n",
    "        random_password += random.choice(letters)\n",
    "    for j in range(num_symbols):\n",
    "        random_password += random.choice(symbols)\n",
    "    for k in range(num_numbers):\n",
    "        random_password += random.choice(numbers)\n",
    "    password_list = list(random_password)\n",
    "    random.shuffle(password_list)\n",
    "    random_password = ''.join(password_list)\n",
    "    return random_password"
   ]
  },
  {
   "cell_type": "code",
   "execution_count": 18,
   "id": "9a79df28",
   "metadata": {},
   "outputs": [
    {
     "name": "stdout",
     "output_type": "stream",
     "text": [
      "Welcome to Milyastroc's PyPassword Generator!\n",
      "Please provide number of letters: 5\n",
      "Please provide number of symbols: 3\n",
      "Please provide number of symbols: 3\n",
      "Your password is 7pl!5Q%8Gk!.\n"
     ]
    }
   ],
   "source": [
    "# Execute program\n",
    "print(\"Welcome to Milyastroc's PyPassword Generator!\")\n",
    "num_letters = int(input(\"Please provide number of letters: \"))\n",
    "num_symbols = int(input(\"Please provide number of symbols: \"))\n",
    "num_numbers = int(input(\"Please provide number of symbols: \"))\n",
    "password = generate_password(num_letters, num_symbols, num_numbers)\n",
    "print(f\"Your password is {password}.\")"
   ]
  }
 ],
 "metadata": {
  "kernelspec": {
   "display_name": "Python 3 (ipykernel)",
   "language": "python",
   "name": "python3"
  },
  "language_info": {
   "codemirror_mode": {
    "name": "ipython",
    "version": 3
   },
   "file_extension": ".py",
   "mimetype": "text/x-python",
   "name": "python",
   "nbconvert_exporter": "python",
   "pygments_lexer": "ipython3",
   "version": "3.9.13"
  }
 },
 "nbformat": 4,
 "nbformat_minor": 5
}
