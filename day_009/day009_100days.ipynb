{
 "cells": [
  {
   "cell_type": "markdown",
   "id": "d502d32e",
   "metadata": {},
   "source": [
    "### Section 9: Day 9 - Beginner - Dictionaries, Nesting, and the Secret Auction"
   ]
  },
  {
   "cell_type": "markdown",
   "id": "322aff73",
   "metadata": {},
   "source": [
    "**------------------------------------------------------------------------------------------------------------------------------------------------------------------------------------------------------------------**"
   ]
  },
  {
   "cell_type": "markdown",
   "id": "e0b15efc",
   "metadata": {},
   "source": [
    "##### Dictionaries in Python"
   ]
  },
  {
   "cell_type": "code",
   "execution_count": null,
   "id": "537f413d",
   "metadata": {},
   "outputs": [],
   "source": [
    "# {Key: Value}"
   ]
  },
  {
   "cell_type": "code",
   "execution_count": 2,
   "id": "8e9aa2ce",
   "metadata": {},
   "outputs": [
    {
     "name": "stdout",
     "output_type": "stream",
     "text": [
      "An error in a program that prevents the program from running as expected.\n"
     ]
    }
   ],
   "source": [
    "programming_dictionary = {\n",
    "    \"Bug\": \"An error in a program that prevents the program from running as expected.\", \n",
    "    \"Function\": \"A piece of code that you can easily call over and over again.\",\n",
    "    \"Loop\": \"The action of doing something over and over again.\",\n",
    "}\n",
    "\n",
    "print(programming_dictionary[\"Bug\"])"
   ]
  },
  {
   "cell_type": "code",
   "execution_count": 3,
   "id": "de35defb",
   "metadata": {},
   "outputs": [
    {
     "name": "stdout",
     "output_type": "stream",
     "text": [
      "{'Bug': 'An error in a program that prevents the program from running as expected.', 'Function': 'A piece of code that you can easily call over and over again.', 'Loop': 'The action of doing something over and over again.', 'Try': 'Test'}\n"
     ]
    }
   ],
   "source": [
    "# Add new items\n",
    "programming_dictionary[\"Try\"] = \"Test\"\n",
    "print(programming_dictionary)"
   ]
  },
  {
   "cell_type": "markdown",
   "id": "0f5db4c4",
   "metadata": {},
   "source": [
    "**------------------------------------------------------------------------------------------------------------------------------------------------------------------------------------------------------------------**"
   ]
  },
  {
   "cell_type": "markdown",
   "id": "65270a8a",
   "metadata": {},
   "source": [
    "### Exercise 1 - Grading Program"
   ]
  },
  {
   "cell_type": "markdown",
   "id": "223f2acf",
   "metadata": {},
   "source": [
    "- You have access to a database of student_scores in the format of a dictionary. The keys in student_scores are the names of the students and the values are their exam scores.\n",
    "\n",
    "- Write a program that converts their scores to grades. By the end of your program, you should have a new dictionary called student_grades that should contain student names for keys and their grades for values. The final version of the student_grades dictionary will be checked.\n",
    "\n",
    "- This is the scoring criteria:\n",
    "\n",
    "    - Scores 91 - 100: Grade = \"Outstanding\"\n",
    "\n",
    "    - Scores 81 - 90: Grade = \"Exceeds Expectations\"\n",
    "\n",
    "    - Scores 71 - 80: Grade = \"Acceptable\"\n",
    "\n",
    "    - Scores 70 or lower: Grade = \"Fail\""
   ]
  },
  {
   "cell_type": "code",
   "execution_count": 5,
   "id": "2a911632",
   "metadata": {},
   "outputs": [],
   "source": [
    "student_scores = {\n",
    "    \"Harry\": 81,\n",
    "    \"Ron\": 79,\n",
    "    \"Hermione\": 99,\n",
    "    \"Draco\": 74,\n",
    "    \"Neville\": 62,\n",
    "}"
   ]
  },
  {
   "cell_type": "code",
   "execution_count": 7,
   "id": "f9ba7641",
   "metadata": {},
   "outputs": [],
   "source": [
    "def extract_grades(student_scores):\n",
    "    \"\"\"This functions takes in a dictionary with student names as keys and their corresponding scores as values, \n",
    "    and then converts these scores to grades. \"\"\"\n",
    "    student_grades = {}\n",
    "    for key in student_scores:\n",
    "        if student_scores[key] >= 91:\n",
    "            student_grades[key] = \"Outstanding\"\n",
    "        elif student_scores[key] >= 81:\n",
    "            student_grades[key] = \"Exceeds Expectations\"\n",
    "        elif student_scores[key] >= 71:\n",
    "            student_grades[key] = \"Acceptable\"\n",
    "        else:\n",
    "            student_grades[key] = \"Fail\"\n",
    "    return student_grades"
   ]
  },
  {
   "cell_type": "code",
   "execution_count": 8,
   "id": "9c6fb195",
   "metadata": {},
   "outputs": [
    {
     "name": "stdout",
     "output_type": "stream",
     "text": [
      "{'Harry': 'Exceeds Expectations', 'Ron': 'Acceptable', 'Hermione': 'Outstanding', 'Draco': 'Acceptable', 'Neville': 'Fail'}\n"
     ]
    }
   ],
   "source": [
    "student_grades = extract_grades(student_scores)\n",
    "print(student_grades)"
   ]
  },
  {
   "cell_type": "markdown",
   "id": "5eb02c83",
   "metadata": {},
   "source": [
    "**------------------------------------------------------------------------------------------------------------------------------------------------------------------------------------------------------------------**"
   ]
  },
  {
   "cell_type": "code",
   "execution_count": 9,
   "id": "2e4a5ca2",
   "metadata": {},
   "outputs": [],
   "source": [
    "capitals = {\n",
    "  \"France\": \"Paris\",\n",
    "  \"Germany\": \"Berlin\",\n",
    "}"
   ]
  },
  {
   "cell_type": "code",
   "execution_count": 10,
   "id": "d7905388",
   "metadata": {},
   "outputs": [],
   "source": [
    "travel_log = {\n",
    "  \"France\": [\"Paris\", \"Lille\", \"Dijon\"],\n",
    "  \"Germany\": [\"Berlin\", \"Hamburg\", \"Stuttgart\"],\n",
    "}"
   ]
  },
  {
   "cell_type": "code",
   "execution_count": null,
   "id": "1b831b04",
   "metadata": {},
   "outputs": [],
   "source": [
    "travel_log = {\n",
    "  \"France\": {\"cities_visited\": [\"Paris\", \"Lille\", \"Dijon\"], \"total_visits\": 12},\n",
    "  \"Germany\": {\"cities_visited\": [\"Berlin\", \"Hamburg\", \"Stuttgart\"], \"total_visits\": 5},\n",
    "}"
   ]
  },
  {
   "cell_type": "code",
   "execution_count": null,
   "id": "823c604e",
   "metadata": {},
   "outputs": [],
   "source": [
    "travel_log = [\n",
    "{\n",
    "  \"country\": \"France\", \n",
    "  \"cities_visited\": [\"Paris\", \"Lille\", \"Dijon\"], \n",
    "  \"total_visits\": 12,\n",
    "},\n",
    "{\n",
    "  \"country\": \"Germany\",\n",
    "  \"cities_visited\": [\"Berlin\", \"Hamburg\", \"Stuttgart\"],\n",
    "  \"total_visits\": 5,\n",
    "},\n",
    "]"
   ]
  },
  {
   "cell_type": "markdown",
   "id": "0b77dd9a",
   "metadata": {},
   "source": [
    "**------------------------------------------------------------------------------------------------------------------------------------------------------------------------------------------------------------------**"
   ]
  },
  {
   "cell_type": "markdown",
   "id": "c02141f8",
   "metadata": {},
   "source": [
    "### Exercise 2 - Dictionary in List"
   ]
  },
  {
   "cell_type": "markdown",
   "id": "51d88e7e",
   "metadata": {},
   "source": [
    "- You are going to write a program that adds to a travel_log. You can see a travel_log which is a List that contains 2 Dictionaries.\n",
    "\n",
    "- Write a function that will work with the following line of code on line 21 to add the entry for Russia to the travel_log.\n",
    "\n",
    "    - add_new_country(\"Russia\", 2, [\"Moscow\", \"Saint Petersburg\"])\n",
    "    \n",
    "        - You've visited Russia 2 times.\n",
    "        - You've been to Moscow and Saint Petersburg."
   ]
  },
  {
   "cell_type": "code",
   "execution_count": 12,
   "id": "6335fd71",
   "metadata": {},
   "outputs": [],
   "source": [
    "travel_log = [\n",
    "    {\n",
    "        \"country\": \"France\",\n",
    "        \"visits\": 12,\n",
    "        \"cities\": [\"Paris\", \"Lille\", \"Dijon\"]\n",
    "    },\n",
    "    {\n",
    "        \"country\": \"Germany\",\n",
    "        \"visits\": 5,\n",
    "        \"cities\": [\"Berlin\", \"Hamburg\", \"Stuttgart\"]\n",
    "    },\n",
    "]"
   ]
  },
  {
   "cell_type": "code",
   "execution_count": 13,
   "id": "c050656c",
   "metadata": {},
   "outputs": [],
   "source": [
    "def add_new_country(country, visits, cities_visited):\n",
    "    \"\"\"This function adds a new entry to the travel log based on the user inputs.\"\"\"\n",
    "    new_country ={}\n",
    "    new_country[\"country\"] = country\n",
    "    new_country[\"visits\"] = visits\n",
    "    new_country[\"cities\"] = cities_visited\n",
    "    travel_log.append(new_country)"
   ]
  },
  {
   "cell_type": "code",
   "execution_count": 14,
   "id": "6e7bee7e",
   "metadata": {},
   "outputs": [
    {
     "name": "stdout",
     "output_type": "stream",
     "text": [
      "[{'country': 'France', 'visits': 12, 'cities': ['Paris', 'Lille', 'Dijon']}, {'country': 'Germany', 'visits': 5, 'cities': ['Berlin', 'Hamburg', 'Stuttgart']}, {'country': 'Russia', 'visits': 2, 'cities': ['Moscow', 'Saint Petersburg']}]\n"
     ]
    }
   ],
   "source": [
    "add_new_country(\"Russia\", 2, [\"Moscow\", \"Saint Petersburg\"])\n",
    "print(travel_log)"
   ]
  },
  {
   "cell_type": "markdown",
   "id": "7cbcef7f",
   "metadata": {},
   "source": [
    "**------------------------------------------------------------------------------------------------------------------------------------------------------------------------------------------------------------------**"
   ]
  },
  {
   "cell_type": "markdown",
   "id": "e933f9c1",
   "metadata": {},
   "source": [
    "### Quiz 7"
   ]
  },
  {
   "cell_type": "markdown",
   "id": "e87f2073",
   "metadata": {},
   "source": [
    "1. Which line of code will change the starting_dictionary to the final_dictionary?"
   ]
  },
  {
   "cell_type": "code",
   "execution_count": 15,
   "id": "1fbe8673",
   "metadata": {},
   "outputs": [],
   "source": [
    "starting_dictionary = {\n",
    "    \"a\": 9,\n",
    "    \"b\": 8,\n",
    "}\n",
    "\n",
    "\n",
    "final_dictionary = {\n",
    "    \"a\": 9,\n",
    "    \"b\": 8,\n",
    "    \"c\": 7,\n",
    "}"
   ]
  },
  {
   "cell_type": "code",
   "execution_count": 16,
   "id": "c10ae723",
   "metadata": {},
   "outputs": [],
   "source": [
    "starting_dictionary[\"c\"] = 7\n",
    "final_dictionary = starting_dictionary"
   ]
  },
  {
   "cell_type": "markdown",
   "id": "2d3de349",
   "metadata": {},
   "source": [
    "2. Which line of code will produce an error?"
   ]
  },
  {
   "cell_type": "code",
   "execution_count": 17,
   "id": "f4766707",
   "metadata": {},
   "outputs": [],
   "source": [
    "dict = {\n",
    "    \"a\": 1,\n",
    "    \"b\": 2,\n",
    "    \"c\": 3,\n",
    "}"
   ]
  },
  {
   "cell_type": "code",
   "execution_count": 18,
   "id": "85008163",
   "metadata": {},
   "outputs": [
    {
     "ename": "KeyError",
     "evalue": "1",
     "output_type": "error",
     "traceback": [
      "\u001b[1;31m---------------------------------------------------------------------------\u001b[0m",
      "\u001b[1;31mKeyError\u001b[0m                                  Traceback (most recent call last)",
      "\u001b[1;32m~\\AppData\\Local\\Temp\\ipykernel_4304\\304758284.py\u001b[0m in \u001b[0;36m<module>\u001b[1;34m\u001b[0m\n\u001b[1;32m----> 1\u001b[1;33m \u001b[0mprint\u001b[0m\u001b[1;33m(\u001b[0m\u001b[0mdict\u001b[0m\u001b[1;33m[\u001b[0m\u001b[1;36m1\u001b[0m\u001b[1;33m]\u001b[0m\u001b[1;33m)\u001b[0m\u001b[1;33m\u001b[0m\u001b[1;33m\u001b[0m\u001b[0m\n\u001b[0m",
      "\u001b[1;31mKeyError\u001b[0m: 1"
     ]
    }
   ],
   "source": [
    "print(dict[1])"
   ]
  },
  {
   "cell_type": "markdown",
   "id": "b1c2962a",
   "metadata": {},
   "source": [
    "3. Which line of code will print \"Steak\"?"
   ]
  },
  {
   "cell_type": "code",
   "execution_count": 19,
   "id": "561dda6d",
   "metadata": {},
   "outputs": [],
   "source": [
    "order = {\n",
    "    \"starter\": {1: \"Salad\", 2: \"Soup\"},\n",
    "    \"main\": {1: [\"Burger\", \"Fries\"], 2: [\"Steak\"]},\n",
    "    \"dessert\": {1: [\"Ice Cream\"], 2: []},\n",
    "}"
   ]
  },
  {
   "cell_type": "code",
   "execution_count": 20,
   "id": "3bebe3a7",
   "metadata": {},
   "outputs": [
    {
     "name": "stdout",
     "output_type": "stream",
     "text": [
      "Steak\n"
     ]
    }
   ],
   "source": [
    "print(order[\"main\"][2][0])"
   ]
  },
  {
   "cell_type": "markdown",
   "id": "c69bf4bf",
   "metadata": {},
   "source": [
    "**------------------------------------------------------------------------------------------------------------------------------------------------------------------------------------------------------------------**"
   ]
  },
  {
   "cell_type": "markdown",
   "id": "34506eb7",
   "metadata": {},
   "source": [
    "### Project 9 - Secret Auction"
   ]
  },
  {
   "attachments": {
    "project_flowchart.png": {
     "image/png": "[encoded data removed]"
    }
   },
   "cell_type": "markdown",
   "id": "3e57a0e5",
   "metadata": {},
   "source": [
    "![project_flowchart.png](attachment:project_flowchart.png)"
   ]
  },
  {
   "cell_type": "code",
   "execution_count": 25,
   "id": "5f6d1895",
   "metadata": {},
   "outputs": [
    {
     "name": "stdout",
     "output_type": "stream",
     "text": [
      "\n",
      "                         ___________\n",
      "                         \\         /\n",
      "                          )_______(\n",
      "                          |\"\"\"\"\"\"\"|_.-._,.---------.,_.-._\n",
      "                          |       | | |               | | ''-.\n",
      "                          |       |_| |_             _| |_..-'\n",
      "                          |_______| '-' `'---------'` '-'\n",
      "                          )\"\"\"\"\"\"\"(\n",
      "                         /_________\\\n",
      "                       .-------------.\n",
      "                      /_______________\\\n",
      "\n",
      "Secret Auction, a digital bidding tool.\n",
      "        By Benedict Castro benedict.zcastro@gmail.com\n",
      "Please provide your name: Beni\n",
      "What is your bid? $120\n",
      "Are there any other bidders? Type \"yes\" or \"no\": yes\n",
      "Please provide your name: Toni\n",
      "What is your bid? $150\n",
      "Are there any other bidders? Type \"yes\" or \"no\": yes\n",
      "Please provide your name: Emi\n",
      "What is your bid? $200\n",
      "Are there any other bidders? Type \"yes\" or \"no\": no\n",
      "There are no more bidders. We advance to the selection process.\n",
      "The winner is Emi with a bid of $200.00!\n",
      "Do you want to use the tool again? Type \"yes\" or \"no\": no\n",
      "Thank you for using this tool. May the best bidder win!\n"
     ]
    }
   ],
   "source": [
    "\"\"\"Silent Auction Program, by Benedict Castro benedict.castro11@gmail.com\n",
    "A digital bidding tool.\n",
    "Tags: short, code, logic\"\"\"\n",
    "\n",
    "# Import needed modules\n",
    "import proj_art\n",
    "import os\n",
    "\n",
    "\n",
    "def main():\n",
    "    print(proj_art.logo)\n",
    "    print('''Secret Auction, a digital bidding tool.\n",
    "        By Benedict Castro benedict.zcastro@gmail.com''')\n",
    "\n",
    "    def ask_player():\n",
    "        \"\"\"This function asks the player for his/her name and the corresponding bid.\"\"\"\n",
    "        invalid_inputs = True\n",
    "        while invalid_inputs:\n",
    "            name = input(\"Please provide your name: \")\n",
    "            bid = float(input(\"What is your bid? $\"))\n",
    "            if not isinstance(bid, float):\n",
    "                print(\"Please provide valid inputs.\")\n",
    "            else:\n",
    "                invalid_inputs = False\n",
    "                return name, bid\n",
    "\n",
    "    run_program = True\n",
    "    while True:  # Main program loop\n",
    "        bidder_dictionary = {}  # Store the info of bidders\n",
    "        potential_winner = \"\"\n",
    "        highest_bid = 0\n",
    "        more_bidders = True\n",
    "        while more_bidders:\n",
    "            name, bid = ask_player()\n",
    "            bidder_dictionary[name] = bid\n",
    "\n",
    "            # Keep track of the highest bid\n",
    "            if bidder_dictionary[name] > highest_bid:\n",
    "                highest_bid = bid\n",
    "                potential_winner = name\n",
    "\n",
    "            # Ask if there are still bidders\n",
    "            continue_bidding = input('Are there any other bidders? Type \"yes\" or \"no\": ')\n",
    "            os.system('cls' if os.name == 'nt' else 'clear')\n",
    "            if continue_bidding.lower() != \"yes\":\n",
    "                print(\"There are no more bidders. We advance to the selection process.\")\n",
    "                more_bidders = False\n",
    "\n",
    "        print(f\"The winner is {potential_winner} with a bid of ${highest_bid:.2f}!\")\n",
    "\n",
    "        # Ask user if they want to use the tool again\n",
    "        use_again = input('Do you want to use the tool again? Type \"yes\" or \"no\": ')\n",
    "        if use_again.lower() != \"yes\":\n",
    "            break\n",
    "\n",
    "    print(\"Thank you for using this tool. May the best bidder win!\")\n",
    "\n",
    "\n",
    "# If the program is run (instead of imported), run the game:\n",
    "if __name__ == \"__main__\":\n",
    "    main()"
   ]
  },
  {
   "cell_type": "code",
   "execution_count": null,
   "id": "c725ab78",
   "metadata": {},
   "outputs": [],
   "source": [
    "# Replit Solution Code\n",
    "\n",
    "'''\n",
    "from replit import clear\n",
    "from art import logo\n",
    "print(logo)\n",
    "\n",
    "bids = {}\n",
    "bidding_finished = False\n",
    "\n",
    "def find_highest_bidder(bidding_record):\n",
    "  highest_bid = 0\n",
    "  winner = \"\"\n",
    "  # bidding_record = {\"Angela\": 123, \"James\": 321}\n",
    "  for bidder in bidding_record:\n",
    "    bid_amount = bidding_record[bidder]\n",
    "    if bid_amount > highest_bid: \n",
    "      highest_bid = bid_amount\n",
    "      winner = bidder\n",
    "  print(f\"The winner is {winner} with a bid of ${highest_bid}\")\n",
    "\n",
    "while not bidding_finished:\n",
    "  name = input(\"What is your name?: \")\n",
    "  price = int(input(\"What is your bid?: $\"))\n",
    "  bids[name] = price\n",
    "  should_continue = input(\"Are there any other bidders? Type 'yes or 'no'.\\n\")\n",
    "  if should_continue == \"no\":\n",
    "    bidding_finished = True\n",
    "    find_highest_bidder(bids)\n",
    "  elif should_continue == \"yes\":\n",
    "    clear()\n",
    "  \n",
    "\n",
    "\"\"\"\n",
    "FAQ: My console doesn't clear()\n",
    "\n",
    "This will happen if you’re using an IDE other than replit. \n",
    "I’ll cover how to use PyCharm in Day 15. That said, you can write your own clear() function or configure your IDE like so: \n",
    "\n",
    "https://www.udemy.com/course/100-days-of-code/learn/lecture/19279420#questions/16084076\n",
    "\n",
    "\"\"\"\n",
    "'''"
   ]
  }
 ],
 "metadata": {
  "kernelspec": {
   "display_name": "Python 3 (ipykernel)",
   "language": "python",
   "name": "python3"
  },
  "language_info": {
   "codemirror_mode": {
    "name": "ipython",
    "version": 3
   },
   "file_extension": ".py",
   "mimetype": "text/x-python",
   "name": "python",
   "nbconvert_exporter": "python",
   "pygments_lexer": "ipython3",
   "version": "3.9.13"
  }
 },
 "nbformat": 4,
 "nbformat_minor": 5
}
