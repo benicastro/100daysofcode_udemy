{
 "cells": [
  {
   "cell_type": "markdown",
   "id": "8a11e45d",
   "metadata": {},
   "source": [
    "### Section 33: Day 33 - Intermediate+ API Endpoints & API Parameters - ISS Overhead Notifier"
   ]
  },
  {
   "cell_type": "markdown",
   "id": "7bd397f8",
   "metadata": {},
   "source": [
    "**------------------------------------------------------------------------------------------------------------------------------------------------------------------------------------------------------------------**"
   ]
  },
  {
   "cell_type": "markdown",
   "id": "407fbf9e",
   "metadata": {},
   "source": [
    "- An Application Programming Interface (API) is a set of commands, functions, protocols, and objects that programmers can use to create software or interact with an external system."
   ]
  },
  {
   "cell_type": "markdown",
   "id": "8397b0af",
   "metadata": {},
   "source": [
    "- API Endpoint\n",
    "- API Request"
   ]
  },
  {
   "cell_type": "markdown",
   "id": "8729aa27",
   "metadata": {},
   "source": [
    "**------------------------------------------------------------------------------------------------------------------------------------------------------------------------------------------------------------------**"
   ]
  },
  {
   "cell_type": "code",
   "execution_count": 1,
   "id": "42c533bb",
   "metadata": {},
   "outputs": [],
   "source": [
    "import requests"
   ]
  },
  {
   "cell_type": "code",
   "execution_count": 9,
   "id": "53fc128a",
   "metadata": {},
   "outputs": [],
   "source": [
    "url = \"http://api.open-notify.org/iss-now.json\"\n",
    "response = requests.get(url)\n",
    "response.raise_for_status()"
   ]
  },
  {
   "cell_type": "markdown",
   "id": "c5ee6f0a",
   "metadata": {},
   "source": [
    "- Respose codes tell if our requests succeeded or failed.\n",
    "\n",
    "    - 1XX : Hold On\n",
    "    - 2XX : Here You Go\n",
    "    - 3XX : Go Away\n",
    "    - 4XX : You Screwed Up\n",
    "    - 5XX : I Screwed Up"
   ]
  },
  {
   "cell_type": "code",
   "execution_count": 11,
   "id": "d7860e62",
   "metadata": {},
   "outputs": [
    {
     "name": "stdout",
     "output_type": "stream",
     "text": [
      "('-53.4222', '51.3620')\n"
     ]
    }
   ],
   "source": [
    "data = response.json()\n",
    "\n",
    "longitude = data[\"iss_position\"][\"longitude\"]\n",
    "latitude = data[\"iss_position\"][\"latitude\"]\n",
    "\n",
    "iss_position = (longitude, latitude)\n",
    "print(iss_position)"
   ]
  },
  {
   "cell_type": "markdown",
   "id": "26201acc",
   "metadata": {},
   "source": [
    "**------------------------------------------------------------------------------------------------------------------------------------------------------------------------------------------------------------------**"
   ]
  },
  {
   "cell_type": "markdown",
   "id": "558f8a27",
   "metadata": {},
   "source": [
    "### Challenge"
   ]
  },
  {
   "cell_type": "code",
   "execution_count": 12,
   "id": "2e6f3fe1",
   "metadata": {},
   "outputs": [],
   "source": [
    "\"\"\"\n",
    "Taylor Swift Quotes App by Benedict Z. Castro | benedict.zcastro@gmail.com\n",
    "\"\"\"\n",
    "\n",
    "# Import needed modules ################################################################################################################\n",
    "import requests\n",
    "from tkinter import *\n",
    "\n",
    "# Declare constant variables ###########################################################################################################\n",
    "API_ENDPOINT = \"https://taylorswiftapi.onrender.com/get\"\n",
    "\n",
    "\n",
    "# Create function\n",
    "def get_quote():\n",
    "    \"\"\"This function obtains a random Taylor Swift quote from the given API.\"\"\"\n",
    "    response = requests.get(API_ENDPOINT)\n",
    "    response.raise_for_status()\n",
    "    data = response.json()\n",
    "    quote = data[\"quote\"]\n",
    "    canvas.itemconfig(quote_text, text=quote)\n",
    "\n",
    "\n",
    "\n",
    "# Setup UI #############################################################################################################################\n",
    "# Create Window\n",
    "window = Tk()\n",
    "window.title(\"Taylor Says...\")\n",
    "window.config(padx=50, pady=50)\n",
    "\n",
    "# Create Canvas\n",
    "canvas = Canvas(width=300, height=414)\n",
    "background_img = PhotoImage(file=\"background.png\")\n",
    "canvas.create_image(150, 207, image=background_img)\n",
    "quote_text = canvas.create_text(150, 207, text=\"Taylor Swift Quote Goes Here\", width=250,\n",
    "                                font=(\"Arial\", 17, \"bold\"), fill=\"white\")\n",
    "canvas.grid(row=0, column=0)\n",
    "\n",
    "# Create Button\n",
    "taylor_img = PhotoImage(file=\"taylor.png\")\n",
    "taylor_button = Button(image=taylor_img, highlightthickness=0, command=get_quote, relief=FLAT)\n",
    "taylor_button.grid(row=1, column=0)\n",
    "\n",
    "# Keep window open\n",
    "window.mainloop()\n"
   ]
  },
  {
   "cell_type": "code",
   "execution_count": null,
   "id": "217a89e5",
   "metadata": {},
   "outputs": [],
   "source": [
    "from tkinter import *\n",
    "import requests\n",
    "\n",
    "\n",
    "def get_quote():\n",
    "    response = requests.get(\"https://api.kanye.rest\")\n",
    "    response.raise_for_status()\n",
    "    data = response.json()\n",
    "    quote = data[\"quote\"]\n",
    "    canvas.itemconfig(quote_text, text=quote)\n",
    "\n",
    "\n",
    "window = Tk()\n",
    "window.title(\"Kanye Says...\")\n",
    "window.config(padx=50, pady=50)\n",
    "\n",
    "canvas = Canvas(width=300, height=414)\n",
    "background_img = PhotoImage(file=\"background.png\")\n",
    "canvas.create_image(150, 207, image=background_img)\n",
    "quote_text = canvas.create_text(150, 207, text=\"Kanye Quote Goes HERE\", width=250, font=(\"Arial\", 30, \"bold\"), fill=\"white\")\n",
    "canvas.grid(row=0, column=0)\n",
    "\n",
    "kanye_img = PhotoImage(file=\"kanye.png\")\n",
    "kanye_button = Button(image=kanye_img, highlightthickness=0, command=get_quote)\n",
    "kanye_button.grid(row=1, column=0)\n",
    "\n",
    "\n",
    "\n",
    "window.mainloop()\n"
   ]
  },
  {
   "cell_type": "markdown",
   "id": "9568696d",
   "metadata": {},
   "source": [
    "**------------------------------------------------------------------------------------------------------------------------------------------------------------------------------------------------------------------**"
   ]
  },
  {
   "cell_type": "markdown",
   "id": "5930256e",
   "metadata": {},
   "source": [
    "### API Parameters"
   ]
  },
  {
   "cell_type": "code",
   "execution_count": 33,
   "id": "2c3ec771",
   "metadata": {},
   "outputs": [],
   "source": [
    "SS_API_ENDPOINT = \"https://api.sunrise-sunset.org/json\""
   ]
  },
  {
   "cell_type": "code",
   "execution_count": 34,
   "id": "5769edd0",
   "metadata": {},
   "outputs": [],
   "source": [
    "import requests\n",
    "import datetime as dt"
   ]
  },
  {
   "cell_type": "code",
   "execution_count": 35,
   "id": "b92edb51",
   "metadata": {},
   "outputs": [],
   "source": [
    "MY_LAT = 15.505904\n",
    "MY_LON = 480.986609\n",
    "\n",
    "parameters = {\n",
    "    \"lat\": MY_LAT,\n",
    "    \"lon\": MY_LON,\n",
    "    \"formatted\": 0,\n",
    "}"
   ]
  },
  {
   "cell_type": "code",
   "execution_count": 43,
   "id": "d9922b71",
   "metadata": {},
   "outputs": [
    {
     "name": "stdout",
     "output_type": "stream",
     "text": [
      "06\n"
     ]
    }
   ],
   "source": [
    "response = requests.get(SS_API_ENDPOINT, params=parameters)\n",
    "response.raise_for_status()\n",
    "data = response.json()\n",
    "sunrise = data[\"results\"][\"sunrise\"]\n",
    "sunset = data[\"results\"][\"sunset\"]\n",
    "\n",
    "sunrise_list = sunrise.split(\"T\")\n",
    "sunrise_date = sunrise_list[0]\n",
    "sunrise_time = sunrise_list[1].split(\":\")[0]\n",
    "\n",
    "sunset_list = sunset.split(\"T\")\n",
    "sunset_date = sunset_list[0]\n",
    "sunset_time = sunset_list[1].split(\":\")[0]\n",
    "\n",
    "print(sunrise_time)"
   ]
  },
  {
   "cell_type": "code",
   "execution_count": 38,
   "id": "5daa9057",
   "metadata": {},
   "outputs": [
    {
     "name": "stdout",
     "output_type": "stream",
     "text": [
      "2023-03-18 11:57:43.017785\n"
     ]
    }
   ],
   "source": [
    "time_now = dt.datetime.now()\n",
    "print(time_now)"
   ]
  },
  {
   "cell_type": "markdown",
   "id": "61b17651",
   "metadata": {},
   "source": [
    "**------------------------------------------------------------------------------------------------------------------------------------------------------------------------------------------------------------------**"
   ]
  },
  {
   "cell_type": "markdown",
   "id": "dffe0dab",
   "metadata": {},
   "source": [
    "### ISS Overhead Notifier Project"
   ]
  },
  {
   "cell_type": "code",
   "execution_count": null,
   "id": "7cbbf796",
   "metadata": {},
   "outputs": [],
   "source": [
    "\"\"\"\n",
    "ISS Overhead Notifier Project by Benedict Z. Castro | benedict.zcastro@gmail.com\n",
    "\"\"\"\n",
    "\n",
    "# Import needed modules ################################################################################################################\n",
    "import datetime as dt\n",
    "import requests\n",
    "import smtplib\n",
    "import time\n",
    "\n",
    "# Declare constant Variables ###########################################################################################################\n",
    "MY_EMAIL = \"pythonuniversality@gmail.com\"\n",
    "PASSWORD = \"toldvfdeodjzypbo\"\n",
    "ISS_API = \"http://api.open-notify.org/iss-now.json\"\n",
    "SUNS_API = \"https://api.sunrise-sunset.org/json\"\n",
    "MY_LAT = 15.505904\n",
    "MY_LON = 480.986609\n",
    "\n",
    "\n",
    "# Main #################################################################################################################################\n",
    "\n",
    "# Create functions\n",
    "def is_close():\n",
    "    \"\"\"This functions takes in the current ISS position and returns true if it is within +-5 degrees to my position.\"\"\"\n",
    "    # Get ISS coordinates\n",
    "    iss_response = requests.get(ISS_API)\n",
    "    iss_response.raise_for_status()\n",
    "    iss_data = iss_response.json()\n",
    "    iss_position = (float(iss_data[\"iss_position\"][\"latitude\"]), float(iss_data[\"iss_position\"][\"longitude\"]))\n",
    "    return (iss_position[0] - 5 <= MY_LAT <= iss_position[0] + 5) and (iss_position[1] - 5 <= MY_LON <= iss_position[1] + 5)\n",
    "\n",
    "\n",
    "def is_time():\n",
    "    \"\"\"This functions returns true if it is possible to see the ISS at the given times.\"\"\"\n",
    "    # Create a dictionary for the parameters of the sunset-sunrise API\n",
    "    parameters = {\n",
    "        \"lat\": MY_LAT,\n",
    "        \"lon\": MY_LON,\n",
    "        \"formatted\": 0,\n",
    "    }\n",
    "    # Get the current time (hour)\n",
    "    current_time = dt.datetime.now().hour\n",
    "    # Get sunset and sunrise times for current date\n",
    "    suns_response = requests.get(SUNS_API, params=parameters)\n",
    "    suns_response.raise_for_status()\n",
    "    suns_data = suns_response.json()\n",
    "    sunrise_time = int(suns_data[\"results\"][\"sunrise\"].split(\"T\")[1].split(\":\")[0])\n",
    "    sunset_time = int(suns_data[\"results\"][\"sunset\"].split(\"T\")[1].split(\":\")[0])\n",
    "    return sunset_time > current_time or current_time < sunrise_time\n",
    "\n",
    "\n",
    "# Send email message as notification if ISS is near me\n",
    "while True:\n",
    "    time.sleep(60)\n",
    "    if is_close() and is_time():\n",
    "        with smtplib.SMTP(\"smtp.gmail.com\", port=587) as connection:\n",
    "            connection.starttls()\n",
    "            connection.login(user=MY_EMAIL, password=PASSWORD)\n",
    "            connection.sendmail(\n",
    "                from_addr=MY_EMAIL,\n",
    "                to_addrs=\"benedict.zcastro@gmail.com\",\n",
    "                msg=\"Subject: ISS Notification \\n\\nLook up! The ISS is above you in the sky.\",\n",
    "            )\n"
   ]
  },
  {
   "cell_type": "code",
   "execution_count": null,
   "id": "7142f562",
   "metadata": {},
   "outputs": [],
   "source": [
    "import requests\n",
    "from datetime import datetime\n",
    "import smtplib\n",
    "import time\n",
    "\n",
    "MY_EMAIL = \"___YOUR_EMAIL_HERE____\"\n",
    "MY_PASSWORD = \"___YOUR_PASSWORD_HERE___\"\n",
    "MY_LAT = 51.507351 # Your latitude\n",
    "MY_LONG = -0.127758 # Your longitude\n",
    "\n",
    "\n",
    "def is_iss_overhead():\n",
    "    response = requests.get(url=\"http://api.open-notify.org/iss-now.json\")\n",
    "    response.raise_for_status()\n",
    "    data = response.json()\n",
    "\n",
    "    iss_latitude = float(data[\"iss_position\"][\"latitude\"])\n",
    "    iss_longitude = float(data[\"iss_position\"][\"longitude\"])\n",
    "\n",
    "    #Your position is within +5 or -5 degrees of the iss position.\n",
    "    if MY_LAT-5 <= iss_latitude <= MY_LAT+5 and MY_LONG-5 <= iss_longitude <= MY_LONG+5:\n",
    "        return True\n",
    "\n",
    "\n",
    "def is_night():\n",
    "    parameters = {\n",
    "        \"lat\": MY_LAT,\n",
    "        \"lng\": MY_LONG,\n",
    "        \"formatted\": 0,\n",
    "    }\n",
    "    response = requests.get(\"https://api.sunrise-sunset.org/json\", params=parameters)\n",
    "    response.raise_for_status()\n",
    "    data = response.json()\n",
    "    sunrise = int(data[\"results\"][\"sunrise\"].split(\"T\")[1].split(\":\")[0])\n",
    "    sunset = int(data[\"results\"][\"sunset\"].split(\"T\")[1].split(\":\")[0])\n",
    "\n",
    "    time_now = datetime.now().hour\n",
    "\n",
    "    if time_now >= sunset or time_now <= sunrise:\n",
    "        return True\n",
    "\n",
    "\n",
    "while True:\n",
    "    time.sleep(60)\n",
    "    if is_iss_overhead() and is_night():\n",
    "        connection = smtplib.SMTP(\"__YOUR_SMTP_ADDRESS_HERE___\")\n",
    "        connection.starttls()\n",
    "        connection.login(MY_EMAIL, MY_PASSWORD)\n",
    "        connection.sendmail(\n",
    "            from_addr=MY_EMAIL,\n",
    "            to_addrs=MY_EMAIL,\n",
    "            msg=\"Subject:Look Up👆\\n\\nThe ISS is above you in the sky.\"\n",
    "        )\n",
    "\n",
    "\n"
   ]
  }
 ],
 "metadata": {
  "kernelspec": {
   "display_name": "Python 3 (ipykernel)",
   "language": "python",
   "name": "python3"
  },
  "language_info": {
   "codemirror_mode": {
    "name": "ipython",
    "version": 3
   },
   "file_extension": ".py",
   "mimetype": "text/x-python",
   "name": "python",
   "nbconvert_exporter": "python",
   "pygments_lexer": "ipython3",
   "version": "3.9.13"
  }
 },
 "nbformat": 4,
 "nbformat_minor": 5
}
