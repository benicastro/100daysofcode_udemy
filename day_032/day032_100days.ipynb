{
 "cells": [
  {
   "cell_type": "markdown",
   "id": "69f522b8",
   "metadata": {},
   "source": [
    "### Section 32: Day 32 - Intermediate+ Send Email (smtplib) & Manage Dates (datetime)"
   ]
  },
  {
   "cell_type": "markdown",
   "id": "322aff73",
   "metadata": {},
   "source": [
    "**------------------------------------------------------------------------------------------------------------------------------------------------------------------------------------------------------------------**"
   ]
  },
  {
   "cell_type": "markdown",
   "id": "ec1a2aa9",
   "metadata": {},
   "source": [
    "- Simple Mail Transfer Protocol"
   ]
  },
  {
   "cell_type": "code",
   "execution_count": 2,
   "id": "8b57ad69",
   "metadata": {},
   "outputs": [],
   "source": [
    "import smtplib"
   ]
  },
  {
   "cell_type": "code",
   "execution_count": 10,
   "id": "f4a56e25",
   "metadata": {},
   "outputs": [],
   "source": [
    "my_email = \"pythonuniversality@gmail.com\"\n",
    "password = \"bgwjlahbxuijsfud\""
   ]
  },
  {
   "cell_type": "markdown",
   "id": "498e9a43",
   "metadata": {},
   "source": [
    "- Transport Layer Security"
   ]
  },
  {
   "cell_type": "code",
   "execution_count": 12,
   "id": "98e6a019",
   "metadata": {},
   "outputs": [],
   "source": [
    "connection = smtplib.SMTP(\"smtp.gmail.com\", port=587)\n",
    "connection.starttls()\n",
    "connection.login(user=my_email, password=password)\n",
    "connection.sendmail(from_addr=my_email, to_addrs=\"benedict.zcastro@gmail.com\", msg=\"Subject:Hello\\n\\nThis is the body.\")\n",
    "connection.close()"
   ]
  },
  {
   "cell_type": "code",
   "execution_count": null,
   "id": "a2714626",
   "metadata": {},
   "outputs": [],
   "source": [
    "with smtplib.SMTP(\"smtp.gmail.com\", port=587) as connection:\n",
    "    connection.starttls()\n",
    "    connection.login(user=my_email, password=password)\n",
    "    connection.sendmail(from_addr=my_email, \n",
    "                        to_addrs=\"benedict.zcastro@gmail.com\", \n",
    "                        msg=\"Subject:Hello\\n\\nThis is the body.\")\n",
    "    "
   ]
  },
  {
   "cell_type": "code",
   "execution_count": 3,
   "id": "3b437822",
   "metadata": {},
   "outputs": [],
   "source": [
    "import datetime as dt"
   ]
  },
  {
   "cell_type": "code",
   "execution_count": 5,
   "id": "5e600582",
   "metadata": {},
   "outputs": [
    {
     "name": "stdout",
     "output_type": "stream",
     "text": [
      "2023-03-16 09:05:43.331780\n"
     ]
    }
   ],
   "source": [
    "now = dt.datetime.now()\n",
    "print(now)"
   ]
  },
  {
   "cell_type": "code",
   "execution_count": 6,
   "id": "2acd4168",
   "metadata": {},
   "outputs": [
    {
     "data": {
      "text/plain": [
       "2023"
      ]
     },
     "execution_count": 6,
     "metadata": {},
     "output_type": "execute_result"
    }
   ],
   "source": [
    "now.year"
   ]
  },
  {
   "cell_type": "code",
   "execution_count": 7,
   "id": "a4297458",
   "metadata": {},
   "outputs": [
    {
     "data": {
      "text/plain": [
       "16"
      ]
     },
     "execution_count": 7,
     "metadata": {},
     "output_type": "execute_result"
    }
   ],
   "source": [
    "now.day\n"
   ]
  },
  {
   "cell_type": "code",
   "execution_count": 8,
   "id": "609b94da",
   "metadata": {},
   "outputs": [
    {
     "data": {
      "text/plain": [
       "3"
      ]
     },
     "execution_count": 8,
     "metadata": {},
     "output_type": "execute_result"
    }
   ],
   "source": [
    "now.weekday()"
   ]
  },
  {
   "cell_type": "code",
   "execution_count": 9,
   "id": "de231e8d",
   "metadata": {},
   "outputs": [],
   "source": [
    "date_of_birth = dt.datetime(year=1993, month=11, day=11)"
   ]
  },
  {
   "cell_type": "markdown",
   "id": "7bd397f8",
   "metadata": {},
   "source": [
    "**------------------------------------------------------------------------------------------------------------------------------------------------------------------------------------------------------------------**"
   ]
  },
  {
   "cell_type": "markdown",
   "id": "d00c14cb",
   "metadata": {},
   "source": [
    "### Challenge: Monday Motivational Quotes Program"
   ]
  },
  {
   "cell_type": "code",
   "execution_count": 18,
   "id": "2552e533",
   "metadata": {},
   "outputs": [],
   "source": [
    "import smtplib\n",
    "import datetime\n",
    "import random"
   ]
  },
  {
   "cell_type": "code",
   "execution_count": 19,
   "id": "dc279dce",
   "metadata": {},
   "outputs": [],
   "source": [
    "my_email = \"pythonuniversality@gmail.com\"\n",
    "password = \"bgwjlahbxuijsfud\""
   ]
  },
  {
   "cell_type": "code",
   "execution_count": 20,
   "id": "6318f142",
   "metadata": {},
   "outputs": [],
   "source": [
    "with open(file=\"quotes.txt\", mode=\"r\") as file:\n",
    "    quotes = file.readlines()\n",
    "    quotes_list = [quote.replace(\"\\n\", \"\") for quote in quotes_list]\n",
    "\n",
    "day_of_the_week = datetime.datetime.now().weekday()\n",
    "\n"
   ]
  },
  {
   "cell_type": "code",
   "execution_count": 26,
   "id": "7c1f5c7f",
   "metadata": {},
   "outputs": [],
   "source": [
    "with smtplib.SMTP(\"smtp.gmail.com\", port=587) as connection:\n",
    "    connection.starttls()\n",
    "    connection.login(user=my_email, password=password)\n",
    "    \n",
    "    if day_of_the_week == 3:\n",
    "        connection.sendmail(from_addr=my_email, \n",
    "                            to_addrs=\"mmebo1@alum.up.edu.ph\", \n",
    "                            msg=f\"Subject:Motivational Quote Program Test\\n\\nThis is a random quote.\\n\\n{random.choice(quotes_list)}\")"
   ]
  },
  {
   "cell_type": "markdown",
   "id": "f3190b56",
   "metadata": {},
   "source": [
    "**------------------------------------------------------------------------------------------------------------------------------------------------------------------------------------------------------------------**"
   ]
  },
  {
   "cell_type": "markdown",
   "id": "2872f46b",
   "metadata": {},
   "source": [
    "### Project - Automated Birthday Wisher"
   ]
  },
  {
   "cell_type": "code",
   "execution_count": null,
   "id": "735eac48",
   "metadata": {},
   "outputs": [],
   "source": [
    "\"\"\"\n",
    "Automatic Birthday Wisher Project by Benedict Z. Castro | benedict.zcastro@gmail.com\n",
    "\"\"\"\n",
    "\n",
    "# Import needed modules\n",
    "import pandas as pd\n",
    "import datetime as dt\n",
    "import smtplib\n",
    "import random\n",
    "\n",
    "# Declare constant variables\n",
    "MY_EMAIL = \"pythonuniversality@gmail.com\"\n",
    "PASSWORD = \"bgwjlahbxuijsfud\"\n",
    "\n",
    "# Create a tuple for today's date\n",
    "today = (dt.datetime.now().month, dt.datetime.now().day)\n",
    "\n",
    "# Read the csv file and save to a dictionary\n",
    "birthdays = pd.read_csv(\"birthdays.csv\")\n",
    "birthdays_dict = {(data_row.month, data_row.day): data_row for (index, data_row) in birthdays.iterrows()}\n",
    "\n",
    "# Check if today's date is in the birthdays dictionary and sent to the person celebrating\n",
    "if today in birthdays_dict:\n",
    "    with open(file=f\"letter_templates/letter_{random.randint(1,3)}.txt\") as letter_file:\n",
    "        letter_content = letter_file.read()\n",
    "        letter_message = letter_content.replace(\"[NAME]\", birthdays_dict[today][\"name\"])\n",
    "    with smtplib.SMTP(\"smtp.gmail.com\", port=587) as connection:\n",
    "        connection.starttls()\n",
    "        connection.login(user=MY_EMAIL, password=PASSWORD)\n",
    "        connection.sendmail(from_addr=MY_EMAIL,\n",
    "                            to_addrs=birthdays_dict[today][\"email\"],\n",
    "                            msg=f\"Subject: Happy Birthday\\n\\n{letter_message}\",\n",
    "                            )\n"
   ]
  },
  {
   "cell_type": "markdown",
   "id": "a991a5e2",
   "metadata": {},
   "source": [
    "**------------------------------------------------------------------------------------------------------------------------------------------------------------------------------------------------------------------**"
   ]
  },
  {
   "cell_type": "code",
   "execution_count": null,
   "id": "2eb61562",
   "metadata": {},
   "outputs": [],
   "source": [
    "#To run and test the code you need to update 4 places:\n",
    "# 1. Change MY_EMAIL/MY_PASSWORD to your own details.\n",
    "# 2. Go to your email provider and make it allow less secure apps.\n",
    "# 3. Update the SMTP ADDRESS to match your email provider.\n",
    "# 4. Update birthdays.csv to contain today's month and day.\n",
    "# See the solution video in the 100 Days of Python Course for explainations.\n",
    "\n",
    "\n",
    "from datetime import datetime\n",
    "import pandas\n",
    "import random\n",
    "import smtplib\n",
    "\n",
    "MY_EMAIL = \"YOUR EMAIL\"\n",
    "MY_PASSWORD = \"YOUR PASSWORD\"\n",
    "\n",
    "today = datetime.now()\n",
    "today_tuple = (today.month, today.day)\n",
    "\n",
    "data = pandas.read_csv(\"birthdays.csv\")\n",
    "birthdays_dict = {(data_row[\"month\"], data_row[\"day\"]): data_row for (index, data_row) in data.iterrows()}\n",
    "if today_tuple in birthdays_dict:\n",
    "    birthday_person = birthdays_dict[today_tuple]\n",
    "    file_path = f\"letter_templates/letter_{random.randint(1,3)}.txt\"\n",
    "    with open(file_path) as letter_file:\n",
    "        contents = letter_file.read()\n",
    "        contents = contents.replace(\"[NAME]\", birthday_person[\"name\"])\n",
    "\n",
    "    with smtplib.SMTP(\"YOUR EMAIL PROVIDER SMTP SERVER ADDRESS\") as connection:\n",
    "        connection.starttls()\n",
    "        connection.login(MY_EMAIL, MY_PASSWORD)\n",
    "        connection.sendmail(\n",
    "            from_addr=MY_EMAIL,\n",
    "            to_addrs=birthday_person[\"email\"],\n",
    "            msg=f\"Subject:Happy Birthday!\\n\\n{contents}\"\n",
    "        )\n"
   ]
  }
 ],
 "metadata": {
  "kernelspec": {
   "display_name": "Python 3 (ipykernel)",
   "language": "python",
   "name": "python3"
  },
  "language_info": {
   "codemirror_mode": {
    "name": "ipython",
    "version": 3
   },
   "file_extension": ".py",
   "mimetype": "text/x-python",
   "name": "python",
   "nbconvert_exporter": "python",
   "pygments_lexer": "ipython3",
   "version": "3.9.13"
  }
 },
 "nbformat": 4,
 "nbformat_minor": 5
}
