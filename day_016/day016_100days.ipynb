{
 "cells": [
  {
   "cell_type": "markdown",
   "id": "cdcf8bf9",
   "metadata": {},
   "source": [
    "### Section 16: Day 16 - Intermediate - Object Oriented Programming (OOP)"
   ]
  },
  {
   "cell_type": "markdown",
   "id": "a6f6a5d3",
   "metadata": {},
   "source": [
    "**------------------------------------------------------------------------------------------------------------------------------------------------------------------------------------------------------------------**"
   ]
  },
  {
   "cell_type": "markdown",
   "id": "fbfc1932",
   "metadata": {},
   "source": [
    "- In ***Object Oriented Programming***, we're trying to model real-life objects and those objects have things and they can also do things.\n",
    "- ***Attributes*** are variables attached to an object.\n",
    "- A ***Method*** is a function that a particular modeled object can do."
   ]
  },
  {
   "cell_type": "markdown",
   "id": "74d1e718",
   "metadata": {},
   "source": [
    "- In OOP, we call the blueprint or type, a ***Class*** and the individual objects that are generated from the blueprint **Objects**."
   ]
  },
  {
   "cell_type": "code",
   "execution_count": 1,
   "id": "13c03b63",
   "metadata": {},
   "outputs": [
    {
     "name": "stdout",
     "output_type": "stream",
     "text": [
      "<turtle.Turtle object at 0x000001F7633D7970>\n",
      "300\n"
     ]
    }
   ],
   "source": [
    "from turtle import Turtle, Screen\n",
    "\n",
    "emi = Turtle()\n",
    "print(emi)\n",
    "emi.shape(\"turtle\")\n",
    "emi.color(\"coral\")\n",
    "emi.forward(100)\n",
    "\n",
    "\n",
    "my_screen = Screen()\n",
    "print(my_screen.canvheight)\n",
    "my_screen.exitonclick()"
   ]
  },
  {
   "cell_type": "code",
   "execution_count": 3,
   "id": "4fc7c4be",
   "metadata": {},
   "outputs": [
    {
     "name": "stdout",
     "output_type": "stream",
     "text": [
      "Defaulting to user installation because normal site-packages is not writeable\n",
      "Collecting PrettyTable\n",
      "  Using cached prettytable-3.6.0-py3-none-any.whl (27 kB)\n",
      "Requirement already satisfied: wcwidth in c:\\programdata\\anaconda3\\lib\\site-packages (from PrettyTable) (0.2.5)\n",
      "Installing collected packages: PrettyTable\n",
      "Successfully installed PrettyTable-3.6.0\n"
     ]
    }
   ],
   "source": [
    "#!pip install PrettyTable"
   ]
  },
  {
   "cell_type": "code",
   "execution_count": 14,
   "id": "bcba8347",
   "metadata": {},
   "outputs": [
    {
     "name": "stdout",
     "output_type": "stream",
     "text": [
      "{'base_align_value': 'c', 'Pokemon Name': 'l', 'Type': 'l'}\n",
      "+--------------+----------+\n",
      "| Pokemon Name | Type     |\n",
      "+--------------+----------+\n",
      "| Pikachu      | Electric |\n",
      "| Squirtle     | Water    |\n",
      "| Charmander   | Fire     |\n",
      "+--------------+----------+\n"
     ]
    }
   ],
   "source": [
    "from prettytable import PrettyTable\n",
    "\n",
    "table = PrettyTable()\n",
    "table.add_column(\"Pokemon Name\", [\"Pikachu\", \"Squirtle\", \"Charmander\"])\n",
    "table.add_column(\"Type\", [\"Electric\", \"Water\", \"Fire\"])\n",
    "table.align = \"l\"\n",
    "print(table.align)\n",
    "\n",
    "\n",
    "\n",
    "\n",
    "\n",
    "print(table)"
   ]
  },
  {
   "cell_type": "markdown",
   "id": "906a059b",
   "metadata": {},
   "source": [
    "**------------------------------------------------------------------------------------------------------------------------------------------------------------------------------------------------------------------**"
   ]
  },
  {
   "cell_type": "markdown",
   "id": "a1f81aef",
   "metadata": {},
   "source": [
    "### Quiz 10: Python Objects Quiz"
   ]
  },
  {
   "cell_type": "markdown",
   "id": "caef07a9",
   "metadata": {},
   "source": [
    "1. In OOP what is the name of the blueprint for creating objects?\n",
    "\n",
    "- Class"
   ]
  },
  {
   "cell_type": "markdown",
   "id": "b56993de",
   "metadata": {},
   "source": [
    "2. Given a Class blueprint for a Car has the following attributes and methods, which line of code in the answers will produce an error?\n",
    "\n",
    "- Attributes:\n",
    "    - num_of_seats\n",
    "    - speed\n",
    "\n",
    "- Methods:\n",
    "    - drive()\n",
    "    - brake()"
   ]
  },
  {
   "cell_type": "markdown",
   "id": "c017f7af",
   "metadata": {},
   "source": [
    "- car.brake() = 0"
   ]
  },
  {
   "cell_type": "markdown",
   "id": "b79beccc",
   "metadata": {},
   "source": [
    "3. What word would you use to describe what's inside my_toyota and my_fiat?\n",
    "\n",
    "- my_toyota = Car()\n",
    "- my_fiat = Car()\n"
   ]
  },
  {
   "cell_type": "markdown",
   "id": "551d2789",
   "metadata": {},
   "source": [
    "- my_toyota and my_fiat are variables and each contains a Car object."
   ]
  },
  {
   "cell_type": "markdown",
   "id": "0b8c8119",
   "metadata": {},
   "source": [
    "**------------------------------------------------------------------------------------------------------------------------------------------------------------------------------------------------------------------**"
   ]
  },
  {
   "cell_type": "markdown",
   "id": "e8cbd206",
   "metadata": {},
   "source": [
    "### Project 16 - OOP Coffee Machine"
   ]
  },
  {
   "cell_type": "code",
   "execution_count": null,
   "id": "fd597b8c",
   "metadata": {},
   "outputs": [],
   "source": [
    "\"\"\"\n",
    "OOP Coffee Machine by Benedict Castro | benedict.zcastro@gmail.com\n",
    "\"\"\"\n",
    "import sys\n",
    "\n",
    "# Import needed modules\n",
    "from menu import Menu, MenuItem\n",
    "from coffee_maker import CoffeeMaker\n",
    "from money_machine import MoneyMachine\n",
    "\n",
    "\n",
    "def main():\n",
    "    \"\"\" OOP Coffee Machine\"\"\"\n",
    "\n",
    "    # Create objects from the given classes above\n",
    "    # menu_item = MenuItem()\n",
    "    menu = Menu()\n",
    "    coffee_maker = CoffeeMaker()\n",
    "    money_machine = MoneyMachine()\n",
    "\n",
    "    machine_running = True\n",
    "    while machine_running:  # Main program loop\n",
    "\n",
    "        # Ask user for their order\n",
    "        user_order = input(f\"What would you like? ({menu.get_items()}): \")\n",
    "        if user_order.lower() == \"off\":\n",
    "            sys.exit()\n",
    "        elif user_order.lower() == \"report\":\n",
    "            coffee_maker.report()\n",
    "            money_machine.report()\n",
    "        else:\n",
    "            chosen_drink = menu.find_drink(user_order)\n",
    "            # Check if there are enough resources for the chosen drink\n",
    "            if coffee_maker.is_resource_sufficient(chosen_drink) and money_machine.make_payment(chosen_drink.cost):\n",
    "                coffee_maker.make_coffee(chosen_drink)\n",
    "\n",
    "\n",
    "# If program is run (instead of imported), run the program\n",
    "if __name__ == \"__main__\":\n",
    "    main()"
   ]
  },
  {
   "cell_type": "code",
   "execution_count": null,
   "id": "6e101e14",
   "metadata": {},
   "outputs": [],
   "source": [
    "from menu import Menu\n",
    "from coffee_maker import CoffeeMaker\n",
    "from money_machine import MoneyMachine\n",
    "\n",
    "money_machine = MoneyMachine()\n",
    "coffee_maker = CoffeeMaker()\n",
    "menu = Menu()\n",
    "\n",
    "is_on = True\n",
    "\n",
    "while is_on:\n",
    "    options = menu.get_items()\n",
    "    choice = input(f\"What would you like? ({options}): \")\n",
    "    if choice == \"off\":\n",
    "        is_on = False\n",
    "    elif choice == \"report\":\n",
    "        coffee_maker.report()\n",
    "        money_machine.report()\n",
    "    else:\n",
    "        drink = menu.find_drink(choice)\n",
    "        \n",
    "        if coffee_maker.is_resource_sufficient(drink) and money_machine.make_payment(drink.cost):\n",
    "          coffee_maker.make_coffee(drink)"
   ]
  }
 ],
 "metadata": {
  "kernelspec": {
   "display_name": "Python 3 (ipykernel)",
   "language": "python",
   "name": "python3"
  },
  "language_info": {
   "codemirror_mode": {
    "name": "ipython",
    "version": 3
   },
   "file_extension": ".py",
   "mimetype": "text/x-python",
   "name": "python",
   "nbconvert_exporter": "python",
   "pygments_lexer": "ipython3",
   "version": "3.9.13"
  }
 },
 "nbformat": 4,
 "nbformat_minor": 5
}
