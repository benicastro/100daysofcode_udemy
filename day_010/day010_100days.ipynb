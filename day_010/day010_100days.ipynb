{
 "cells": [
  {
   "cell_type": "markdown",
   "id": "99b16014",
   "metadata": {},
   "source": [
    "### Section 10: Day 10 - Beginner - Functions with Outputs"
   ]
  },
  {
   "cell_type": "markdown",
   "id": "322aff73",
   "metadata": {},
   "source": [
    "**------------------------------------------------------------------------------------------------------------------------------------------------------------------------------------------------------------------**"
   ]
  },
  {
   "cell_type": "code",
   "execution_count": 1,
   "id": "5f7bb0c8",
   "metadata": {},
   "outputs": [],
   "source": [
    "def my_function():\n",
    "    result = 5 * 10\n",
    "    return result"
   ]
  },
  {
   "cell_type": "code",
   "execution_count": 2,
   "id": "8edcb9ea",
   "metadata": {},
   "outputs": [
    {
     "data": {
      "text/plain": [
       "50"
      ]
     },
     "execution_count": 2,
     "metadata": {},
     "output_type": "execute_result"
    }
   ],
   "source": [
    "my_function()"
   ]
  },
  {
   "cell_type": "markdown",
   "id": "72aa6436",
   "metadata": {},
   "source": [
    "##### Functions with Outputs"
   ]
  },
  {
   "cell_type": "code",
   "execution_count": 10,
   "id": "205e15a3",
   "metadata": {},
   "outputs": [],
   "source": [
    "def format_name(f_name, l_name):\n",
    "    full_name = f\"{f_name.title()} {l_name.title()}\"\n",
    "    return full_name"
   ]
  },
  {
   "cell_type": "code",
   "execution_count": 11,
   "id": "4ead06dc",
   "metadata": {},
   "outputs": [
    {
     "name": "stdout",
     "output_type": "stream",
     "text": [
      "Please provide first name: beni\n",
      "Please provide last name: castro\n",
      "Beni Castro\n"
     ]
    }
   ],
   "source": [
    "f_name = input(\"Please provide first name: \")\n",
    "l_name = input(\"Please provide last name: \")\n",
    "full_name = format_name(f_name, l_name)\n",
    "print(full_name)"
   ]
  },
  {
   "cell_type": "markdown",
   "id": "8114cd80",
   "metadata": {},
   "source": [
    "**------------------------------------------------------------------------------------------------------------------------------------------------------------------------------------------------------------------**"
   ]
  },
  {
   "cell_type": "markdown",
   "id": "1ca24447",
   "metadata": {},
   "source": [
    "### Exercise 1 - Days in Month"
   ]
  },
  {
   "cell_type": "markdown",
   "id": "dd29c9c3",
   "metadata": {},
   "source": [
    "- In the starting code, you'll find the solution from the Leap Year challenge. First, convert this function is_leap() so that instead of printing \"Leap year.\" or \"Not leap year.\" it should return True if it is a leap year and return False if it is not a leap year.\n",
    "- You are then going to create a function called days_in_month() which will take a year and a month as inputs,\n",
    "- And it will use this information to work out the number of days in the month, then return that as the output.\n",
    "- The List month_days contains the number of days in a month from January to December for a non-leap year. A leap year has 29 days in February.\n"
   ]
  },
  {
   "cell_type": "code",
   "execution_count": 20,
   "id": "dbfd733f",
   "metadata": {},
   "outputs": [],
   "source": [
    "month_days = [31, 28, 31, 30, 31, 30, 31, 31, 30, 31, 30, 31]\n",
    "\n",
    "def is_leap(year):\n",
    "    \"\"\"This function checks whether the input year is a leap year or not. It returns True or False values.\"\"\"\n",
    "    if year % 4 == 0:\n",
    "        if year % 100 == 0:\n",
    "            if year % 400 == 0:\n",
    "                return True\n",
    "            else:\n",
    "                return False\n",
    "        else:\n",
    "            return True\n",
    "    else:\n",
    "        return False\n",
    "    \n",
    "def days_in_month(year, month):\n",
    "    \"\"\"This function outputs the number of days for a given month, for a given year.\"\"\"\n",
    "    if month > 12 or month < 1:\n",
    "        return \"Invalid input!\"\n",
    "    if is_leap(year) and month == 2:\n",
    "        return month_days[1] + 1\n",
    "    return month_days[month-1]"
   ]
  },
  {
   "cell_type": "code",
   "execution_count": 22,
   "id": "0dbc82bb",
   "metadata": {},
   "outputs": [
    {
     "name": "stdout",
     "output_type": "stream",
     "text": [
      "Please provide the year: 2020\n",
      "Please provide the month: 2\n",
      "29\n"
     ]
    }
   ],
   "source": [
    "year = int(input(\"Please provide the year: \"))\n",
    "month = int(input(\"Please provide the month: \"))\n",
    "output = days_in_month(year, month)\n",
    "print(output)"
   ]
  },
  {
   "cell_type": "markdown",
   "id": "8c72bd77",
   "metadata": {},
   "source": [
    "**------------------------------------------------------------------------------------------------------------------------------------------------------------------------------------------------------------------**"
   ]
  },
  {
   "cell_type": "code",
   "execution_count": 23,
   "id": "f24d72d7",
   "metadata": {},
   "outputs": [
    {
     "data": {
      "text/plain": [
       "'Docstrings'"
      ]
     },
     "execution_count": 23,
     "metadata": {},
     "output_type": "execute_result"
    }
   ],
   "source": [
    "\"\"\"Docstrings\"\"\""
   ]
  },
  {
   "cell_type": "markdown",
   "id": "d40b1d08",
   "metadata": {},
   "source": [
    "**------------------------------------------------------------------------------------------------------------------------------------------------------------------------------------------------------------------**"
   ]
  },
  {
   "cell_type": "markdown",
   "id": "954ddf16",
   "metadata": {},
   "source": [
    "### Quiz 8 - Functions Quiz"
   ]
  },
  {
   "cell_type": "markdown",
   "id": "ee8167ce",
   "metadata": {},
   "source": [
    "1. Without running the code below, what do you think will be printed in the console?"
   ]
  },
  {
   "cell_type": "code",
   "execution_count": 24,
   "id": "184ab82b",
   "metadata": {},
   "outputs": [
    {
     "name": "stdout",
     "output_type": "stream",
     "text": [
      "12.0\n"
     ]
    }
   ],
   "source": [
    "def add(n1, n2):\n",
    "  return n1 + n2\n",
    " \n",
    "def subtract(n1, n2):\n",
    "  return n1 - n2\n",
    " \n",
    "def multiply(n1, n2):\n",
    "  return n1 * n2\n",
    " \n",
    "def divide(n1, n2):\n",
    "  return n1 / n2\n",
    " \n",
    "print(add(2, multiply(5, divide(8, 4))))"
   ]
  },
  {
   "cell_type": "markdown",
   "id": "a7948ce1",
   "metadata": {},
   "source": [
    "2. What would you predict to be the result of running the following code?"
   ]
  },
  {
   "cell_type": "code",
   "execution_count": 25,
   "id": "e94b85c5",
   "metadata": {},
   "outputs": [
    {
     "name": "stdout",
     "output_type": "stream",
     "text": [
      "15\n"
     ]
    }
   ],
   "source": [
    "def outer_function(a, b):\n",
    "    def inner_function(c, d):\n",
    "        return c + d\n",
    "    return inner_function(a, b)\n",
    " \n",
    "result = outer_function(5, 10)\n",
    "print(result)"
   ]
  },
  {
   "cell_type": "markdown",
   "id": "794add43",
   "metadata": {},
   "source": [
    "3. What will be printed in the console after running the following code?"
   ]
  },
  {
   "cell_type": "code",
   "execution_count": 26,
   "id": "00b204b7",
   "metadata": {},
   "outputs": [
    {
     "name": "stdout",
     "output_type": "stream",
     "text": [
      "None\n"
     ]
    }
   ],
   "source": [
    "def my_function(a):\n",
    "    if a < 40:\n",
    "        return\n",
    "        print(\"Terrible\")\n",
    "    if a < 80:\n",
    "        return \"Pass\"\n",
    "    else:\n",
    "        return \"Great\"\n",
    "print(my_function(25))"
   ]
  },
  {
   "cell_type": "markdown",
   "id": "5102cef5",
   "metadata": {},
   "source": [
    "**------------------------------------------------------------------------------------------------------------------------------------------------------------------------------------------------------------------**"
   ]
  },
  {
   "cell_type": "markdown",
   "id": "246202df",
   "metadata": {},
   "source": [
    "### Project 10 - Calculator"
   ]
  },
  {
   "cell_type": "code",
   "execution_count": null,
   "id": "63fbdf22",
   "metadata": {},
   "outputs": [],
   "source": [
    "\"\"\"Calculator Program, by Benedict Castro benedict.castro11@gmail.com\n",
    "A digital computing tool.\n",
    "Tags: short, code, math\"\"\"\n",
    "\n",
    "# Import modules needed\n",
    "import proj_art\n",
    "import os\n",
    "\n",
    "def main():\n",
    "    print(proj_art.logo)\n",
    "    print('''Milyastroc's Calculator, a digital computing tool.\n",
    "            By Benedict Castro benedict.zcastro@gmail.com''')\n",
    "\n",
    "    def ask_numbers(stage):\n",
    "        if stage == \"start\":\n",
    "            num1 = float(input(\"Please provide the first number: \"))\n",
    "            operation = input(\"What operation would you like?: \\n + \\t - \\t * \\t / \\n Operation: \")\n",
    "            num2 = float(input(\"Please provide the next number: \"))\n",
    "            return num1, num2, operation\n",
    "        else:\n",
    "            operation = input(\"What operation would you like?: \\n + \\t - \\t * \\t / \\n Operation: \")\n",
    "            num2 = float(input(\"Please provide the next number: \"))\n",
    "            return num2, operation\n",
    "\n",
    "    def perform_operation(operation, num1, num2):\n",
    "        \"\"\"This function performs an arithmetic operation based on the input numbers.\"\"\"\n",
    "\n",
    "        # Define all arithmetic operations\n",
    "        def add(num1, num2):\n",
    "            return num1 + num2\n",
    "\n",
    "        def subtract(num1, num2):\n",
    "            return num1 - num2\n",
    "\n",
    "        def multiply(num1, num2):\n",
    "            return num1 * num2\n",
    "\n",
    "        def divide(num1, num2):\n",
    "            return num1 / num2\n",
    "\n",
    "        # Create a dictionary containing these operations\n",
    "        operation_dictionary = {\n",
    "            \"+\": add,\n",
    "            \"-\": subtract,\n",
    "            \"*\": multiply,\n",
    "            \"/\": divide,\n",
    "        }\n",
    "\n",
    "        calculate = operation_dictionary[operation]\n",
    "        return calculate(num1, num2)\n",
    "\n",
    "    run_program = True\n",
    "    while run_program:  # Main program loop\n",
    "        stage = \"start\"\n",
    "        num1, num2, operation = ask_numbers(stage)\n",
    "        result = perform_operation(operation, num1, num2)\n",
    "        print(f\"{num1} {operation} {num2} = {result}\")\n",
    "\n",
    "        # Ask user if they want to continue calculating\n",
    "        calculate_again = True\n",
    "        while calculate_again:\n",
    "            continue_calculation = input(f'Do you want to continue with the previous result ({result})?: Type \"yes\" or \"no\": ')\n",
    "            if continue_calculation.lower() != \"yes\":\n",
    "                os.system('cls' if os.name == 'nt' else 'clear')\n",
    "                calculate_again = False\n",
    "            else:\n",
    "                os.system('cls' if os.name == 'nt' else 'clear')\n",
    "                stage = \"continuation\"\n",
    "                num1 = result\n",
    "                num2, operation = ask_numbers(stage)\n",
    "                result = perform_operation(operation, num1, num2)\n",
    "                print(f\"{num1} {operation} {num2} = {result}\")\n",
    "\n",
    "        # Ask the user if they want to run the calculator again\n",
    "        use_again = input('Do you want to use the calculator again? Type \"yes\" or \"no\": ')\n",
    "        if use_again.lower() != \"yes\":\n",
    "            run_program = False\n",
    "        os.system('cls' if os.name == 'nt' else 'clear')\n",
    "\n",
    "    print(\"Thank you for using this tool. I hope you had a great time!\")\n",
    "\n",
    "\n",
    "# If the program is run (instead of imported), run the game:\n",
    "if __name__ == \"__main__\":\n",
    "    main()"
   ]
  },
  {
   "cell_type": "code",
   "execution_count": null,
   "id": "9ac90f6a",
   "metadata": {},
   "outputs": [],
   "source": [
    "# Replit Solution Code\n",
    "'''\n",
    "from replit import clear\n",
    "from art import logo\n",
    "\n",
    "def add(n1, n2):\n",
    "  return n1 + n2\n",
    "\n",
    "def subtract(n1, n2):\n",
    "  return n1 - n2\n",
    "\n",
    "def multiply(n1, n2):\n",
    "  return n1 * n2\n",
    "\n",
    "def divide(n1, n2):\n",
    "  return n1 / n2\n",
    "\n",
    "operations = {\n",
    "  \"+\": add,\n",
    "  \"-\": subtract,\n",
    "  \"*\": multiply,\n",
    "  \"/\": divide\n",
    "}\n",
    "\n",
    "def calculator():\n",
    "  print(logo)\n",
    "\n",
    "  num1 = float(input(\"What's the first number?: \"))\n",
    "  for symbol in operations:\n",
    "    print(symbol)\n",
    "  should_continue = True\n",
    " \n",
    "  while should_continue:\n",
    "    operation_symbol = input(\"Pick an operation: \")\n",
    "    num2 = float(input(\"What's the next number?: \"))\n",
    "    calculation_function = operations[operation_symbol]\n",
    "    answer = calculation_function(num1, num2)\n",
    "    print(f\"{num1} {operation_symbol} {num2} = {answer}\")\n",
    "\n",
    "    if input(f\"Type 'y' to continue calculating with {answer}, or type 'n' to start a new calculation: \") == 'y':\n",
    "      num1 = answer\n",
    "    else:\n",
    "      should_continue = False\n",
    "      clear()\n",
    "      calculator()\n",
    "\n",
    "calculator()\n",
    "'''"
   ]
  }
 ],
 "metadata": {
  "kernelspec": {
   "display_name": "Python 3 (ipykernel)",
   "language": "python",
   "name": "python3"
  },
  "language_info": {
   "codemirror_mode": {
    "name": "ipython",
    "version": 3
   },
   "file_extension": ".py",
   "mimetype": "text/x-python",
   "name": "python",
   "nbconvert_exporter": "python",
   "pygments_lexer": "ipython3",
   "version": "3.9.13"
  }
 },
 "nbformat": 4,
 "nbformat_minor": 5
}
