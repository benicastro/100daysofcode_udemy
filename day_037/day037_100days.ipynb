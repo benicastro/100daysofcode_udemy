{
 "cells": [
  {
   "cell_type": "markdown",
   "id": "b251ebf8",
   "metadata": {},
   "source": [
    "### Section 37: Day 37 - Intermediate+ Habit Tracking Project: API Post Requests & Headers"
   ]
  },
  {
   "cell_type": "markdown",
   "id": "8c98f4b8",
   "metadata": {},
   "source": [
    "**------------------------------------------------------------------------------------------------------------------------------------------------------------------------------------------------------------------**"
   ]
  },
  {
   "cell_type": "markdown",
   "id": "87ccf307",
   "metadata": {},
   "source": [
    "### Advanced Authentication and POST / PUT / DELETE Requests"
   ]
  },
  {
   "cell_type": "markdown",
   "id": "e81bcdc5",
   "metadata": {},
   "source": [
    "##### Types of Requests\n",
    "\n",
    "- GET\n",
    "- POST\n",
    "- PUT\n",
    "- DELETE"
   ]
  },
  {
   "cell_type": "markdown",
   "id": "dcd813b1",
   "metadata": {},
   "source": [
    "**------------------------------------------------------------------------------------------------------------------------------------------------------------------------------------------------------------------**"
   ]
  },
  {
   "cell_type": "markdown",
   "id": "85ff8d5c",
   "metadata": {},
   "source": [
    "### Habit Tracking Project"
   ]
  },
  {
   "cell_type": "code",
   "execution_count": null,
   "id": "de8ee99c",
   "metadata": {},
   "outputs": [],
   "source": [
    "\"\"\"\n",
    "Habit Tracking Project by Benedict Z. Castro | benedict.zcastro@gmail.com\n",
    "\"\"\"\n",
    "\n",
    "# Import needed modules/libraries ######################################################################################################\n",
    "import requests\n",
    "from datetime import datetime as dt\n",
    "\n",
    "# Declare constant variables ###########################################################################################################\n",
    "USER = \"milyastroc\"\n",
    "TOKEN = \"wikiwikiboomkaboom404kablagqwertyasdf\"\n",
    "\n",
    "\n",
    "PIXELA_ENDPOINT = \"https://pixe.la/v1/users\"\n",
    "USER_PARAMETERS = {\n",
    "    \"token\": TOKEN,\n",
    "    \"username\": USER,\n",
    "    \"agreeTermsOfService\": \"yes\",\n",
    "    \"notMinor\": \"yes\",\n",
    "}\n",
    "\n",
    "HEADERS = {\n",
    "    \"X-USER-TOKEN\": TOKEN,\n",
    "}\n",
    "\n",
    "GRAPH_ID = \"workout-graph1\"\n",
    "\n",
    "# Main #################################################################################################################################\n",
    "\n",
    "# Perform a POST request by setting up an account in Pixela\n",
    "# user_response = requests.post(url=PIXELA_ENDPOINT, json=USER_PARAMETERS)\n",
    "# print(user_response.text)\n",
    "\n",
    "# # Create a graph definition\n",
    "# graph_endpoint = f\"{PIXELA_ENDPOINT}/{USER}/graphs\"\n",
    "#\n",
    "# graph_config = {\n",
    "#     \"id\": GRAPH_ID,\n",
    "#     \"name\": \"Workout Minutes Graph\",\n",
    "#     \"unit\": \"min\",\n",
    "#     \"type\": \"float\",\n",
    "#     \"color\": \"momiji\",\n",
    "# }\n",
    "#\n",
    "# graph_response = requests.post(url=graph_endpoint, json=graph_config, headers=HEADERS)\n",
    "# print(graph_response.text)\n",
    "\n",
    "# Get today's date in this format: yyyyMMdd\n",
    "# date = dt(year=2023, month=3, day=30)\n",
    "today = dt.now()\n",
    "date = today\n",
    "\n",
    "# Post values to the graph\n",
    "pixel_creation_endpoint = f\"{PIXELA_ENDPOINT}/{USER}/graphs/{GRAPH_ID}\"\n",
    "\n",
    "pixel_data = {\n",
    "    \"date\": date.strftime(\"%Y%m%d\"),\n",
    "    \"quantity\": input(\"How long was your workout today?\"),\n",
    "}\n",
    "\n",
    "pixel_response = requests.post(url=pixel_creation_endpoint, json=pixel_data, headers=HEADERS)\n",
    "print(pixel_response.text)\n",
    "\n",
    "# # Updating a pixel\n",
    "# pixel_update_endpoint = f'{PIXELA_ENDPOINT}/{USER}/graphs/{GRAPH_ID}/{date.strftime(\"%Y%m%d\")}'\n",
    "#\n",
    "# pixel_update_data = {\n",
    "#     \"quantity\": \"1\",\n",
    "# }\n",
    "#\n",
    "# pixel_update_response = requests.put(url=pixel_update_endpoint, json=pixel_update_data, headers=HEADERS)\n",
    "# print(pixel_update_response.text)\n",
    "#\n",
    "# # Deleting a pixel\n",
    "# pixel_delete_response = requests.delete(url=pixel_update_endpoint, headers=HEADERS)\n",
    "# print(pixel_delete_response.text)\n"
   ]
  },
  {
   "cell_type": "markdown",
   "id": "0550184f",
   "metadata": {},
   "source": [
    "**------------------------------------------------------------------------------------------------------------------------------------------------------------------------------------------------------------------**"
   ]
  },
  {
   "cell_type": "code",
   "execution_count": null,
   "id": "02f09913",
   "metadata": {},
   "outputs": [],
   "source": [
    "import requests\n",
    "from datetime import datetime\n",
    "\n",
    "USERNAME = \"YOUR USERNAME\"\n",
    "TOKEN = \"YOUR SELF GENERATED TOKEN\"\n",
    "GRAPH_ID = \"YOUR GRAPH ID\"\n",
    "\n",
    "pixela_endpoint = \"https://pixe.la/v1/users\"\n",
    "\n",
    "user_params = {\n",
    "    \"token\": TOKEN,\n",
    "    \"username\": USERNAME,\n",
    "    \"agreeTermsOfService\": \"yes\",\n",
    "    \"notMinor\": \"yes\",\n",
    "}\n",
    "\n",
    "## POST\n",
    "# response = requests.post(url=pixela_endpoint, json=user_params)\n",
    "# print(response.text)\n",
    "\n",
    "graph_endpoint = f\"{pixela_endpoint}/{USERNAME}/graphs\"\n",
    "\n",
    "graph_config = {\n",
    "    \"id\": GRAPH_ID,\n",
    "    \"name\": \"Cycling Graph\",\n",
    "    \"unit\": \"Km\",\n",
    "    \"type\": \"float\",\n",
    "    \"color\": \"ajisai\"\n",
    "}\n",
    "\n",
    "headers = {\n",
    "    \"X-USER-TOKEN\": TOKEN\n",
    "}\n",
    "\n",
    "# response = requests.post(url=graph_endpoint, json=graph_config, headers=headers)\n",
    "# print(response.text)\n",
    "\n",
    "pixel_creation_endpoint = f\"{pixela_endpoint}/{USERNAME}/graphs/{GRAPH_ID}\"\n",
    "\n",
    "today = datetime.now()\n",
    "# print(today.strftime(\"%Y%m%d\"))\n",
    "\n",
    "pixel_data = {\n",
    "    \"date\": today.strftime(\"%Y%m%d\"),\n",
    "    \"quantity\": input(\"How many kilometers did you cycle today? \"),\n",
    "}\n",
    "\n",
    "response = requests.post(url=pixel_creation_endpoint, json=pixel_data, headers=headers)\n",
    "print(response.text)\n",
    "\n",
    "update_endpoint = f\"{pixela_endpoint}/{USERNAME}/graphs/{GRAPH_ID}/{today.strftime('%Y%m%d')}\"\n",
    "\n",
    "new_pixel_data = {\n",
    "    \"quantity\": \"4.5\"\n",
    "}\n",
    "\n",
    "## PUT\n",
    "# response = requests.put(url=update_endpoint, json=new_pixel_data, headers=headers)\n",
    "# print(response.text)\n",
    "\n",
    "\n",
    "delete_endpoint = f\"{pixela_endpoint}/{USERNAME}/graphs/{GRAPH_ID}/{today.strftime('%Y%m%d')}\"\n",
    "\n",
    "\n",
    "## DELETE\n",
    "# response = requests.delete(url=delete_endpoint, headers=headers)\n",
    "# print(response.text)"
   ]
  }
 ],
 "metadata": {
  "kernelspec": {
   "display_name": "Python 3 (ipykernel)",
   "language": "python",
   "name": "python3"
  },
  "language_info": {
   "codemirror_mode": {
    "name": "ipython",
    "version": 3
   },
   "file_extension": ".py",
   "mimetype": "text/x-python",
   "name": "python",
   "nbconvert_exporter": "python",
   "pygments_lexer": "ipython3",
   "version": "3.9.13"
  }
 },
 "nbformat": 4,
 "nbformat_minor": 5
}
