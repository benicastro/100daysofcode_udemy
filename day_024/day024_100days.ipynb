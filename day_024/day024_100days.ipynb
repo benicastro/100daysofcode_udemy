{
 "cells": [
  {
   "cell_type": "markdown",
   "id": "a8e621c4",
   "metadata": {},
   "source": [
    "### Section 24: Day 24 - Intermediate - Files, Directories, and Paths"
   ]
  },
  {
   "cell_type": "markdown",
   "id": "7a572fd7",
   "metadata": {},
   "source": [
    "**------------------------------------------------------------------------------------------------------------------------------------------------------------------------------------------------------------------**"
   ]
  },
  {
   "cell_type": "markdown",
   "id": "2a73b38d",
   "metadata": {},
   "source": [
    "### Files"
   ]
  },
  {
   "cell_type": "code",
   "execution_count": 2,
   "id": "2c0019df",
   "metadata": {},
   "outputs": [
    {
     "name": "stdout",
     "output_type": "stream",
     "text": [
      "Hello, my name is Beni.\n"
     ]
    }
   ],
   "source": [
    "file = open(\"my_file.txt\")\n",
    "contents = file.read()\n",
    "print(contents)\n",
    "file.close()"
   ]
  },
  {
   "cell_type": "code",
   "execution_count": 3,
   "id": "e4911e68",
   "metadata": {},
   "outputs": [
    {
     "name": "stdout",
     "output_type": "stream",
     "text": [
      "Hello, my name is Beni.\n"
     ]
    }
   ],
   "source": [
    "with open(\"my_file.txt\") as file:\n",
    "    contents = file.read()\n",
    "    print(contents)"
   ]
  },
  {
   "cell_type": "code",
   "execution_count": 5,
   "id": "921d0d48",
   "metadata": {},
   "outputs": [],
   "source": [
    "with open(\"my_file.txt\", mode=\"a\") as file:\n",
    "    file.write(\"\\nNew text.\")"
   ]
  },
  {
   "cell_type": "code",
   "execution_count": 6,
   "id": "8d3bc441",
   "metadata": {},
   "outputs": [],
   "source": [
    "with open(\"new_file.txt\", mode=\"a\") as file:\n",
    "    file.write(\"\\nNew text.\")"
   ]
  },
  {
   "cell_type": "markdown",
   "id": "1dee5c25",
   "metadata": {},
   "source": [
    "**------------------------------------------------------------------------------------------------------------------------------------------------------------------------------------------------------------------**"
   ]
  },
  {
   "cell_type": "markdown",
   "id": "2f3cdf58",
   "metadata": {},
   "source": [
    "#### Relative and Absolute File Paths"
   ]
  },
  {
   "cell_type": "code",
   "execution_count": 15,
   "id": "b8de0416",
   "metadata": {},
   "outputs": [
    {
     "name": "stdout",
     "output_type": "stream",
     "text": [
      "JCostales@rockporthc.com\n"
     ]
    }
   ],
   "source": [
    "with open(\"/Users/bened/Desktop/bayan_academy.txt\") as file:\n",
    "    contents = file.read()\n",
    "    print(contents)"
   ]
  },
  {
   "cell_type": "code",
   "execution_count": 16,
   "id": "06e9608b",
   "metadata": {},
   "outputs": [
    {
     "name": "stdout",
     "output_type": "stream",
     "text": [
      "JCostales@rockporthc.com\n"
     ]
    }
   ],
   "source": [
    "with open(\"../../../bayan_academy.txt\") as file:\n",
    "    contents = file.read()\n",
    "    print(contents)"
   ]
  },
  {
   "cell_type": "code",
   "execution_count": 13,
   "id": "4ceaaed1",
   "metadata": {},
   "outputs": [
    {
     "name": "stdout",
     "output_type": "stream",
     "text": [
      "# Some functions for testing\n",
      "def print_pass(test_name):\n",
      "\tprint(f'{test_name}:\\t Pass ✅')\n",
      "def print_fail(test_name):\n",
      "\tprint(f'{test_name}\"\\t Fail ❌')\n",
      "\n",
      "\n",
      "\n",
      "\n",
      "I am very interested in data science and I believe that this course could help me in during my transition to a new career in tech. I'm in the process of shifting careers and I am extremely passionate about data science. With the help of this course, I could gain the knowledge and skills I need to excel in the said field. \n",
      "\n",
      "However, I am currently unemployed, and as such, I am currently facing financial constraints. This makes it difficult for me to afford the cost of the course. Despite having limited resources, I am still determined to continue my education. In addition, I am eager to learn from the esteemed instructors and participate in the interactive online course materials.\n",
      "\n",
      "Furthermore, the expertise that I can gain from this data science course will be of great benefit for me in the long run. It would be very beneficial for my personal and professional career growth.\n",
      "\n",
      "\n",
      "\n",
      "\n",
      "\n",
      "I am applying for financial aid because I am currently facing financial constraints that make it difficult for me to afford the cost of the course. I am a [insert current situation or circumstances], and as such, my resources are limited. Despite these challenges, I am determined to continue my education and improve my skills in the field of data analytics. I believe that this course will provide me with the knowledge and skills I need to excel in my field, and I am eager to learn from the esteemed instructors and participate in the interactive online course materials.\n",
      "\n",
      "Furthermore, I believe that gaining expertise in data analytics will be of great benefit to me in the long run. It is a highly sought-after skill in today's job market and I am confident that the knowledge and skills I will gain from this course will help me achieve my career goals. I am also confident that the knowledge and skills gained from this course will be beneficial to my personal and professional growth.\n",
      "\n",
      "In summary, I am applying for financial aid because I am facing financial constraints that make it difficult for me to afford the cost of the course, but I am determined to continue my education and improve my skills in the field of data analytics. I believe that this course will provide me with the knowledge and skills I need to excel in my field, and I am eager to learn from the esteemed instructors and participate in the interactive online course materials.\n",
      "\n",
      "\n",
      "\n",
      "\n",
      "\n",
      "\n",
      "\n",
      "\n",
      "\n",
      "\n",
      "\n",
      "My current goal is to transition to a career in the tech industry. I have my mind set on being a data scientist and I believe that this course would allow me to achieve that goal. \n",
      "\n",
      "With the course being taught by an esteemed institution, I know that I will learn a lot and that I could develop skills that only professionals can instill to people. The field of data science is very interesting and challenging, that's why I wanted to learn it through the best online resources available. \n",
      "\n",
      "Furthermore, being able to analyze and communicate data is a highly sought-after skill in today's job market. I am very confident that this course would allow me to be one of the best in the field. And that the skills and knowledge that I will be able to acquire, would help me in my day-to-day life. These skills are really worth having , that's why I am very determined to take and complete this data science course.\n"
     ]
    }
   ],
   "source": [
    "with open(\"/Users/bened/Desktop/test.txt\", encoding=\"utf-8\") as file:\n",
    "    contents = file.read()\n",
    "    print(contents)"
   ]
  },
  {
   "cell_type": "markdown",
   "id": "681d80e9",
   "metadata": {},
   "source": [
    "**------------------------------------------------------------------------------------------------------------------------------------------------------------------------------------------------------------------**"
   ]
  },
  {
   "cell_type": "markdown",
   "id": "14048698",
   "metadata": {},
   "source": [
    "### Quiz 13: File Paths Quiz"
   ]
  },
  {
   "cell_type": "markdown",
   "id": "aa461d5d",
   "metadata": {},
   "source": [
    "1. If you are writing code inside the main.py file to open the quiz.txt what would be the relative file path?"
   ]
  },
  {
   "cell_type": "markdown",
   "id": "8d2a7476",
   "metadata": {},
   "source": [
    "2. When writing Python code, what is the absolute path to get to quiz.txt? On a Mac, Macintosh HD is the root, on a PC it is usually the C:/ drive. So it might look like this:"
   ]
  },
  {
   "cell_type": "markdown",
   "id": "2917f0c2",
   "metadata": {},
   "source": [
    "3. If you are writing code inside main.py, what is the relative file path to open quiz.txt?"
   ]
  },
  {
   "cell_type": "markdown",
   "id": "16da4c51",
   "metadata": {},
   "source": [
    "**------------------------------------------------------------------------------------------------------------------------------------------------------------------------------------------------------------------**"
   ]
  },
  {
   "cell_type": "markdown",
   "id": "1fc1415a",
   "metadata": {},
   "source": [
    "### Project 24 - Mail Merge Challenge"
   ]
  },
  {
   "cell_type": "code",
   "execution_count": null,
   "id": "09cc4b2a",
   "metadata": {},
   "outputs": [],
   "source": [
    "#TODO: Create a letter using starting_letter.txt \n",
    "#for each name in invited_names.txt\n",
    "#Replace the [name] placeholder with the actual name.\n",
    "#Save the letters in the folder \"ReadyToSend\".\n",
    "    \n",
    "#Hint1: This method will help you: https://www.w3schools.com/python/ref_file_readlines.asp\n",
    "    #Hint2: This method will also help you: https://www.w3schools.com/python/ref_string_replace.asp\n",
    "        #Hint3: THis method will help you: https://www.w3schools.com/python/ref_string_strip.asp"
   ]
  },
  {
   "cell_type": "code",
   "execution_count": null,
   "id": "b14bfbfd",
   "metadata": {},
   "outputs": [],
   "source": [
    "\"\"\"\n",
    "Mail Merge by Benedict Z. Castro | benedict.zcastro@gmail.com\n",
    "\"\"\"\n",
    "\n",
    "\n",
    "# Extract the names of the people needed for the invitations\n",
    "with open(\"Input/Names/invited_names.txt\", mode=\"r\") as file:\n",
    "    names_raw = file.readlines()\n",
    "\n",
    "# Clean the data and retain only the names\n",
    "names_cleaned = []\n",
    "for name in names_raw:\n",
    "    names_cleaned.append(name.replace(\"\\n\", \"\"))\n",
    "\n",
    "# Extract the letter body to be edited\n",
    "with open(\"Input/Letters/starting_letter.txt\", mode=\"r\") as letter:\n",
    "    letter_body = letter.read()\n",
    "\n",
    "# Replace the [name] placeholder in the letter body with the names of the people invited\n",
    "for name in names_cleaned:\n",
    "    with open(f\"Output/ReadyToSend/letter_for_{name}.txt\", mode=\"a\") as output:\n",
    "        output.write(letter_body.replace(\"[name]\", f\"{name}\"))\n"
   ]
  },
  {
   "cell_type": "markdown",
   "id": "edfa4c88",
   "metadata": {},
   "source": [
    "**------------------------------------------------------------------------------------------------------------------------------------------------------------------------------------------------------------------**"
   ]
  },
  {
   "cell_type": "code",
   "execution_count": null,
   "id": "b7dd28a6",
   "metadata": {},
   "outputs": [],
   "source": [
    "PLACEHOLDER = \"[name]\"\n",
    "\n",
    "\n",
    "with open(\"./Input/Names/invited_names.txt\") as names_file:\n",
    "    names = names_file.readlines()\n",
    "\n",
    "with open(\"./Input/Letters/starting_letter.txt\") as letter_file:\n",
    "    letter_contents = letter_file.read()\n",
    "    for name in names:\n",
    "        stripped_name = name.strip()\n",
    "        new_letter = letter_contents.replace(PLACEHOLDER, stripped_name)\n",
    "        with open(f\"./Output/ReadyToSend/letter_for_{stripped_name}.txt\", mode=\"w\") as completed_letter:\n",
    "            completed_letter.write(new_letter)\n",
    "\n"
   ]
  }
 ],
 "metadata": {
  "kernelspec": {
   "display_name": "Python 3 (ipykernel)",
   "language": "python",
   "name": "python3"
  },
  "language_info": {
   "codemirror_mode": {
    "name": "ipython",
    "version": 3
   },
   "file_extension": ".py",
   "mimetype": "text/x-python",
   "name": "python",
   "nbconvert_exporter": "python",
   "pygments_lexer": "ipython3",
   "version": "3.9.13"
  }
 },
 "nbformat": 4,
 "nbformat_minor": 5
}
