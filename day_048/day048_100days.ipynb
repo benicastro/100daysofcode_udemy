{
 "cells": [
  {
   "cell_type": "markdown",
   "id": "ca4a5fa0",
   "metadata": {},
   "source": [
    "### Section 48: Day 48 - Intermediate+ Selenium Webdriver Browser and Game Playing Bot"
   ]
  },
  {
   "cell_type": "markdown",
   "id": "d431afb9",
   "metadata": {},
   "source": [
    "***"
   ]
  },
  {
   "cell_type": "code",
   "execution_count": 8,
   "id": "3fc37d39",
   "metadata": {},
   "outputs": [
    {
     "name": "stdout",
     "output_type": "stream",
     "text": [
      "The price is 99.99\n"
     ]
    }
   ],
   "source": [
    "# Import selenium\n",
    "from selenium import webdriver\n",
    "from selenium.webdriver.common.by import By\n",
    "\n",
    "# Keep Chrome browser open after program finishes\n",
    "chrome_options = webdriver.ChromeOptions()\n",
    "chrome_options.add_experimental_option(\"detach\", True)\n",
    "\n",
    "driver = webdriver.Chrome(options=chrome_options)\n",
    "driver.maximize_window()  # For maximizing window\n",
    "driver.implicitly_wait(20)  # gives an implicit wait for 20 seconds\n",
    "driver.get(\"https://www.amazon.com/Instant-Pot-Multi-Use-Programmable-Pressure/dp/B00FLYWNYQ?th=1\")\n",
    "\n",
    "price_dollar = driver.find_element(By.CLASS_NAME, value=\"a-price-whole\").text\n",
    "price_cents = driver.find_element(By.CLASS_NAME, value=\"a-price-fraction\").text\n",
    "print(f\"The price is {price_dollar}.{price_cents}\")\n",
    "\n",
    "# Close a single tab\n",
    "# driver.close()\n",
    "# Close the entire browser\n",
    "driver.quit()"
   ]
  },
  {
   "cell_type": "markdown",
   "id": "021914ee",
   "metadata": {},
   "source": [
    "***"
   ]
  },
  {
   "cell_type": "code",
   "execution_count": 9,
   "id": "9083760a",
   "metadata": {},
   "outputs": [
    {
     "name": "stdout",
     "output_type": "stream",
     "text": [
      "{0: {'time': '2023-09-14', 'name': 'PyData Amsterdam 2023'}, 1: {'time': '2023-09-15', 'name': 'Kiwi PyCon 2023'}, 2: {'time': '2023-09-15', 'name': 'PyCon CZ 2023'}, 3: {'time': '2023-09-16', 'name': 'PyTraining: Getting Started with API Design using Python'}, 4: {'time': '2023-09-19', 'name': 'PyData Seattle: Language Creators Charity Fundraiser'}}\n"
     ]
    }
   ],
   "source": [
    "# Import selenium\n",
    "from selenium import webdriver\n",
    "from selenium.webdriver.common.by import By\n",
    "\n",
    "# Keep Chrome browser open after program finishes\n",
    "chrome_options = webdriver.ChromeOptions()\n",
    "chrome_options.add_experimental_option(\"detach\", True)\n",
    "\n",
    "driver = webdriver.Chrome(options=chrome_options)\n",
    "driver.maximize_window()\n",
    "driver.implicitly_wait(20)\n",
    "driver.get(\"https://www.python.org/\")\n",
    "\n",
    "event_list = {}\n",
    "\n",
    "events = driver.find_elements(By.CSS_SELECTOR, value=\".event-widget li\")\n",
    "for idx, event in enumerate(events):\n",
    "    event_list[idx] = {\n",
    "        \"time\": event.find_element(By.CSS_SELECTOR, value=\"time\").text,\n",
    "        \"name\": event.find_element(By.CSS_SELECTOR, value=\"a\").text,\n",
    "    }\n",
    "\n",
    "print(event_list)\n",
    "# Close the entire browser\n",
    "driver.quit()"
   ]
  },
  {
   "cell_type": "markdown",
   "id": "2a6b686c",
   "metadata": {},
   "source": [
    "***"
   ]
  },
  {
   "cell_type": "code",
   "execution_count": 11,
   "id": "bf3c5af1",
   "metadata": {},
   "outputs": [
    {
     "name": "stdout",
     "output_type": "stream",
     "text": [
      "6,710,667\n"
     ]
    }
   ],
   "source": [
    "from selenium import webdriver\n",
    "from selenium.webdriver.common.by import By\n",
    "\n",
    "chrome_options = webdriver.ChromeOptions()\n",
    "chrome_options.add_experimental_option(\"detach\", True)\n",
    "\n",
    "driver = webdriver.Chrome(options=chrome_options)\n",
    "driver.maximize_window()\n",
    "driver.implicitly_wait(20)\n",
    "driver.get(\"https://en.wikipedia.org/wiki/Main_Page\")\n",
    "\n",
    "article_count = driver.find_element(By.CSS_SELECTOR, value=\"#articlecount a\").text\n",
    "print(article_count)\n",
    "\n",
    "driver.quit()\n"
   ]
  },
  {
   "cell_type": "markdown",
   "id": "560ab064",
   "metadata": {},
   "source": [
    "***"
   ]
  },
  {
   "cell_type": "code",
   "execution_count": 19,
   "id": "6cdd48d0",
   "metadata": {},
   "outputs": [],
   "source": [
    "from selenium import webdriver\n",
    "from selenium.webdriver.common.by import By\n",
    "from selenium.webdriver.common.keys import Keys\n",
    "\n",
    "chrome_options = webdriver.ChromeOptions()\n",
    "chrome_options.add_experimental_option(\"detach\", True)\n",
    "\n",
    "driver = webdriver.Chrome(options=chrome_options)\n",
    "driver.maximize_window()\n",
    "driver.implicitly_wait(20)\n",
    "driver.get(\"https://en.wikipedia.org/wiki/Main_Page\")\n",
    "\n",
    "article_count = driver.find_element(By.CSS_SELECTOR, value=\"#articlecount a\")\n",
    "# article_count.click()\n",
    "\n",
    "english = driver.find_element(By.LINK_TEXT, value=\"English\")\n",
    "# english.click\n",
    "\n",
    "search = driver.find_element(By.NAME, value=\"search\")\n",
    "search.send_keys(\"Python\")\n",
    "search.send_keys(Keys.ENTER)\n",
    "\n",
    "\n",
    "\n",
    "\n",
    "# driver.quit()\n"
   ]
  },
  {
   "cell_type": "markdown",
   "id": "ed54384f",
   "metadata": {},
   "source": [
    "***"
   ]
  },
  {
   "cell_type": "code",
   "execution_count": 24,
   "id": "9e685138",
   "metadata": {},
   "outputs": [],
   "source": [
    "from selenium import webdriver\n",
    "from selenium.webdriver.common.by import By\n",
    "from selenium.webdriver.common.keys import Keys\n",
    "\n",
    "chrome_options = webdriver.ChromeOptions()\n",
    "chrome_options.add_experimental_option(\"detach\", True)\n",
    "\n",
    "driver = webdriver.Chrome(options=chrome_options)\n",
    "driver.maximize_window()\n",
    "driver.implicitly_wait(20)\n",
    "driver.get(\"https://secure-retreat-92358.herokuapp.com/\")\n",
    "\n",
    "fname = driver.find_element(By.NAME, value=\"fName\")\n",
    "fname.send_keys(\"Benedict\")\n",
    "\n",
    "lname = driver.find_element(By.NAME, value=\"lName\")\n",
    "lname.send_keys(\"Castro\")\n",
    "\n",
    "email = driver.find_element(By.NAME, value=\"email\")\n",
    "email.send_keys(\"benedict.zcastro@gmail.com\")\n",
    "\n",
    "sign_up = driver.find_element(By.CSS_SELECTOR, value=f\"button.{'btn btn-lg btn-primary btn-block'.replace(' ', '.')}\")\n",
    "sign_up.click()"
   ]
  },
  {
   "cell_type": "markdown",
   "id": "99320438",
   "metadata": {},
   "source": [
    "***"
   ]
  }
 ],
 "metadata": {
  "kernelspec": {
   "display_name": "Python 3 (ipykernel)",
   "language": "python",
   "name": "python3"
  },
  "language_info": {
   "codemirror_mode": {
    "name": "ipython",
    "version": 3
   },
   "file_extension": ".py",
   "mimetype": "text/x-python",
   "name": "python",
   "nbconvert_exporter": "python",
   "pygments_lexer": "ipython3",
   "version": "3.9.13"
  }
 },
 "nbformat": 4,
 "nbformat_minor": 5
}
