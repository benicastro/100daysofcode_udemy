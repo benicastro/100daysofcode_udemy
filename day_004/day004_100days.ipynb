{
 "cells": [
  {
   "cell_type": "markdown",
   "id": "3b19b36d",
   "metadata": {},
   "source": [
    "### Section 4: Day 4 - Beginner - Randomization and Python Lists"
   ]
  },
  {
   "cell_type": "markdown",
   "id": "322aff73",
   "metadata": {},
   "source": [
    "**------------------------------------------------------------------------------------------------------------------------------------------------------------------------------------------------------------------**"
   ]
  },
  {
   "cell_type": "markdown",
   "id": "e31f90fd",
   "metadata": {},
   "source": [
    "- Randomness\n",
    "- Machines are deterministic\n",
    "- Python uses the Mersenne Twister for randomization"
   ]
  },
  {
   "cell_type": "code",
   "execution_count": 2,
   "id": "7c9b6ae9",
   "metadata": {},
   "outputs": [],
   "source": [
    "import random"
   ]
  },
  {
   "cell_type": "code",
   "execution_count": 3,
   "id": "1b2e7ea3",
   "metadata": {},
   "outputs": [
    {
     "name": "stdout",
     "output_type": "stream",
     "text": [
      "8\n"
     ]
    }
   ],
   "source": [
    "random_integer = random.randint(1, 10)\n",
    "print(random_integer)"
   ]
  },
  {
   "cell_type": "code",
   "execution_count": 4,
   "id": "18ca6737",
   "metadata": {},
   "outputs": [
    {
     "name": "stdout",
     "output_type": "stream",
     "text": [
      "0.09936941111082165\n"
     ]
    }
   ],
   "source": [
    "random_float = random.random()\n",
    "print(random_float)"
   ]
  },
  {
   "cell_type": "markdown",
   "id": "28a46cb8",
   "metadata": {},
   "source": [
    "- How to create a random decimal number between 0 and 5?"
   ]
  },
  {
   "cell_type": "code",
   "execution_count": 5,
   "id": "db09c03d",
   "metadata": {},
   "outputs": [
    {
     "name": "stdout",
     "output_type": "stream",
     "text": [
      "2.529515766491687\n"
     ]
    }
   ],
   "source": [
    "random_float = random.random() * 5\n",
    "print(random_float)"
   ]
  },
  {
   "cell_type": "code",
   "execution_count": null,
   "id": "602005bf",
   "metadata": {},
   "outputs": [],
   "source": []
  },
  {
   "cell_type": "code",
   "execution_count": null,
   "id": "ecbb60a3",
   "metadata": {},
   "outputs": [],
   "source": []
  },
  {
   "cell_type": "code",
   "execution_count": null,
   "id": "f04771a0",
   "metadata": {},
   "outputs": [],
   "source": []
  },
  {
   "cell_type": "code",
   "execution_count": null,
   "id": "0351796d",
   "metadata": {},
   "outputs": [],
   "source": []
  },
  {
   "cell_type": "code",
   "execution_count": null,
   "id": "84decf5d",
   "metadata": {},
   "outputs": [],
   "source": []
  },
  {
   "cell_type": "markdown",
   "id": "32588137",
   "metadata": {},
   "source": [
    "**------------------------------------------------------------------------------------------------------------------------------------------------------------------------------------------------------------------**"
   ]
  },
  {
   "cell_type": "markdown",
   "id": "fde59cc6",
   "metadata": {},
   "source": [
    "### Exercise 1 - Heads or Tails"
   ]
  },
  {
   "cell_type": "markdown",
   "id": "cafa405b",
   "metadata": {},
   "source": [
    "- You are going to write a virtual coin toss program. It will randomly tell the user \"Heads\" or \"Tails\".\n",
    "\n",
    "- Important, the first letter should be capitalised and spelt exactly like in the example e.g. Heads, not heads.\n",
    "\n",
    "- There are many ways of doing this. But to practice what we learnt in the last lesson, you should generate a random number, either 0 or 1. Then use that number to print out Heads or Tails."
   ]
  },
  {
   "cell_type": "code",
   "execution_count": 17,
   "id": "d67fa784",
   "metadata": {},
   "outputs": [],
   "source": [
    "import random\n",
    "\n",
    "def coin_toss():\n",
    "    # This function acts as a coin toss generator and outputs either heads or tails\n",
    "    random_toss = random.randint(0, 1)\n",
    "    if random_toss == 0:\n",
    "        print(\"Tails\")\n",
    "    else:\n",
    "        print(\"Heads\")"
   ]
  },
  {
   "cell_type": "code",
   "execution_count": 21,
   "id": "0f17535b",
   "metadata": {
    "scrolled": true
   },
   "outputs": [
    {
     "name": "stdout",
     "output_type": "stream",
     "text": [
      "Heads\n",
      "Do you still want to play? Type \"Y\" or \"N\": Y\n",
      "Heads\n",
      "Do you still want to play? Type \"Y\" or \"N\": Y\n",
      "Heads\n",
      "Do you still want to play? Type \"Y\" or \"N\": Y\n",
      "Heads\n",
      "Do you still want to play? Type \"Y\" or \"N\": Y\n",
      "Tails\n",
      "Do you still want to play? Type \"Y\" or \"N\": Y\n",
      "Heads\n",
      "Do you still want to play? Type \"Y\" or \"N\": Y\n",
      "Heads\n",
      "Do you still want to play? Type \"Y\" or \"N\": Y\n",
      "Heads\n",
      "Do you still want to play? Type \"Y\" or \"N\": Y\n",
      "Tails\n",
      "Do you still want to play? Type \"Y\" or \"N\": Y\n",
      "Tails\n",
      "Do you still want to play? Type \"Y\" or \"N\": Y\n",
      "Tails\n",
      "Do you still want to play? Type \"Y\" or \"N\": N\n"
     ]
    }
   ],
   "source": [
    "keep_playing = \"Y\"\n",
    "while keep_playing == \"Y\":\n",
    "    coin_toss()\n",
    "    keep_playing = input('Do you still want to play? Type \"Y\" or \"N\": ')"
   ]
  },
  {
   "cell_type": "markdown",
   "id": "567e0c36",
   "metadata": {},
   "source": [
    "**------------------------------------------------------------------------------------------------------------------------------------------------------------------------------------------------------------------**"
   ]
  },
  {
   "cell_type": "markdown",
   "id": "d2f88638",
   "metadata": {},
   "source": [
    "A ***list*** is a data structure. Data structures are ways of organizing and storing data in Python."
   ]
  },
  {
   "cell_type": "code",
   "execution_count": 23,
   "id": "a4aaf44d",
   "metadata": {},
   "outputs": [],
   "source": [
    "fruits = [\"item1\", \"item2\"]"
   ]
  },
  {
   "cell_type": "code",
   "execution_count": 24,
   "id": "c613b641",
   "metadata": {},
   "outputs": [
    {
     "name": "stdout",
     "output_type": "stream",
     "text": [
      "['Delaware', 'Pennsylvania', 'New Jersey', 'Georgia', 'Connecticut', 'Massachusetts', 'Maryland', 'South Carolina', 'New Hampshire', 'Virginia', 'New York', 'North Carolina', 'Rhode Island', 'Vermont', 'Kentucky', 'Tennessee', 'Ohio', 'Louisiana', 'Indiana', 'Mississippi', 'Illinois', 'Alabama', 'Maine', 'Missouri', 'Arkansas', 'Michigan', 'Florida', 'Texas', 'Iowa', 'Wisconsin', 'California', 'Minnesota', 'Oregon', 'Kansas', 'West Virginia', 'Nevada', 'Nebraska', 'Colorado', 'North Dakota', 'South Dakota', 'Montana', 'Washington', 'Idaho', 'Wyoming', 'Utah', 'Oklahoma', 'New Mexico', 'Arizona', 'Alaska', 'Hawaii']\n"
     ]
    }
   ],
   "source": [
    "states_of_america = [\"Delaware\", \"Pennsylvania\", \"New Jersey\", \"Georgia\", \"Connecticut\", \"Massachusetts\", \"Maryland\", \n",
    "                     \"South Carolina\", \"New Hampshire\", \"Virginia\", \"New York\", \"North Carolina\", \"Rhode Island\", \"Vermont\", \n",
    "                     \"Kentucky\", \"Tennessee\", \"Ohio\", \"Louisiana\", \"Indiana\", \"Mississippi\", \"Illinois\", \"Alabama\", \"Maine\", \n",
    "                     \"Missouri\", \"Arkansas\", \"Michigan\", \"Florida\", \"Texas\", \"Iowa\", \"Wisconsin\", \"California\", \"Minnesota\", \n",
    "                     \"Oregon\", \"Kansas\", \"West Virginia\", \"Nevada\", \"Nebraska\", \"Colorado\", \"North Dakota\", \"South Dakota\", \n",
    "                     \"Montana\", \"Washington\", \"Idaho\", \"Wyoming\", \"Utah\", \"Oklahoma\", \"New Mexico\", \"Arizona\", \"Alaska\", \n",
    "                     \"Hawaii\"]\n",
    "\n",
    "print(states_of_america)\n",
    "\n",
    "\n",
    "dirty_dozen = [\"Strawberries\", \"Spinach\", \"Kale\", \"Nectarines\", \"Apples\", \"Grapes\", \"Peaches\", \n",
    "               \"Cherries\", \"Pears\", \"Tomatoes\", \"Celery\", \"Potatoes\"]\n"
   ]
  },
  {
   "cell_type": "markdown",
   "id": "6c20b55f",
   "metadata": {},
   "source": [
    "**------------------------------------------------------------------------------------------------------------------------------------------------------------------------------------------------------------------**"
   ]
  },
  {
   "cell_type": "markdown",
   "id": "f1deddd0",
   "metadata": {},
   "source": [
    "### Exercise 2 - Banker Roulette"
   ]
  },
  {
   "cell_type": "markdown",
   "id": "60e37fdf",
   "metadata": {},
   "source": [
    "- You are going to write a program that will select a random name from a list of names. The person selected will have to pay for everybody's food bill."
   ]
  },
  {
   "cell_type": "code",
   "execution_count": 46,
   "id": "809cd1fb",
   "metadata": {},
   "outputs": [],
   "source": [
    "def banker_roulette(string_names):\n",
    "    # This function acts as a banker roulette which outputs a random choice from the items provided\n",
    "    import random\n",
    "    string_names = string_names.replace(\" \", \"\")\n",
    "    names_list = string_names.split(\",\")\n",
    "    num_names = len(names_list)\n",
    "    random_choice = names_list[random.randint(0, num_names-1)]\n",
    "    return f\"{random_choice} is going to buy the meal today!\""
   ]
  },
  {
   "cell_type": "code",
   "execution_count": 47,
   "id": "130a18bf",
   "metadata": {},
   "outputs": [
    {
     "name": "stdout",
     "output_type": "stream",
     "text": [
      "Please provide the names of the people involved: Beni, Toni, Emilia, Mama, Det, Len\n",
      "Mama is going to buy the meal today!\n"
     ]
    }
   ],
   "source": [
    "string_names = input(\"Please provide the names of the people involved: \")\n",
    "print(banker_roulette(string_names))"
   ]
  },
  {
   "cell_type": "markdown",
   "id": "576ede7e",
   "metadata": {},
   "source": [
    "**------------------------------------------------------------------------------------------------------------------------------------------------------------------------------------------------------------------**"
   ]
  },
  {
   "cell_type": "markdown",
   "id": "88a89392",
   "metadata": {},
   "source": [
    "### Quiz 5"
   ]
  },
  {
   "cell_type": "markdown",
   "id": "b3f1c443",
   "metadata": {},
   "source": [
    "1. Given the following list:"
   ]
  },
  {
   "cell_type": "code",
   "execution_count": 50,
   "id": "5b5f552a",
   "metadata": {},
   "outputs": [],
   "source": [
    "fruits = [\"Strawberries\", \"Nectarines\", \"Apples\", \"Grapes\", \"Peaches\", \"Cherries\", \"Pears\"]"
   ]
  },
  {
   "cell_type": "markdown",
   "id": "e83d666d",
   "metadata": {},
   "source": [
    "- Which line of code will give you \"Apples\"?"
   ]
  },
  {
   "cell_type": "code",
   "execution_count": 52,
   "id": "e6584c64",
   "metadata": {},
   "outputs": [
    {
     "data": {
      "text/plain": [
       "'Apples'"
      ]
     },
     "execution_count": 52,
     "metadata": {},
     "output_type": "execute_result"
    }
   ],
   "source": [
    "fruits[-5]"
   ]
  },
  {
   "cell_type": "markdown",
   "id": "df5ae3fa",
   "metadata": {},
   "source": [
    "2. Given the code below:\n",
    "- What do you think will be printed?"
   ]
  },
  {
   "cell_type": "code",
   "execution_count": 53,
   "id": "e7629f5b",
   "metadata": {},
   "outputs": [
    {
     "name": "stdout",
     "output_type": "stream",
     "text": [
      "['Strawberries', 'Nectarines', 'Apples', 'Grapes', 'Peaches', 'Cherries', 'Melons', 'Lemons']\n"
     ]
    }
   ],
   "source": [
    "fruits = [\"Strawberries\", \"Nectarines\", \"Apples\", \"Grapes\", \"Peaches\", \"Cherries\", \"Pears\"]\n",
    "fruits[-1] = \"Melons\"\n",
    "fruits.append(\"Lemons\")\n",
    "print(fruits)"
   ]
  },
  {
   "cell_type": "markdown",
   "id": "5b048081",
   "metadata": {},
   "source": [
    "3. Given the code below:\n",
    "- What will be printed?"
   ]
  },
  {
   "cell_type": "code",
   "execution_count": 54,
   "id": "5e67bbc3",
   "metadata": {},
   "outputs": [
    {
     "name": "stdout",
     "output_type": "stream",
     "text": [
      "Kale\n"
     ]
    }
   ],
   "source": [
    "fruits = [\"Strawberries\", \"Nectarines\", \"Apples\", \"Grapes\", \"Peaches\", \"Cherries\", \"Pears\"]\n",
    "vegetables = [\"Spinach\", \"Kale\", \"Tomatoes\", \"Celery\", \"Potatoes\"]\n",
    " \n",
    "dirty_dozen = [fruits, vegetables]\n",
    " \n",
    "print(dirty_dozen[1][1])"
   ]
  },
  {
   "cell_type": "markdown",
   "id": "91ff6a0c",
   "metadata": {},
   "source": [
    "**------------------------------------------------------------------------------------------------------------------------------------------------------------------------------------------------------------------**"
   ]
  },
  {
   "cell_type": "markdown",
   "id": "f53d2d21",
   "metadata": {},
   "source": [
    "### Exercise 3 - Treasure Map"
   ]
  },
  {
   "cell_type": "markdown",
   "id": "dd30852c",
   "metadata": {},
   "source": [
    "- You are going to write a program that will mark a spot with an X.\n",
    "\n",
    "- In the starting code, you will find a variable called map.\n",
    "\n",
    "- This map contains a nested list. When map is printed this is what the nested list looks like:\n",
    "\n",
    "\n",
    "    - [['⬜️', '⬜️', '⬜️'],['⬜️', '⬜️', '⬜️'],['⬜️', '⬜️', '⬜️']]\n",
    "\n",
    "\n",
    "- This is a bit hard to work with. So on lines 6 and 23, we've used this line of code print(f\"{row1}\\n{row2}\\n{row3}\" to format the 3 lists to be printed as a 3 by 3 square, each on a new line. \n",
    "\n",
    "\n",
    "    - ['⬜️', '⬜️', '⬜️']\n",
    "\n",
    "    - ['⬜️', '⬜️', '⬜️']\n",
    "\n",
    "    - ['⬜️', '⬜️', '⬜️']\n",
    "\n",
    "\n",
    "- Now it looks a bit more like the coordinates of a real map:"
   ]
  },
  {
   "cell_type": "markdown",
   "id": "cbc4a57d",
   "metadata": {},
   "source": [
    "- Your job is to write a program that allows you to mark a square on the map using a two-digit system. \n",
    "\n",
    "- The first digit in the input will specify the column (the position on the horizontal axis).\n",
    "\n",
    "- The second digit in the input will specify the row number (the position on the vertical axis). "
   ]
  },
  {
   "cell_type": "code",
   "execution_count": 82,
   "id": "306484b8",
   "metadata": {},
   "outputs": [],
   "source": [
    "def treasure_map(n):\n",
    "    # This function acts as a treasure map and it lets you decide where to put the treasure in a map based on a \n",
    "    # two-digit input corresponding to the coordinates\n",
    "    row1 = ['⬜️', '⬜️', '⬜️']\n",
    "    row2 = ['⬜️', '⬜️', '⬜️']\n",
    "    row3 = ['⬜️', '⬜️', '⬜️']\n",
    "    map = [row1, row2, row3]\n",
    "    # Convert input number to string\n",
    "    n_string = str(n)\n",
    "    column = int(n_string[0]) - 1\n",
    "    row = int(n_string[1]) - 1\n",
    "    map[row][column] = \"X\"\n",
    "    return f\"{row1}\\n{row2}\\n{row3}\"\n",
    "    # return f\"{map[0]}\\n{map[1]}\\n{map[2]}\""
   ]
  },
  {
   "cell_type": "code",
   "execution_count": 83,
   "id": "157da2ea",
   "metadata": {},
   "outputs": [
    {
     "name": "stdout",
     "output_type": "stream",
     "text": [
      "Please provide the coordinates of the treasure: 23\n",
      "['⬜️', '⬜️', '⬜️']\n",
      "['⬜️', '⬜️', '⬜️']\n",
      "['⬜️', 'X', '⬜️']\n"
     ]
    }
   ],
   "source": [
    "n = input(\"Please provide the coordinates of the treasure: \")\n",
    "print(treasure_map(n))"
   ]
  },
  {
   "cell_type": "code",
   "execution_count": 84,
   "id": "05ad1d13",
   "metadata": {},
   "outputs": [
    {
     "name": "stdout",
     "output_type": "stream",
     "text": [
      "[['⬜️', '⬜️', '⬜️'], ['⬜️', '⬜️', [7]], ['⬜️', '⬜️', '⬜️']]\n",
      "['⬜️', '⬜️', [7]]\n"
     ]
    }
   ],
   "source": [
    "# a = ['⬜️', '⬜️', '⬜️']\n",
    "# b = ['⬜️', '⬜️', '⬜️']\n",
    "# c = ['⬜️', '⬜️', '⬜️']\n",
    "# ab = [a, b, c]\n",
    "# ab[1][2] = [7]\n",
    "# print(ab)\n",
    "# print(b)"
   ]
  },
  {
   "cell_type": "markdown",
   "id": "20f94c5b",
   "metadata": {},
   "source": [
    "**------------------------------------------------------------------------------------------------------------------------------------------------------------------------------------------------------------------**"
   ]
  },
  {
   "cell_type": "markdown",
   "id": "9c9ef583",
   "metadata": {},
   "source": [
    "### Project 4 - Rock Paper Scissors"
   ]
  },
  {
   "cell_type": "code",
   "execution_count": 96,
   "id": "8ae5fcab",
   "metadata": {},
   "outputs": [],
   "source": [
    "def batopick(user_input):\n",
    "    # This function simulates a rock paper scissors game where it asks for a user input based on the three possible choices\n",
    "    # and compare it against the computer's choice\n",
    "    import random\n",
    "    \n",
    "    ROCK = '''\n",
    "        _______\n",
    "    ---'   ____)\n",
    "          (_____)\n",
    "          (_____)\n",
    "          (____)\n",
    "    ---.__(___)\n",
    "    '''\n",
    "\n",
    "    PAPER = '''\n",
    "        _______\n",
    "    ---'   ____)____\n",
    "              ______)\n",
    "              _______)\n",
    "             _______)\n",
    "    ---.__________)\n",
    "    '''\n",
    "\n",
    "    SCISSORS = '''\n",
    "        _______\n",
    "    ---'   ____)____\n",
    "              ______)\n",
    "           __________)\n",
    "          (____)\n",
    "    ---.__(___)\n",
    "    '''\n",
    "    \n",
    "    choices = [ROCK, PAPER, SCISSORS]\n",
    "    user_choice = choices[user_input]\n",
    "    print(f\"You chose: \\n {user_choice}\")\n",
    "    \n",
    "    # Give computer a random choice \n",
    "    computer_choice = choices[random.randint(0, 2)]\n",
    "    print(f\"Computer chose: \\n {computer_choice}\")\n",
    "    \n",
    "    # Create conditions for winning\n",
    "    \n",
    "    if user_choice == computer_choice:\n",
    "        print(\"It's a draw!\")\n",
    "    elif (user_choice == ROCK and computer_choice == SCISSORS) or (user_choice == PAPER and computer_choice == ROCK) or (user_choice == SCISSORS and computer_choice == PAPER):\n",
    "        print(\"You won!\")\n",
    "    else:\n",
    "        print(\"You lose!\")"
   ]
  },
  {
   "cell_type": "code",
   "execution_count": 100,
   "id": "552413fc",
   "metadata": {},
   "outputs": [
    {
     "name": "stdout",
     "output_type": "stream",
     "text": [
      "What do you choose? Type 0 for Rock, 1 for Paper, or 2 for Scissors: 1\n",
      "You chose: \n",
      " \n",
      "        _______\n",
      "    ---'   ____)____\n",
      "              ______)\n",
      "              _______)\n",
      "             _______)\n",
      "    ---.__________)\n",
      "    \n",
      "Computer chose: \n",
      " \n",
      "        _______\n",
      "    ---'   ____)____\n",
      "              ______)\n",
      "              _______)\n",
      "             _______)\n",
      "    ---.__________)\n",
      "    \n",
      "It's a draw!\n",
      "Do you still want to play? Type \"Y\" or \"N\": Y\n",
      "What do you choose? Type 0 for Rock, 1 for Paper, or 2 for Scissors: 1\n",
      "You chose: \n",
      " \n",
      "        _______\n",
      "    ---'   ____)____\n",
      "              ______)\n",
      "              _______)\n",
      "             _______)\n",
      "    ---.__________)\n",
      "    \n",
      "Computer chose: \n",
      " \n",
      "        _______\n",
      "    ---'   ____)____\n",
      "              ______)\n",
      "              _______)\n",
      "             _______)\n",
      "    ---.__________)\n",
      "    \n",
      "It's a draw!\n",
      "Do you still want to play? Type \"Y\" or \"N\": Y\n",
      "What do you choose? Type 0 for Rock, 1 for Paper, or 2 for Scissors: 1\n",
      "You chose: \n",
      " \n",
      "        _______\n",
      "    ---'   ____)____\n",
      "              ______)\n",
      "              _______)\n",
      "             _______)\n",
      "    ---.__________)\n",
      "    \n",
      "Computer chose: \n",
      " \n",
      "        _______\n",
      "    ---'   ____)\n",
      "          (_____)\n",
      "          (_____)\n",
      "          (____)\n",
      "    ---.__(___)\n",
      "    \n",
      "You won!\n",
      "Do you still want to play? Type \"Y\" or \"N\": N\n"
     ]
    }
   ],
   "source": [
    "keep_playing = \"Y\"\n",
    "while keep_playing:\n",
    "    user_input = int(input(\"What do you choose? Type 0 for Rock, 1 for Paper, or 2 for Scissors: \"))\n",
    "    batopick(user_input)\n",
    "    \n",
    "    keep_playing = input('Do you still want to play? Type \"Y\" or \"N\": ')\n",
    "    if keep_playing.upper() != \"Y\":\n",
    "        break"
   ]
  }
 ],
 "metadata": {
  "kernelspec": {
   "display_name": "Python 3 (ipykernel)",
   "language": "python",
   "name": "python3"
  },
  "language_info": {
   "codemirror_mode": {
    "name": "ipython",
    "version": 3
   },
   "file_extension": ".py",
   "mimetype": "text/x-python",
   "name": "python",
   "nbconvert_exporter": "python",
   "pygments_lexer": "ipython3",
   "version": "3.9.13"
  }
 },
 "nbformat": 4,
 "nbformat_minor": 5
}
