{
 "cells": [
  {
   "cell_type": "markdown",
   "id": "c2f0f848",
   "metadata": {},
   "source": [
    "## Section 1: Day 1 - Beginner - Working with Variables in Python to Manage Data"
   ]
  },
  {
   "cell_type": "markdown",
   "id": "322aff73",
   "metadata": {},
   "source": [
    "**------------------------------------------------------------------------------------------------------------------------------------------------------------------------------------------------------------------**"
   ]
  },
  {
   "cell_type": "code",
   "execution_count": null,
   "id": "d0d025d4",
   "metadata": {},
   "outputs": [],
   "source": [
    "print(\"Hello World!\")"
   ]
  },
  {
   "cell_type": "markdown",
   "id": "03e9e37c",
   "metadata": {},
   "source": [
    "- Strings - enclosed by \"\" or ''"
   ]
  },
  {
   "cell_type": "markdown",
   "id": "2b9d9982",
   "metadata": {},
   "source": [
    "**------------------------------------------------------------------------------------------------------------------------------------------------------------------------------------------------------------------**"
   ]
  },
  {
   "cell_type": "markdown",
   "id": "32c52f96",
   "metadata": {},
   "source": [
    "### Exercise 1 - Printing"
   ]
  },
  {
   "cell_type": "code",
   "execution_count": 3,
   "id": "db48a76d",
   "metadata": {},
   "outputs": [
    {
     "name": "stdout",
     "output_type": "stream",
     "text": [
      "Day 1 - Python Print Function\n",
      "The function is declared like this\n",
      "print('what to print')\n"
     ]
    }
   ],
   "source": [
    "print(\"Day 1 - Python Print Function\")\n",
    "print(\"The function is declared like this\")\n",
    "print(\"print('what to print')\")"
   ]
  },
  {
   "cell_type": "markdown",
   "id": "c4da00fc",
   "metadata": {},
   "source": [
    "**------------------------------------------------------------------------------------------------------------------------------------------------------------------------------------------------------------------**"
   ]
  },
  {
   "cell_type": "code",
   "execution_count": 6,
   "id": "82efc6a8",
   "metadata": {},
   "outputs": [
    {
     "name": "stdout",
     "output_type": "stream",
     "text": [
      "Hello World!\n",
      "Hello World!\n",
      "Hello World!\n"
     ]
    }
   ],
   "source": [
    "print(\"Hello World!\\nHello World!\\nHello World!\")"
   ]
  },
  {
   "cell_type": "code",
   "execution_count": 7,
   "id": "0a16591f",
   "metadata": {},
   "outputs": [
    {
     "name": "stdout",
     "output_type": "stream",
     "text": [
      "Hello Benedict\n"
     ]
    }
   ],
   "source": [
    "print(\"Hello \" + \"Benedict\")"
   ]
  },
  {
   "cell_type": "markdown",
   "id": "8432e655",
   "metadata": {},
   "source": [
    "**------------------------------------------------------------------------------------------------------------------------------------------------------------------------------------------------------------------**"
   ]
  },
  {
   "cell_type": "markdown",
   "id": "6f14ed42",
   "metadata": {},
   "source": [
    "### Exercise 2 - Debugging Practice"
   ]
  },
  {
   "cell_type": "markdown",
   "id": "ded7cc9e",
   "metadata": {},
   "source": [
    "- There are errors in all of the lines of code. Fix the code so that it runs without errors."
   ]
  },
  {
   "cell_type": "code",
   "execution_count": 8,
   "id": "f3158960",
   "metadata": {},
   "outputs": [
    {
     "name": "stdout",
     "output_type": "stream",
     "text": [
      "Day 1 - String Manipulation\n",
      "String Concatenation is done with the \"+\" sign.\n",
      "e.g. print(\"Hello\" + \"world\")\n",
      "New lines can be created with a backslash and n.\n"
     ]
    }
   ],
   "source": [
    "print(\"Day 1 - String Manipulation\")\n",
    "print('String Concatenation is done with the \"+\" sign.')\n",
    "print('e.g. print(\"Hello\" + \"world\")')\n",
    "print(\"New lines can be created with a backslash and n.\")"
   ]
  },
  {
   "cell_type": "markdown",
   "id": "4c5c4a80",
   "metadata": {},
   "source": [
    "**------------------------------------------------------------------------------------------------------------------------------------------------------------------------------------------------------------------**"
   ]
  },
  {
   "cell_type": "markdown",
   "id": "098090dc",
   "metadata": {},
   "source": [
    "##### The Python input function"
   ]
  },
  {
   "cell_type": "code",
   "execution_count": 9,
   "id": "50ae07c5",
   "metadata": {},
   "outputs": [
    {
     "name": "stdout",
     "output_type": "stream",
     "text": [
      "What is your name?: Benedict\n"
     ]
    },
    {
     "data": {
      "text/plain": [
       "'Benedict'"
      ]
     },
     "execution_count": 9,
     "metadata": {},
     "output_type": "execute_result"
    }
   ],
   "source": [
    "input(\"What is your name?: \")"
   ]
  },
  {
   "cell_type": "code",
   "execution_count": 11,
   "id": "7238d9e6",
   "metadata": {},
   "outputs": [
    {
     "name": "stdout",
     "output_type": "stream",
     "text": [
      "What is your name?: Benedict\n",
      "Hello Benedict!\n"
     ]
    }
   ],
   "source": [
    "print(\"Hello \" + input(\"What is your name?: \") + \"!\")"
   ]
  },
  {
   "cell_type": "code",
   "execution_count": null,
   "id": "7461e0d3",
   "metadata": {},
   "outputs": [],
   "source": [
    "# This comment is not read by the computer"
   ]
  },
  {
   "cell_type": "markdown",
   "id": "06ba6e16",
   "metadata": {},
   "source": [
    "**------------------------------------------------------------------------------------------------------------------------------------------------------------------------------------------------------------------**"
   ]
  },
  {
   "cell_type": "markdown",
   "id": "2f59c908",
   "metadata": {},
   "source": [
    "### Exercise 3 - Input Function"
   ]
  },
  {
   "cell_type": "markdown",
   "id": "b0a71fa5",
   "metadata": {},
   "source": [
    "- Write a program that prints the number of characters in a user's name."
   ]
  },
  {
   "cell_type": "code",
   "execution_count": 15,
   "id": "e8c4dc98",
   "metadata": {},
   "outputs": [],
   "source": [
    "# print(len(input(\"What is your name?\")))"
   ]
  },
  {
   "cell_type": "code",
   "execution_count": 13,
   "id": "b7c45848",
   "metadata": {},
   "outputs": [],
   "source": [
    "def count_char(username):\n",
    "    return len(username)"
   ]
  },
  {
   "cell_type": "code",
   "execution_count": 14,
   "id": "8d9aa15f",
   "metadata": {},
   "outputs": [
    {
     "name": "stdout",
     "output_type": "stream",
     "text": [
      "Please provide username: Benedict\n",
      "8\n"
     ]
    }
   ],
   "source": [
    "username = input(\"Please provide username: \")\n",
    "print(count_char(username))"
   ]
  },
  {
   "cell_type": "markdown",
   "id": "1d65ab28",
   "metadata": {},
   "source": [
    "**------------------------------------------------------------------------------------------------------------------------------------------------------------------------------------------------------------------**"
   ]
  },
  {
   "cell_type": "markdown",
   "id": "011045c1",
   "metadata": {},
   "source": [
    "##### Python Variables"
   ]
  },
  {
   "cell_type": "code",
   "execution_count": 16,
   "id": "84c9b2a8",
   "metadata": {},
   "outputs": [
    {
     "name": "stdout",
     "output_type": "stream",
     "text": [
      "What is your name?: Benedict\n",
      "Benedict\n"
     ]
    }
   ],
   "source": [
    "name = input(\"What is your name?: \")\n",
    "print(name)"
   ]
  },
  {
   "cell_type": "markdown",
   "id": "a2867d8e",
   "metadata": {},
   "source": [
    "- variables can be changed"
   ]
  },
  {
   "cell_type": "markdown",
   "id": "96aae594",
   "metadata": {},
   "source": [
    "**------------------------------------------------------------------------------------------------------------------------------------------------------------------------------------------------------------------**"
   ]
  },
  {
   "cell_type": "markdown",
   "id": "3fb644f0",
   "metadata": {},
   "source": [
    "### Exercise 4 - Variables"
   ]
  },
  {
   "cell_type": "markdown",
   "id": "ebf5a9e7",
   "metadata": {},
   "source": [
    "- Write a program that switches the values stored in the variables a and b."
   ]
  },
  {
   "cell_type": "code",
   "execution_count": 19,
   "id": "2f2ef40c",
   "metadata": {},
   "outputs": [
    {
     "name": "stdout",
     "output_type": "stream",
     "text": [
      "a: 5\n",
      "b: 10\n",
      "a = 10\n",
      "b = 5\n"
     ]
    }
   ],
   "source": [
    "a = input(\"a: \")\n",
    "b = input(\"b: \")\n",
    "\n",
    "c = a\n",
    "a = b\n",
    "b = c\n",
    "\n",
    "print(\"a = \" + a)\n",
    "print(\"b = \" + b)"
   ]
  },
  {
   "cell_type": "markdown",
   "id": "b8fa117a",
   "metadata": {},
   "source": [
    "**------------------------------------------------------------------------------------------------------------------------------------------------------------------------------------------------------------------**"
   ]
  },
  {
   "cell_type": "markdown",
   "id": "cb2cf623",
   "metadata": {},
   "source": [
    "##### Variable Naming"
   ]
  },
  {
   "cell_type": "markdown",
   "id": "5c3faa1a",
   "metadata": {},
   "source": [
    "- make your code readable\n",
    "- no spaces in between\n",
    "- no numbers at the beginning\n",
    "- don't use function names as variable names\n",
    "- be consistent"
   ]
  },
  {
   "cell_type": "markdown",
   "id": "51046a70",
   "metadata": {},
   "source": [
    "**------------------------------------------------------------------------------------------------------------------------------------------------------------------------------------------------------------------**"
   ]
  },
  {
   "cell_type": "markdown",
   "id": "1b059731",
   "metadata": {},
   "source": [
    "### Quiz 2: Variable Naming Quiz"
   ]
  },
  {
   "cell_type": "code",
   "execution_count": 21,
   "id": "95023cb6",
   "metadata": {},
   "outputs": [],
   "source": [
    "a = 12"
   ]
  },
  {
   "cell_type": "code",
   "execution_count": 22,
   "id": "1d9116de",
   "metadata": {},
   "outputs": [],
   "source": [
    "player1_username = \"jackbauer\""
   ]
  },
  {
   "cell_type": "code",
   "execution_count": 23,
   "id": "46ec2686",
   "metadata": {},
   "outputs": [
    {
     "ename": "NameError",
     "evalue": "name 'time_until_Midnight' is not defined",
     "output_type": "error",
     "traceback": [
      "\u001b[1;31m---------------------------------------------------------------------------\u001b[0m",
      "\u001b[1;31mNameError\u001b[0m                                 Traceback (most recent call last)",
      "\u001b[1;32m~\\AppData\\Local\\Temp\\ipykernel_7188\\1775409769.py\u001b[0m in \u001b[0;36m<module>\u001b[1;34m\u001b[0m\n\u001b[0;32m      1\u001b[0m \u001b[1;31m# This will produce an error\u001b[0m\u001b[1;33m\u001b[0m\u001b[1;33m\u001b[0m\u001b[0m\n\u001b[0;32m      2\u001b[0m \u001b[0mtime_until_midnight\u001b[0m \u001b[1;33m=\u001b[0m \u001b[1;34m\"5\"\u001b[0m\u001b[1;33m\u001b[0m\u001b[1;33m\u001b[0m\u001b[0m\n\u001b[1;32m----> 3\u001b[1;33m \u001b[0mprint\u001b[0m\u001b[1;33m(\u001b[0m\u001b[1;34m\"There are \"\u001b[0m \u001b[1;33m+\u001b[0m \u001b[0mtime_until_Midnight\u001b[0m \u001b[1;33m+\u001b[0m \u001b[1;34m\"hours until midnight\"\u001b[0m\u001b[1;33m)\u001b[0m\u001b[1;33m\u001b[0m\u001b[1;33m\u001b[0m\u001b[0m\n\u001b[0m",
      "\u001b[1;31mNameError\u001b[0m: name 'time_until_Midnight' is not defined"
     ]
    }
   ],
   "source": [
    "# This will produce an error\n",
    "time_until_midnight = \"5\"\n",
    "print(\"There are \" + time_until_Midnight + \"hours until midnight\")"
   ]
  },
  {
   "cell_type": "markdown",
   "id": "b11fca5f",
   "metadata": {},
   "source": [
    "### Project 1 - Band Name Generator"
   ]
  },
  {
   "cell_type": "code",
   "execution_count": 25,
   "id": "d9d13158",
   "metadata": {},
   "outputs": [
    {
     "name": "stdout",
     "output_type": "stream",
     "text": [
      "Welcome to the Band Name Generator!\n",
      "What's the name of the city you grew up in?:\n",
      "Munoz\n",
      "What's your pet's name?:\n",
      "Aki\n",
      "Your band name could be Munoz Aki!\n"
     ]
    }
   ],
   "source": [
    "# Create a greeting\n",
    "print(\"Welcome to the Band Name Generator!\")\n",
    "\n",
    "# Ask the user for the city they grew up in and their pet's name\n",
    "# Make the input cursor show on a new line\n",
    "city = input(\"What's the name of the city you grew up in?:\\n\")\n",
    "pet_name = input(\"What's your pet's name?:\\n\")\n",
    "\n",
    "# Create a function to take the user inputs and combine them to make it their band name\n",
    "\n",
    "\n",
    "def band_name(city_input, pet_input):\n",
    "    # This function generates a band name from the user's inputs\n",
    "    return f\"Your band name could be {city_input} {pet_input}!\"\n",
    "\n",
    "\n",
    "print(band_name(city, pet_name))\n"
   ]
  }
 ],
 "metadata": {
  "kernelspec": {
   "display_name": "Python 3 (ipykernel)",
   "language": "python",
   "name": "python3"
  },
  "language_info": {
   "codemirror_mode": {
    "name": "ipython",
    "version": 3
   },
   "file_extension": ".py",
   "mimetype": "text/x-python",
   "name": "python",
   "nbconvert_exporter": "python",
   "pygments_lexer": "ipython3",
   "version": "3.9.13"
  }
 },
 "nbformat": 4,
 "nbformat_minor": 5
}
