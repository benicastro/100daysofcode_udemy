{
 "cells": [
  {
   "cell_type": "markdown",
   "id": "b6fcfa73",
   "metadata": {},
   "source": [
    "### Section 18: Day 18 - Intermediate - Turtle & the Graphical User Interface (GUI)"
   ]
  },
  {
   "cell_type": "markdown",
   "id": "04ced4e5",
   "metadata": {},
   "source": [
    "**------------------------------------------------------------------------------------------------------------------------------------------------------------------------------------------------------------------**"
   ]
  },
  {
   "cell_type": "code",
   "execution_count": 2,
   "id": "ef28aefc",
   "metadata": {},
   "outputs": [],
   "source": [
    "from turtle import Turtle, Screen\n",
    "import random\n",
    "\n",
    "timmy_the_turtle = Turtle()\n",
    "\n",
    "turtle_shape = ['arrow', 'turtle', 'circle', 'square', 'triangle', 'classic']\n",
    "# timmy_the_turtle.shape(\"turtle\")\n",
    "shape = random.choice(turtle_shape)\n",
    "timmy_the_turtle.shape(shape)\n",
    "timmy_the_turtle.color(\"red\")\n",
    "timmy_the_turtle.forward(100)\n",
    "timmy_the_turtle.right(90)\n",
    "\n",
    "screen = Screen()\n",
    "screen.exitonclick()"
   ]
  },
  {
   "cell_type": "markdown",
   "id": "efca66f5",
   "metadata": {},
   "source": [
    "**------------------------------------------------------------------------------------------------------------------------------------------------------------------------------------------------------------------**"
   ]
  },
  {
   "cell_type": "markdown",
   "id": "6cae2f81",
   "metadata": {},
   "source": [
    "### Turtle Challenge 1 - Draw a Square"
   ]
  },
  {
   "cell_type": "code",
   "execution_count": null,
   "id": "69411714",
   "metadata": {},
   "outputs": [],
   "source": [
    "emi = Turtle()\n",
    "emi.shape(\"turtle\")\n",
    "\n",
    "for _ in range(4):\n",
    "    emi.forward(100)\n",
    "    emi.right(90)\n",
    "\n",
    "screen = Screen()\n",
    "screen.exitonclick()"
   ]
  },
  {
   "cell_type": "markdown",
   "id": "79a8b864",
   "metadata": {},
   "source": [
    "**------------------------------------------------------------------------------------------------------------------------------------------------------------------------------------------------------------------**"
   ]
  },
  {
   "cell_type": "markdown",
   "id": "43f554c0",
   "metadata": {},
   "source": [
    "### Turtle Challenge 2 - Draw a Dashed Line"
   ]
  },
  {
   "cell_type": "code",
   "execution_count": null,
   "id": "6606b38b",
   "metadata": {},
   "outputs": [],
   "source": [
    "emi = Turtle()\n",
    "\n",
    "for _ in range(20):\n",
    "    emi.pendown()\n",
    "    emi.forward(5)\n",
    "    emi.penup()\n",
    "    emi.forward(5)\n",
    "\n",
    "screen = Screen()\n",
    "screen.exitonclick()"
   ]
  },
  {
   "cell_type": "markdown",
   "id": "20fb19bd",
   "metadata": {},
   "source": [
    "**------------------------------------------------------------------------------------------------------------------------------------------------------------------------------------------------------------------**"
   ]
  },
  {
   "cell_type": "markdown",
   "id": "aae19dfd",
   "metadata": {},
   "source": [
    "### Turtle Challenge 3 - Drawing Different Shapes"
   ]
  },
  {
   "cell_type": "code",
   "execution_count": null,
   "id": "3da1d258",
   "metadata": {},
   "outputs": [],
   "source": [
    "emi = Turtle()\n",
    "colors = [\"cornflower blue\", \"medium turquoise\", \"medium spring green\", \"deep sky blue\", \"gold\",\n",
    "          \"maroon\", \"plum\", \"medium slate blue\"]\n",
    "random.shuffle(colors)\n",
    "\n",
    "for i in range(3, 11):\n",
    "    angle = 360 / i\n",
    "    emi.color(colors.pop())\n",
    "    for j in range(i):\n",
    "        emi.forward(100)\n",
    "        emi.right(angle)\n",
    "\n",
    "screen = Screen()\n",
    "screen.exitonclick()"
   ]
  },
  {
   "cell_type": "markdown",
   "id": "af31c451",
   "metadata": {},
   "source": [
    "**------------------------------------------------------------------------------------------------------------------------------------------------------------------------------------------------------------------**"
   ]
  },
  {
   "cell_type": "markdown",
   "id": "92347bb4",
   "metadata": {},
   "source": [
    "### Turtle Challenge 4 - Generate a Random Walk"
   ]
  },
  {
   "cell_type": "code",
   "execution_count": null,
   "id": "af0a838d",
   "metadata": {},
   "outputs": [],
   "source": [
    "emi = Turtle()\n",
    "emi.pensize(5)\n",
    "emi.speed(7)\n",
    "\n",
    "colors = [\"cornflower blue\", \"medium turquoise\", \"medium spring green\", \"deep sky blue\", \"gold\",\n",
    "          \"maroon\", \"plum\", \"medium slate blue\"]\n",
    "angles = [90, 180, 270, 360]\n",
    "\n",
    "for _ in range(200):\n",
    "    emi.forward(30)\n",
    "    emi.color(random.choice(colors))\n",
    "    emi.setheading(random.choice(angles))\n",
    "\n",
    "screen = Screen()\n",
    "screen.exitonclick()"
   ]
  },
  {
   "cell_type": "markdown",
   "id": "ac65669e",
   "metadata": {},
   "source": [
    "**------------------------------------------------------------------------------------------------------------------------------------------------------------------------------------------------------------------**"
   ]
  },
  {
   "cell_type": "markdown",
   "id": "0d2dde25",
   "metadata": {},
   "source": [
    "### Python Tuples and How to Generate Random RGB Colors"
   ]
  },
  {
   "cell_type": "markdown",
   "id": "00512fde",
   "metadata": {},
   "source": [
    "- A **tuple** is immutable."
   ]
  },
  {
   "cell_type": "code",
   "execution_count": null,
   "id": "f988c889",
   "metadata": {},
   "outputs": [],
   "source": [
    "from turtle import colormode\n",
    "emi = Turtle()\n",
    "colormode(255)\n",
    "\n",
    "emi.pensize(5)\n",
    "emi.speed(7)\n",
    "angles = [90, 180, 270, 360]\n",
    "\n",
    "\n",
    "def random_color():\n",
    "    r = random.randint(0, 255)\n",
    "    g = random.randint(0, 255)\n",
    "    b = random.randint(0, 255)\n",
    "    tuple_color = (r, g, b)\n",
    "    return tuple_color\n",
    "\n",
    "\n",
    "for _ in range(200):\n",
    "    emi.forward(30)\n",
    "    emi.color(random_color())\n",
    "    emi.setheading(random.choice(angles))\n",
    "\n",
    "screen = Screen()\n",
    "screen.exitonclick()"
   ]
  },
  {
   "cell_type": "markdown",
   "id": "720a21ec",
   "metadata": {},
   "source": [
    "**------------------------------------------------------------------------------------------------------------------------------------------------------------------------------------------------------------------**"
   ]
  },
  {
   "cell_type": "markdown",
   "id": "a95dbcb6",
   "metadata": {},
   "source": [
    "### Project 18 - The Hirst Painting Project"
   ]
  },
  {
   "cell_type": "code",
   "execution_count": 2,
   "id": "7b46b8a8",
   "metadata": {},
   "outputs": [
    {
     "name": "stdout",
     "output_type": "stream",
     "text": [
      "Defaulting to user installation because normal site-packages is not writeable\n",
      "Collecting colorgram.py\n",
      "  Downloading colorgram.py-1.2.0-py2.py3-none-any.whl (6.2 kB)\n",
      "Requirement already satisfied: pillow>=3.3.1 in c:\\programdata\\anaconda3\\lib\\site-packages (from colorgram.py) (9.2.0)\n",
      "Installing collected packages: colorgram.py\n",
      "Successfully installed colorgram.py-1.2.0\n"
     ]
    }
   ],
   "source": [
    "!pip install colorgram.py"
   ]
  },
  {
   "cell_type": "code",
   "execution_count": null,
   "id": "1eab13a5",
   "metadata": {},
   "outputs": [],
   "source": [
    "\"\"\"\n",
    "Hirst Painting Project by Benedict Castro | benedict.zcastro@gmail.com\n",
    "\"\"\"\n",
    "\n",
    "# Import needed modules\n",
    "import colorgram\n",
    "from turtle import Turtle, Screen, colormode\n",
    "import random\n",
    "\n",
    "# # Extract colors from the image\n",
    "# colors = colorgram.extract('image.jpg', 20)\n",
    "#\n",
    "# colors_rgb = []\n",
    "# for color in colors:\n",
    "#     color_tuple = (color.rgb.r, color.rgb.g, color.rgb.b)\n",
    "#     colors_rgb.append(color_tuple)\n",
    "\n",
    "colors_list = [(253, 251, 248), (254, 250, 252), (232, 251, 242), (198, 12, 32), (250, 237, 17), (39, 76, 189), (38, 217, 68),\n",
    "               (238, 227, 5), (229, 159, 46), (27, 40, 157), (215, 74, 12), (15, 154, 16), (199, 14, 10), (242, 246, 252),\n",
    "               (243, 33, 165), (229, 17, 121), (73, 9, 31), (60, 14, 8), (224, 141, 211), (10, 97, 61)]\n",
    "\n",
    "# Reproduce Hirst painting\n",
    "\n",
    "# Declare Turtle class\n",
    "emi = Turtle()\n",
    "colormode(255)\n",
    "\n",
    "# Define painting properties\n",
    "num_dots = 10\n",
    "spacing = 50\n",
    "dot_size = 20\n",
    "x_start = -200\n",
    "y_start = -200\n",
    "emi.ht()\n",
    "emi.penup()\n",
    "emi.goto(x_start, y_start)\n",
    "\n",
    "for i in range(num_dots):\n",
    "    emi.goto(x_start, y_start + spacing*i)\n",
    "    for j in range(num_dots):\n",
    "        emi.pendown()\n",
    "        emi.dot(20, random.choice(colors_list))\n",
    "        emi.penup()\n",
    "        emi.forward(50)\n",
    "\n",
    "# Configure screen\n",
    "screen = Screen()\n",
    "screen.exitonclick()"
   ]
  },
  {
   "cell_type": "markdown",
   "id": "7dec9838",
   "metadata": {},
   "source": [
    "**------------------------------------------------------------------------------------------------------------------------------------------------------------------------------------------------------------------**"
   ]
  },
  {
   "cell_type": "code",
   "execution_count": null,
   "id": "6c83a7cc",
   "metadata": {},
   "outputs": [],
   "source": [
    "import turtle as turtle_module\n",
    "import random\n",
    "\n",
    "turtle_module.colormode(255)\n",
    "tim = turtle_module.Turtle()\n",
    "tim.speed(\"fastest\")\n",
    "tim.penup()\n",
    "tim.hideturtle()\n",
    "color_list = [(202, 164, 109), (238, 240, 245), (150, 75, 49), (223, 201, 135), (52, 93, 124), (172, 154, 40), (140, 30, 19), (133, 163, 185), (198, 91, 71), (46, 122, 86), (72, 43, 35), (145, 178, 148), (13, 99, 71), (233, 175, 164), (161, 142, 158), (105, 74, 77), (55, 46, 50), (183, 205, 171), (36, 60, 74), (18, 86, 90), (81, 148, 129), (148, 17, 20), (14, 70, 64), (30, 68, 100), (107, 127, 153), (174, 94, 97), (176, 192, 209)]\n",
    "tim.setheading(225)\n",
    "tim.forward(300)\n",
    "tim.setheading(0)\n",
    "number_of_dots = 100\n",
    "\n",
    "for dot_count in range(1, number_of_dots + 1):\n",
    "    tim.dot(20, random.choice(color_list))\n",
    "    tim.forward(50)\n",
    "\n",
    "    if dot_count % 10 == 0:\n",
    "        tim.setheading(90)\n",
    "        tim.forward(50)\n",
    "        tim.setheading(180)\n",
    "        tim.forward(500)\n",
    "        tim.setheading(0)\n",
    "\n",
    "\n",
    "\n",
    "\n",
    "\n",
    "\n",
    "\n",
    "\n",
    "\n",
    "screen = turtle_module.Screen()\n",
    "screen.exitonclick()"
   ]
  },
  {
   "cell_type": "code",
   "execution_count": null,
   "id": "d752fb42",
   "metadata": {},
   "outputs": [],
   "source": []
  },
  {
   "cell_type": "code",
   "execution_count": null,
   "id": "4abe3eff",
   "metadata": {},
   "outputs": [],
   "source": []
  },
  {
   "cell_type": "code",
   "execution_count": null,
   "id": "fbba2422",
   "metadata": {},
   "outputs": [],
   "source": []
  },
  {
   "cell_type": "code",
   "execution_count": null,
   "id": "19560e6e",
   "metadata": {},
   "outputs": [],
   "source": []
  },
  {
   "cell_type": "code",
   "execution_count": null,
   "id": "af439a2e",
   "metadata": {},
   "outputs": [],
   "source": []
  },
  {
   "cell_type": "code",
   "execution_count": null,
   "id": "26eea351",
   "metadata": {},
   "outputs": [],
   "source": []
  }
 ],
 "metadata": {
  "kernelspec": {
   "display_name": "Python 3 (ipykernel)",
   "language": "python",
   "name": "python3"
  },
  "language_info": {
   "codemirror_mode": {
    "name": "ipython",
    "version": 3
   },
   "file_extension": ".py",
   "mimetype": "text/x-python",
   "name": "python",
   "nbconvert_exporter": "python",
   "pygments_lexer": "ipython3",
   "version": "3.9.13"
  }
 },
 "nbformat": 4,
 "nbformat_minor": 5
}
