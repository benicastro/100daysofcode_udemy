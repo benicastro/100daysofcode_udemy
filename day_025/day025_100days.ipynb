{
 "cells": [
  {
   "cell_type": "markdown",
   "id": "bd261434",
   "metadata": {},
   "source": [
    "### Section 25: Day 25 - Intermediate - Working with CSV Data and the Pandas Library"
   ]
  },
  {
   "cell_type": "markdown",
   "id": "7a572fd7",
   "metadata": {},
   "source": [
    "**------------------------------------------------------------------------------------------------------------------------------------------------------------------------------------------------------------------**"
   ]
  },
  {
   "cell_type": "code",
   "execution_count": 3,
   "id": "3617fd53",
   "metadata": {},
   "outputs": [
    {
     "name": "stdout",
     "output_type": "stream",
     "text": [
      "['day,temp,condition\\n', 'Monday,12,Sunny\\n', 'Tuesday,14,Rain\\n', 'Wednesday,15,Rain\\n', 'Thursday,14,Cloudy\\n', 'Friday,21,Sunny\\n', 'Saturday,22,Sunny\\n', 'Sunday,24,Sunny']\n"
     ]
    }
   ],
   "source": [
    "with open(\"weather_data.csv\") as csv_file:\n",
    "    data = csv_file.readlines()\n",
    "print(data)"
   ]
  },
  {
   "cell_type": "code",
   "execution_count": 4,
   "id": "128c8f70",
   "metadata": {},
   "outputs": [],
   "source": [
    "import csv"
   ]
  },
  {
   "cell_type": "code",
   "execution_count": 10,
   "id": "6929af30",
   "metadata": {},
   "outputs": [
    {
     "name": "stdout",
     "output_type": "stream",
     "text": [
      "[12, 14, 15, 14, 21, 22, 24]\n"
     ]
    }
   ],
   "source": [
    "with open(\"weather_data.csv\") as csv_file:\n",
    "    data = csv.reader(csv_file)\n",
    "    temperatures =[]\n",
    "    for row in data:\n",
    "        if row[1].isalpha():\n",
    "            pass\n",
    "        else:\n",
    "            temperatures.append(int(row[1]))\n",
    "    print(temperatures)\n",
    "                            "
   ]
  },
  {
   "cell_type": "code",
   "execution_count": 11,
   "id": "25214ab4",
   "metadata": {},
   "outputs": [],
   "source": [
    "import pandas"
   ]
  },
  {
   "cell_type": "code",
   "execution_count": 12,
   "id": "7ee39213",
   "metadata": {},
   "outputs": [
    {
     "name": "stdout",
     "output_type": "stream",
     "text": [
      "         day  temp condition\n",
      "0     Monday    12     Sunny\n",
      "1    Tuesday    14      Rain\n",
      "2  Wednesday    15      Rain\n",
      "3   Thursday    14    Cloudy\n",
      "4     Friday    21     Sunny\n",
      "5   Saturday    22     Sunny\n",
      "6     Sunday    24     Sunny\n"
     ]
    }
   ],
   "source": [
    "data = pandas.read_csv(\"weather_data.csv\")\n",
    "print(data)"
   ]
  },
  {
   "cell_type": "code",
   "execution_count": 13,
   "id": "bb1ac9e8",
   "metadata": {},
   "outputs": [
    {
     "name": "stdout",
     "output_type": "stream",
     "text": [
      "{'day': {0: 'Monday', 1: 'Tuesday', 2: 'Wednesday', 3: 'Thursday', 4: 'Friday', 5: 'Saturday', 6: 'Sunday'}, 'temp': {0: 12, 1: 14, 2: 15, 3: 14, 4: 21, 5: 22, 6: 24}, 'condition': {0: 'Sunny', 1: 'Rain', 2: 'Rain', 3: 'Cloudy', 4: 'Sunny', 5: 'Sunny', 6: 'Sunny'}}\n"
     ]
    }
   ],
   "source": [
    "data_dict = data.to_dict()\n",
    "print(data_dict)"
   ]
  },
  {
   "cell_type": "code",
   "execution_count": 14,
   "id": "ddd54007",
   "metadata": {},
   "outputs": [
    {
     "name": "stdout",
     "output_type": "stream",
     "text": [
      "[12, 14, 15, 14, 21, 22, 24]\n"
     ]
    }
   ],
   "source": [
    "temp_list = data[\"temp\"].to_list()\n",
    "print(temp_list)"
   ]
  },
  {
   "cell_type": "code",
   "execution_count": 16,
   "id": "d0df6179",
   "metadata": {},
   "outputs": [
    {
     "name": "stdout",
     "output_type": "stream",
     "text": [
      "17.428571428571427\n"
     ]
    }
   ],
   "source": [
    "sum = 0\n",
    "for temp in temp_list:\n",
    "    sum += temp\n",
    "ave = sum / len(temp_list)\n",
    "print(ave)"
   ]
  },
  {
   "cell_type": "code",
   "execution_count": 18,
   "id": "51d751c5",
   "metadata": {},
   "outputs": [
    {
     "data": {
      "text/plain": [
       "17.428571428571427"
      ]
     },
     "execution_count": 18,
     "metadata": {},
     "output_type": "execute_result"
    }
   ],
   "source": [
    "data[\"temp\"].mean()"
   ]
  },
  {
   "cell_type": "code",
   "execution_count": 19,
   "id": "1839c5ac",
   "metadata": {},
   "outputs": [
    {
     "data": {
      "text/plain": [
       "24"
      ]
     },
     "execution_count": 19,
     "metadata": {},
     "output_type": "execute_result"
    }
   ],
   "source": [
    "data[\"temp\"].max()"
   ]
  },
  {
   "cell_type": "code",
   "execution_count": 20,
   "id": "a1f12578",
   "metadata": {},
   "outputs": [
    {
     "data": {
      "text/plain": [
       "0     Sunny\n",
       "1      Rain\n",
       "2      Rain\n",
       "3    Cloudy\n",
       "4     Sunny\n",
       "5     Sunny\n",
       "6     Sunny\n",
       "Name: condition, dtype: object"
      ]
     },
     "execution_count": 20,
     "metadata": {},
     "output_type": "execute_result"
    }
   ],
   "source": [
    "data.condition"
   ]
  },
  {
   "cell_type": "code",
   "execution_count": 21,
   "id": "af6c80a7",
   "metadata": {},
   "outputs": [
    {
     "data": {
      "text/html": [
       "<div>\n",
       "<style scoped>\n",
       "    .dataframe tbody tr th:only-of-type {\n",
       "        vertical-align: middle;\n",
       "    }\n",
       "\n",
       "    .dataframe tbody tr th {\n",
       "        vertical-align: top;\n",
       "    }\n",
       "\n",
       "    .dataframe thead th {\n",
       "        text-align: right;\n",
       "    }\n",
       "</style>\n",
       "<table border=\"1\" class=\"dataframe\">\n",
       "  <thead>\n",
       "    <tr style=\"text-align: right;\">\n",
       "      <th></th>\n",
       "      <th>day</th>\n",
       "      <th>temp</th>\n",
       "      <th>condition</th>\n",
       "    </tr>\n",
       "  </thead>\n",
       "  <tbody>\n",
       "    <tr>\n",
       "      <th>0</th>\n",
       "      <td>Monday</td>\n",
       "      <td>12</td>\n",
       "      <td>Sunny</td>\n",
       "    </tr>\n",
       "  </tbody>\n",
       "</table>\n",
       "</div>"
      ],
      "text/plain": [
       "      day  temp condition\n",
       "0  Monday    12     Sunny"
      ]
     },
     "execution_count": 21,
     "metadata": {},
     "output_type": "execute_result"
    }
   ],
   "source": [
    "data[data.day == \"Monday\"]"
   ]
  },
  {
   "cell_type": "code",
   "execution_count": 23,
   "id": "5d39973a",
   "metadata": {},
   "outputs": [
    {
     "data": {
      "text/html": [
       "<div>\n",
       "<style scoped>\n",
       "    .dataframe tbody tr th:only-of-type {\n",
       "        vertical-align: middle;\n",
       "    }\n",
       "\n",
       "    .dataframe tbody tr th {\n",
       "        vertical-align: top;\n",
       "    }\n",
       "\n",
       "    .dataframe thead th {\n",
       "        text-align: right;\n",
       "    }\n",
       "</style>\n",
       "<table border=\"1\" class=\"dataframe\">\n",
       "  <thead>\n",
       "    <tr style=\"text-align: right;\">\n",
       "      <th></th>\n",
       "      <th>day</th>\n",
       "      <th>temp</th>\n",
       "      <th>condition</th>\n",
       "    </tr>\n",
       "  </thead>\n",
       "  <tbody>\n",
       "    <tr>\n",
       "      <th>6</th>\n",
       "      <td>Sunday</td>\n",
       "      <td>24</td>\n",
       "      <td>Sunny</td>\n",
       "    </tr>\n",
       "  </tbody>\n",
       "</table>\n",
       "</div>"
      ],
      "text/plain": [
       "      day  temp condition\n",
       "6  Sunday    24     Sunny"
      ]
     },
     "execution_count": 23,
     "metadata": {},
     "output_type": "execute_result"
    }
   ],
   "source": [
    "data[data.temp == data.temp.max()]"
   ]
  },
  {
   "cell_type": "code",
   "execution_count": 24,
   "id": "3e1ad680",
   "metadata": {},
   "outputs": [
    {
     "name": "stdout",
     "output_type": "stream",
     "text": [
      "0    Sunny\n",
      "Name: condition, dtype: object\n"
     ]
    }
   ],
   "source": [
    "monday = data[data.day == \"Monday\"]\n",
    "print(monday.condition)"
   ]
  },
  {
   "cell_type": "code",
   "execution_count": 32,
   "id": "9389f0e3",
   "metadata": {},
   "outputs": [
    {
     "name": "stdout",
     "output_type": "stream",
     "text": [
      "53.6\n"
     ]
    }
   ],
   "source": [
    "def to_fahrenheit(celcius_temp):\n",
    "    return celcius_temp*1.8 + 32\n",
    "\n",
    "fahrenheit_temp = to_fahrenheit(int(monday.temp))\n",
    "print(fahrenheit_temp)"
   ]
  },
  {
   "cell_type": "code",
   "execution_count": 27,
   "id": "b52c1750",
   "metadata": {},
   "outputs": [
    {
     "data": {
      "text/plain": [
       "pandas.core.series.Series"
      ]
     },
     "execution_count": 27,
     "metadata": {},
     "output_type": "execute_result"
    }
   ],
   "source": [
    "type(monday.temp)"
   ]
  },
  {
   "cell_type": "code",
   "execution_count": 34,
   "id": "ee549f7e",
   "metadata": {},
   "outputs": [],
   "source": [
    "data_dict = {\n",
    "    \"students\": [\"Amy\", \"James\", \"Angela\"],\n",
    "    \"scores\": [76, 56, 65]\n",
    "}"
   ]
  },
  {
   "cell_type": "code",
   "execution_count": 35,
   "id": "3099fac3",
   "metadata": {},
   "outputs": [
    {
     "name": "stdout",
     "output_type": "stream",
     "text": [
      "  students  scores\n",
      "0      Amy      76\n",
      "1    James      56\n",
      "2   Angela      65\n"
     ]
    }
   ],
   "source": [
    "data = pandas.DataFrame(data_dict)\n",
    "print(data)"
   ]
  },
  {
   "cell_type": "code",
   "execution_count": 36,
   "id": "8792aa39",
   "metadata": {},
   "outputs": [],
   "source": [
    "data.to_csv(\"new_data.csv\")"
   ]
  },
  {
   "cell_type": "markdown",
   "id": "0d82e5c0",
   "metadata": {},
   "source": [
    "**------------------------------------------------------------------------------------------------------------------------------------------------------------------------------------------------------------------**"
   ]
  },
  {
   "cell_type": "markdown",
   "id": "ab6e006f",
   "metadata": {},
   "source": [
    "### The Great Squirrel Census Data Analysis"
   ]
  },
  {
   "cell_type": "code",
   "execution_count": 37,
   "id": "8dc90747",
   "metadata": {},
   "outputs": [],
   "source": [
    "import pandas as pd"
   ]
  },
  {
   "cell_type": "code",
   "execution_count": 38,
   "id": "2872fbe8",
   "metadata": {},
   "outputs": [
    {
     "name": "stdout",
     "output_type": "stream",
     "text": [
      "              X          Y Unique Squirrel ID Hectare Shift      Date  \\\n",
      "0    -73.956134  40.794082     37F-PM-1014-03     37F    PM  10142018   \n",
      "1    -73.957044  40.794851     37E-PM-1006-03     37E    PM  10062018   \n",
      "2    -73.976831  40.766718      2E-AM-1010-03     02E    AM  10102018   \n",
      "3    -73.975725  40.769703      5D-PM-1018-05     05D    PM  10182018   \n",
      "4    -73.959313  40.797533     39B-AM-1018-01     39B    AM  10182018   \n",
      "...         ...        ...                ...     ...   ...       ...   \n",
      "3018 -73.963943  40.790868     30B-AM-1007-04     30B    AM  10072018   \n",
      "3019 -73.970402  40.782560     19A-PM-1013-05     19A    PM  10132018   \n",
      "3020 -73.966587  40.783678     22D-PM-1012-07     22D    PM  10122018   \n",
      "3021 -73.963994  40.789915     29B-PM-1010-02     29B    PM  10102018   \n",
      "3022 -73.975479  40.769640      5E-PM-1012-01     05E    PM  10122018   \n",
      "\n",
      "      Hectare Squirrel Number       Age Primary Fur Color  \\\n",
      "0                           3       NaN               NaN   \n",
      "1                           3     Adult              Gray   \n",
      "2                           3     Adult          Cinnamon   \n",
      "3                           5  Juvenile              Gray   \n",
      "4                           1       NaN               NaN   \n",
      "...                       ...       ...               ...   \n",
      "3018                        4     Adult              Gray   \n",
      "3019                        5     Adult              Gray   \n",
      "3020                        7     Adult              Gray   \n",
      "3021                        2       NaN              Gray   \n",
      "3022                        1     Adult          Cinnamon   \n",
      "\n",
      "         Highlight Fur Color  ...   Kuks  Quaas  Moans Tail flags  \\\n",
      "0                        NaN  ...  False  False  False      False   \n",
      "1                   Cinnamon  ...  False  False  False      False   \n",
      "2                        NaN  ...  False  False  False      False   \n",
      "3                        NaN  ...  False  False  False      False   \n",
      "4                        NaN  ...   True  False  False      False   \n",
      "...                      ...  ...    ...    ...    ...        ...   \n",
      "3018                     NaN  ...  False  False  False      False   \n",
      "3019                   White  ...  False  False  False      False   \n",
      "3020  Black, Cinnamon, White  ...  False  False  False      False   \n",
      "3021         Cinnamon, White  ...  False  False  False      False   \n",
      "3022             Gray, White  ...  False  False  False      False   \n",
      "\n",
      "     Tail twitches  Approaches  Indifferent  Runs from  Other Interactions  \\\n",
      "0            False       False        False      False                 NaN   \n",
      "1            False       False        False       True                  me   \n",
      "2            False       False         True      False                 NaN   \n",
      "3            False       False        False       True                 NaN   \n",
      "4            False       False        False      False                 NaN   \n",
      "...            ...         ...          ...        ...                 ...   \n",
      "3018         False       False        False       True                 NaN   \n",
      "3019         False       False         True      False                 NaN   \n",
      "3020         False       False         True      False                 NaN   \n",
      "3021         False       False         True      False                 NaN   \n",
      "3022         False        True        False      False                 NaN   \n",
      "\n",
      "                                          Lat/Long  \n",
      "0       POINT (-73.9561344937861 40.7940823884086)  \n",
      "1     POINT (-73.9570437717691 40.794850940803904)  \n",
      "2      POINT (-73.9768311751004 40.76671780725581)  \n",
      "3       POINT (-73.9757249834141 40.7697032606755)  \n",
      "4        POINT (-73.9593126695714 40.797533370163)  \n",
      "...                                            ...  \n",
      "3018    POINT (-73.9639431360458 40.7908677445466)  \n",
      "3019    POINT (-73.9704015859639 40.7825600069973)  \n",
      "3020    POINT (-73.9665871993517 40.7836775064883)  \n",
      "3021    POINT (-73.9639941227864 40.7899152327912)  \n",
      "3022    POINT (-73.9754794191553 40.7696404489025)  \n",
      "\n",
      "[3023 rows x 31 columns]\n"
     ]
    }
   ],
   "source": [
    "squirrel_data = pd.read_csv(\"2018_Central_Park_Squirrel_Census_-_Squirrel_Data.csv\")\n",
    "print(squirrel_data)"
   ]
  },
  {
   "cell_type": "code",
   "execution_count": 51,
   "id": "8179b5f6",
   "metadata": {},
   "outputs": [],
   "source": [
    "gray_squirrels_count = len(squirrel_data[squirrel_data[\"Primary Fur Color\"] == \"Gray\"])\n",
    "cinnamon_squirrels_count = len(squirrel_data[squirrel_data[\"Primary Fur Color\"] == \"Cinnamon\"])\n",
    "black_squirrels_count = len(squirrel_data[squirrel_data[\"Primary Fur Color\"] == \"Black\"])"
   ]
  },
  {
   "cell_type": "code",
   "execution_count": 52,
   "id": "f3844210",
   "metadata": {},
   "outputs": [],
   "source": [
    "data_dict = {\n",
    "    \"Fur Color\": [\"Gray\", \"Cinnamon\", \"Black\"],\n",
    "    \"Count\": [gray_squirrels_count, cinnamon_squirrels_count, black_squirrels_count]\n",
    "    \n",
    "}"
   ]
  },
  {
   "cell_type": "code",
   "execution_count": 53,
   "id": "164558a8",
   "metadata": {},
   "outputs": [
    {
     "name": "stdout",
     "output_type": "stream",
     "text": [
      "{'Fur Color': ['Gray', 'Cinnamon', 'Black'], 'Count': [2473, 392, 103]}\n"
     ]
    }
   ],
   "source": [
    "print(data_dict)"
   ]
  },
  {
   "cell_type": "code",
   "execution_count": 55,
   "id": "c244e98a",
   "metadata": {},
   "outputs": [],
   "source": [
    "data = pd.DataFrame(data_dict)\n",
    "data.to_csv(\"squirrel_count.csv\")"
   ]
  },
  {
   "cell_type": "markdown",
   "id": "6aecdd04",
   "metadata": {},
   "source": [
    "**------------------------------------------------------------------------------------------------------------------------------------------------------------------------------------------------------------------**"
   ]
  },
  {
   "cell_type": "code",
   "execution_count": null,
   "id": "61eb6784",
   "metadata": {},
   "outputs": [],
   "source": []
  },
  {
   "cell_type": "code",
   "execution_count": null,
   "id": "61ccfb75",
   "metadata": {},
   "outputs": [],
   "source": []
  },
  {
   "cell_type": "markdown",
   "id": "4a9dc295",
   "metadata": {},
   "source": [
    "**------------------------------------------------------------------------------------------------------------------------------------------------------------------------------------------------------------------**"
   ]
  },
  {
   "cell_type": "code",
   "execution_count": null,
   "id": "1fc10fcf",
   "metadata": {},
   "outputs": [],
   "source": []
  },
  {
   "cell_type": "code",
   "execution_count": null,
   "id": "26c25bee",
   "metadata": {},
   "outputs": [],
   "source": []
  },
  {
   "cell_type": "code",
   "execution_count": null,
   "id": "d14aac10",
   "metadata": {},
   "outputs": [],
   "source": []
  }
 ],
 "metadata": {
  "kernelspec": {
   "display_name": "Python 3 (ipykernel)",
   "language": "python",
   "name": "python3"
  },
  "language_info": {
   "codemirror_mode": {
    "name": "ipython",
    "version": 3
   },
   "file_extension": ".py",
   "mimetype": "text/x-python",
   "name": "python",
   "nbconvert_exporter": "python",
   "pygments_lexer": "ipython3",
   "version": "3.9.13"
  }
 },
 "nbformat": 4,
 "nbformat_minor": 5
}
