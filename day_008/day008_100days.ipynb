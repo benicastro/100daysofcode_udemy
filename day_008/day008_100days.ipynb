{
 "cells": [
  {
   "cell_type": "markdown",
   "id": "8602d5ae",
   "metadata": {},
   "source": [
    "### Section 8: Day 8 - Beginner - Function Parameters & Caesar Cipher"
   ]
  },
  {
   "cell_type": "markdown",
   "id": "322aff73",
   "metadata": {},
   "source": [
    "**------------------------------------------------------------------------------------------------------------------------------------------------------------------------------------------------------------------**"
   ]
  },
  {
   "cell_type": "markdown",
   "id": "11b8c7a2",
   "metadata": {},
   "source": [
    "- A ***function*** is a complex set of instructions and packaging them together inside a block of code"
   ]
  },
  {
   "cell_type": "code",
   "execution_count": 1,
   "id": "0c9365de",
   "metadata": {},
   "outputs": [],
   "source": [
    "def greet():\n",
    "    print(\"Hi!\")\n",
    "    print(\"How are you doing?\")\n",
    "    print(\"Wanna eat?\")"
   ]
  },
  {
   "cell_type": "code",
   "execution_count": 2,
   "id": "189605c3",
   "metadata": {},
   "outputs": [
    {
     "name": "stdout",
     "output_type": "stream",
     "text": [
      "Hi!\n",
      "How are you doing?\n",
      "Wanna eat?\n"
     ]
    }
   ],
   "source": [
    "greet()"
   ]
  },
  {
   "cell_type": "code",
   "execution_count": 4,
   "id": "1603843b",
   "metadata": {},
   "outputs": [],
   "source": [
    "def my_function(something):\n",
    "    # Do this with something\n",
    "    # Then do this\n",
    "    # Finally do this\n",
    "    pass"
   ]
  },
  {
   "cell_type": "code",
   "execution_count": 8,
   "id": "e3ac30bd",
   "metadata": {},
   "outputs": [],
   "source": [
    "def greet(name):\n",
    "    print(f\"Hi {name}!\")\n",
    "    print(f\"How are you doing, {name}?\")"
   ]
  },
  {
   "cell_type": "code",
   "execution_count": 9,
   "id": "b9909495",
   "metadata": {
    "scrolled": true
   },
   "outputs": [
    {
     "name": "stdout",
     "output_type": "stream",
     "text": [
      "Please provide name: Astroc\n",
      "Hi Astroc!\n",
      "How are you doing, Astroc?\n"
     ]
    }
   ],
   "source": [
    "name = input(\"Please provide name: \")\n",
    "greet(name)"
   ]
  },
  {
   "cell_type": "code",
   "execution_count": 2,
   "id": "a8e52bad",
   "metadata": {},
   "outputs": [],
   "source": [
    "def greet(name, location):\n",
    "    print(f\"Hello, {name}!\")\n",
    "    print(f\"How are you doing in {location}?\")"
   ]
  },
  {
   "cell_type": "code",
   "execution_count": 3,
   "id": "54d14d4d",
   "metadata": {},
   "outputs": [
    {
     "name": "stdout",
     "output_type": "stream",
     "text": [
      "Please provide name: Beni\n",
      "Please provide location: Cabanatuan City\n",
      "Hello, Beni!\n",
      "How are you doing in Cabanatuan City.\n"
     ]
    }
   ],
   "source": [
    "name = input(\"Please provide name: \")\n",
    "location = input(\"Please provide location: \")\n",
    "greet(name, location)"
   ]
  },
  {
   "cell_type": "markdown",
   "id": "f87a36fd",
   "metadata": {},
   "source": [
    "**------------------------------------------------------------------------------------------------------------------------------------------------------------------------------------------------------------------**"
   ]
  },
  {
   "cell_type": "markdown",
   "id": "71d06672",
   "metadata": {},
   "source": [
    "### Exercise 1 - Paint Area Calculator"
   ]
  },
  {
   "cell_type": "markdown",
   "id": "13877b13",
   "metadata": {},
   "source": [
    "- You are painting a wall. The instructions on the paint can says that 1 can of paint can cover 5 square meters of wall. Given a random height and width of wall, calculate how many cans of paint you'll need to buy.\n",
    "\n",
    "- number of cans = (wall height x wall width) ÷ coverage per can."
   ]
  },
  {
   "cell_type": "code",
   "execution_count": 9,
   "id": "c44c1590",
   "metadata": {},
   "outputs": [],
   "source": [
    "def calc_paint(length, width, can_coverage):\n",
    "    \"\"\"This functions calculates how many cans of paint is needed for a wall with a given length and width.\"\"\"\n",
    "    # Import needed modules\n",
    "    import numpy as np\n",
    "    \n",
    "    # Formula used\n",
    "    num_of_cans = np.ceil(length * width / can_coverage)\n",
    "    return num_of_cans"
   ]
  },
  {
   "cell_type": "code",
   "execution_count": 11,
   "id": "b707ae91",
   "metadata": {
    "scrolled": true
   },
   "outputs": [
    {
     "name": "stdout",
     "output_type": "stream",
     "text": [
      "Please provide length: 3\n",
      "Please provide width: 9\n",
      "How many square meters can a can of paint cover?: 5\n",
      "You will be needing 6.0 cans of paint.\n"
     ]
    }
   ],
   "source": [
    "length = int(input(\"Please provide length of wall: \"))\n",
    "width = int(input(\"Please provide width of wall: \"))\n",
    "can_coverage = int(input(\"How many square meters can a can of paint cover?: \"))\n",
    "num_of_cans = calc_paint(length, width, can_coverage)\n",
    "print(f\"You will be needing {num_of_cans} cans of paint.\")"
   ]
  },
  {
   "cell_type": "markdown",
   "id": "761abd23",
   "metadata": {},
   "source": [
    "**------------------------------------------------------------------------------------------------------------------------------------------------------------------------------------------------------------------**"
   ]
  },
  {
   "cell_type": "markdown",
   "id": "dfb16018",
   "metadata": {},
   "source": [
    "### Exercise 2 - Prime Number Checker"
   ]
  },
  {
   "cell_type": "markdown",
   "id": "95cb3dc8",
   "metadata": {},
   "source": [
    "- Prime numbers are numbers that can only be cleanly divided by themselves and 1.\n",
    "- You need to write a function that checks whether if the number passed into it is a prime number or not."
   ]
  },
  {
   "cell_type": "code",
   "execution_count": 15,
   "id": "f0cb7338",
   "metadata": {},
   "outputs": [],
   "source": [
    "def prime_checker(n):\n",
    "    \"\"\"This function checks whether the input number n is a prime or not.\"\"\"\n",
    "    \n",
    "    # Import needed module\n",
    "    # import numpy as np\n",
    "    \n",
    "    # Check factors\n",
    "    for factor in range(2, int(n*(1/2))):\n",
    "        if n % factor == 0:\n",
    "            return \"It's not a prime number.\"\n",
    "    return \"It's a prime number.\""
   ]
  },
  {
   "cell_type": "code",
   "execution_count": 17,
   "id": "6e89c428",
   "metadata": {},
   "outputs": [
    {
     "name": "stdout",
     "output_type": "stream",
     "text": [
      "Please provide number to be checked: 75\n",
      "It's not a prime number.\n"
     ]
    }
   ],
   "source": [
    "n = int(input(\"Please provide number to be checked: \"))\n",
    "print(prime_checker(n))"
   ]
  },
  {
   "cell_type": "markdown",
   "id": "646f877f",
   "metadata": {},
   "source": [
    "**------------------------------------------------------------------------------------------------------------------------------------------------------------------------------------------------------------------**"
   ]
  },
  {
   "cell_type": "markdown",
   "id": "4529a53c",
   "metadata": {},
   "source": [
    "### Project 8 - Caesar Cipher"
   ]
  },
  {
   "cell_type": "code",
   "execution_count": 22,
   "id": "fcce75f1",
   "metadata": {},
   "outputs": [
    {
     "name": "stdout",
     "output_type": "stream",
     "text": [
      "           \n",
      " ,adPPYba, ,adPPYYba,  ,adPPYba, ,adPPYba, ,adPPYYba, 8b,dPPYba,  \n",
      "a8\"     \"\" \"\"     `Y8 a8P_____88 I8[    \"\" \"\"     `Y8 88P'   \"Y8  \n",
      "8b         ,adPPPPP88 8PP\"  `\"Y8ba,  ,adPPPPP88 88          \n",
      "\"8a,   ,aa 88,    ,88 \"8b,   ,aa aa    ]8I 88,    ,88 88          \n",
      " `\"Ybbd8\"' `\"8bbdP\"Y8  `\"Ybbd8\"' `\"YbbdP\"' `\"8bbdP\"Y8 88   \n",
      "            88             88                                 \n",
      "           \"\"             88                                 \n",
      "                          88                                 \n",
      " ,adPPYba, 88 8b,dPPYba,  88,dPPYba,   ,adPPYba, 8b,dPPYba,  \n",
      "a8\"     \"\" 88 88P'    \"8a 88P'    \"8a a8P_____88 88P'   \"Y8  \n",
      "8b         88 88       d8 88       88 8PP\" 88          \n",
      "\"8a,   ,aa 88 88b,   ,a8\" 88       88 \"8b,   ,aa 88          \n",
      " `\"Ybbd8\"' 88 88`YbbdP\"'  88       88  `\"Ybbd8\"' 88          \n",
      "              88                                             \n",
      "              88           \n",
      "\n",
      "Caesar Cipher, an encryption/decryption tool.\n",
      "    By Benedict Castro benedict.zcastro@gmail.com\n",
      "Type \"encode\" to encode, or type \"decode\" to decode: encode\n",
      "Please type your message: hello\n",
      "Please provide the shift number (int): 5\n",
      "The encoded message is: mjqqt.\n",
      "Do you want to use the tool again? Please type \"yes\" or \"no\": no\n",
      "Thanks for using this tool! May you decipher all your worries away.\n"
     ]
    }
   ],
   "source": [
    "\"\"\"Caesar Cipher Project, by Benedict Castro benedict.castro11@gmail.com\n",
    "An encryption/decryption tool.\n",
    "Tags: short, code, logic\"\"\"\n",
    "\n",
    "# Import needed modules\n",
    "import proj_art\n",
    "from alphabet import alphabet\n",
    "\n",
    "\n",
    "def main():\n",
    "    print(proj_art.logo)\n",
    "    print('''Caesar Cipher, an encryption/decryption tool.\n",
    "    By Benedict Castro benedict.zcastro@gmail.com''')\n",
    "\n",
    "    def ask_user():\n",
    "        \"\"\"This function asks the user if he/she wants to either encrypt or decrypt some text.\"\"\"\n",
    "        invalid_inputs = True\n",
    "        while invalid_inputs:\n",
    "            user_choice = input('Type \"encode\" to encode, or type \"decode\" to decode: ')\n",
    "            user_message = input(\"Please type your message: \").lower()\n",
    "            shift_number = int(input(\"Please provide the shift number (int): \"))\n",
    "            if shift_number > 26:\n",
    "                shift_number %= 26\n",
    "            if user_choice.lower() not in [\"encode\", \"decode\"]:\n",
    "                print(\"Please provide a valid input.\")\n",
    "            else:\n",
    "                invalid_inputs = False\n",
    "                return user_choice, user_message, shift_number\n",
    "\n",
    "    def enc_dec(user_choice, user_message, shift_number):\n",
    "        \"\"\"This function encrypts/decrypts the given message based on the user's choice.\"\"\"\n",
    "        new_message = ''\n",
    "        if user_choice == \"decode\":\n",
    "            shift_number *= -1\n",
    "        for letter in user_message:  # Find the letters in the user's message and shift them\n",
    "            if letter.isalpha():\n",
    "                letter_index = alphabet.index(letter)\n",
    "                new_index = letter_index + shift_number\n",
    "                new_message += alphabet[new_index]\n",
    "            else:\n",
    "                new_message += letter\n",
    "        return new_message\n",
    "\n",
    "    run_program = True\n",
    "    while run_program:  # Main program loop\n",
    "        user_choice, user_message, shift_number = ask_user()\n",
    "        output = enc_dec(user_choice, user_message, shift_number)\n",
    "        print(f\"The {user_choice}d message is: {output}.\")\n",
    "\n",
    "        # Ask user if they want to try again.\n",
    "        use_again = input('Do you want to use the tool again? Please type \"yes\" or \"no\": ')\n",
    "        if use_again.lower() != \"yes\":\n",
    "            break\n",
    "\n",
    "    print(\"Thanks for using this tool! May you decipher all your worries away.\")\n",
    "\n",
    "\n",
    "# If the program is run (instead of imported), run the game:\n",
    "if __name__ == \"__main__\":\n",
    "    main()\n"
   ]
  },
  {
   "cell_type": "code",
   "execution_count": null,
   "id": "b865ae69",
   "metadata": {},
   "outputs": [],
   "source": [
    "alphabet = ['a', 'b', 'c', 'd', 'e', 'f', 'g', 'h', 'i', 'j', 'k', 'l', 'm', 'n', 'o', 'p', 'q', 'r', 's', 't', 'u', 'v', 'w', 'x', 'y', 'z', 'a', 'b', 'c', 'd', 'e', 'f', 'g', 'h', 'i', 'j', 'k', 'l', 'm', 'n', 'o', 'p', 'q', 'r', 's', 't', 'u', 'v', 'w', 'x', 'y', 'z']\n",
    "\n",
    "def caesar(start_text, shift_amount, cipher_direction):\n",
    "  end_text = \"\"\n",
    "  if cipher_direction == \"decode\":\n",
    "    shift_amount *= -1\n",
    "  for char in start_text:\n",
    "    #TODO-3: What happens if the user enters a number/symbol/space?\n",
    "    #Can you fix the code to keep the number/symbol/space when the text is encoded/decoded?\n",
    "    #e.g. start_text = \"meet me at 3\"\n",
    "    #end_text = \"•••• •• •• 3\"\n",
    "    if char in alphabet:\n",
    "      position = alphabet.index(char)\n",
    "      new_position = position + shift_amount\n",
    "      end_text += alphabet[new_position]\n",
    "    else:\n",
    "      end_text += char\n",
    "  print(f\"Here's the {cipher_direction}d result: {end_text}\")\n",
    "\n",
    "#TODO-1: Import and print the logo from art.py when the program starts.\n",
    "from art import logo\n",
    "print(logo)\n",
    "\n",
    "#TODO-4: Can you figure out a way to ask the user if they want to restart the cipher program?\n",
    "#e.g. Type 'yes' if you want to go again. Otherwise type 'no'.\n",
    "#If they type 'yes' then ask them for the direction/text/shift again and call the caesar() function again?\n",
    "#Hint: Try creating a while loop that continues to execute the program if the user types 'yes'.\n",
    "should_end = False\n",
    "while not should_end:\n",
    "\n",
    "  direction = input(\"Type 'encode' to encrypt, type 'decode' to decrypt:\\n\")\n",
    "  text = input(\"Type your message:\\n\").lower()\n",
    "  shift = int(input(\"Type the shift number:\\n\"))\n",
    "  #TODO-2: What if the user enters a shift that is greater than the number of letters in the alphabet?\n",
    "  #Try running the program and entering a shift number of 45.\n",
    "  #Add some code so that the program continues to work even if the user enters a shift number greater than 26. \n",
    "  #Hint: Think about how you can use the modulus (%).\n",
    "  shift = shift % 26\n",
    "\n",
    "  caesar(start_text=text, shift_amount=shift, cipher_direction=direction)\n",
    "\n",
    "  restart = input(\"Type 'yes' if you want to go again. Otherwise type 'no'.\\n\")\n",
    "  if restart == \"no\":\n",
    "    should_end = True\n",
    "    print(\"Goodbye\")"
   ]
  }
 ],
 "metadata": {
  "kernelspec": {
   "display_name": "Python 3 (ipykernel)",
   "language": "python",
   "name": "python3"
  },
  "language_info": {
   "codemirror_mode": {
    "name": "ipython",
    "version": 3
   },
   "file_extension": ".py",
   "mimetype": "text/x-python",
   "name": "python",
   "nbconvert_exporter": "python",
   "pygments_lexer": "ipython3",
   "version": "3.9.13"
  }
 },
 "nbformat": 4,
 "nbformat_minor": 5
}
