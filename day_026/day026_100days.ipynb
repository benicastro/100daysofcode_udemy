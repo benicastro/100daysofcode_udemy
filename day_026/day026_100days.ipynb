{
 "cells": [
  {
   "cell_type": "markdown",
   "id": "492547be",
   "metadata": {},
   "source": [
    "### Section 26: Day 26 - Intermediate - List Comprehension and the NATO Alphabet"
   ]
  },
  {
   "cell_type": "markdown",
   "id": "6aecdd04",
   "metadata": {},
   "source": [
    "**------------------------------------------------------------------------------------------------------------------------------------------------------------------------------------------------------------------**"
   ]
  },
  {
   "cell_type": "markdown",
   "id": "c9624144",
   "metadata": {},
   "source": [
    "- **List Comprehension** is a case where you create a new list from a previous list."
   ]
  },
  {
   "cell_type": "code",
   "execution_count": 1,
   "id": "b41766b6",
   "metadata": {},
   "outputs": [
    {
     "name": "stdout",
     "output_type": "stream",
     "text": [
      "[2, 3, 4]\n"
     ]
    }
   ],
   "source": [
    "numbers = [1, 2, 3]\n",
    "new_list = []\n",
    "for number in numbers:\n",
    "    new_list.append(number+1)\n",
    "print(new_list)"
   ]
  },
  {
   "cell_type": "markdown",
   "id": "0c4e70ff",
   "metadata": {},
   "source": [
    "- new_list = [new_item for item in list]"
   ]
  },
  {
   "cell_type": "code",
   "execution_count": 2,
   "id": "1454fb07",
   "metadata": {},
   "outputs": [
    {
     "data": {
      "text/plain": [
       "[2, 3, 4]"
      ]
     },
     "execution_count": 2,
     "metadata": {},
     "output_type": "execute_result"
    }
   ],
   "source": [
    "[number+1 for number in numbers]"
   ]
  },
  {
   "cell_type": "code",
   "execution_count": 3,
   "id": "411d110c",
   "metadata": {},
   "outputs": [
    {
     "name": "stdout",
     "output_type": "stream",
     "text": [
      "['B', 'e', 'n', 'e', 'd', 'i', 'c', 't']\n"
     ]
    }
   ],
   "source": [
    "name = \"Benedict\"\n",
    "new_list = [letter for letter in name]\n",
    "print(new_list)"
   ]
  },
  {
   "cell_type": "code",
   "execution_count": 4,
   "id": "88ecd2d0",
   "metadata": {},
   "outputs": [
    {
     "data": {
      "text/plain": [
       "[2, 4, 6, 8]"
      ]
     },
     "execution_count": 4,
     "metadata": {},
     "output_type": "execute_result"
    }
   ],
   "source": [
    "[n*2 for n in range(1, 5)]"
   ]
  },
  {
   "cell_type": "code",
   "execution_count": 6,
   "id": "8f0fa728",
   "metadata": {},
   "outputs": [
    {
     "name": "stdout",
     "output_type": "stream",
     "text": [
      "['Alex', 'Beth', 'Dave']\n"
     ]
    }
   ],
   "source": [
    "names = [\"Alex\", \"Beth\", \"Caroline\", \"Dave\", \"Eleanor\", \"Freddie\"]\n",
    "names_list = [name for name in names if len(name) <= 4]\n",
    "print(names_list)"
   ]
  },
  {
   "cell_type": "code",
   "execution_count": 7,
   "id": "f6d673e9",
   "metadata": {},
   "outputs": [
    {
     "data": {
      "text/plain": [
       "['CAROLINE', 'ELEANOR', 'FREDDIE']"
      ]
     },
     "execution_count": 7,
     "metadata": {},
     "output_type": "execute_result"
    }
   ],
   "source": [
    "[name.upper() for name in names if len(name) > 4]"
   ]
  },
  {
   "cell_type": "markdown",
   "id": "a516a2c6",
   "metadata": {},
   "source": [
    "**------------------------------------------------------------------------------------------------------------------------------------------------------------------------------------------------------------------**"
   ]
  },
  {
   "cell_type": "markdown",
   "id": "139de616",
   "metadata": {},
   "source": [
    "### Interactive Coding Exercises"
   ]
  },
  {
   "cell_type": "markdown",
   "id": "7cd6825d",
   "metadata": {},
   "source": [
    "#### Squaring Numbers"
   ]
  },
  {
   "cell_type": "markdown",
   "id": "3427a683",
   "metadata": {},
   "source": [
    "- You are going to write a List Comprehension to create a new list called squared_numbers. This new list should contain every number in the list numbers but each number should be squared."
   ]
  },
  {
   "cell_type": "code",
   "execution_count": 9,
   "id": "12a38ca5",
   "metadata": {},
   "outputs": [
    {
     "name": "stdout",
     "output_type": "stream",
     "text": [
      "[1, 1, 4, 9, 25, 64, 169, 441, 1156, 3025]\n"
     ]
    }
   ],
   "source": [
    "numbers = [1, 1, 2, 3, 5, 8, 13, 21, 34, 55]\n",
    "# 🚨 Do Not Change the code above 👆\n",
    "\n",
    "#Write your 1 line code 👇 below:\n",
    "\n",
    "squared_numbers = [n**2 for n in numbers]\n",
    "\n",
    "#Write your code 👆 above:\n",
    "\n",
    "print(squared_numbers)"
   ]
  },
  {
   "cell_type": "markdown",
   "id": "f5a68a60",
   "metadata": {},
   "source": [
    "#### Filtering Even Numbers"
   ]
  },
  {
   "cell_type": "markdown",
   "id": "e80b282b",
   "metadata": {},
   "source": [
    "- You are going to write a List Comprehension to create a new list called result. This new list should only contain the even numbers from the list numbers."
   ]
  },
  {
   "cell_type": "code",
   "execution_count": 10,
   "id": "df7a8ba6",
   "metadata": {},
   "outputs": [
    {
     "name": "stdout",
     "output_type": "stream",
     "text": [
      "[2, 8, 34]\n"
     ]
    }
   ],
   "source": [
    "numbers = [1, 1, 2, 3, 5, 8, 13, 21, 34, 55]\n",
    "# 🚨 Do Not Change the code above\n",
    "\n",
    "#Write your 1 line code 👇 below:\n",
    "\n",
    "result = [num for num in numbers if num % 2 == 0]\n",
    "\n",
    "#Write your code 👆 above:\n",
    "\n",
    "print(result)"
   ]
  },
  {
   "cell_type": "markdown",
   "id": "0f04e3ca",
   "metadata": {},
   "source": [
    "#### Data Overlap"
   ]
  },
  {
   "cell_type": "markdown",
   "id": "e879e27e",
   "metadata": {},
   "source": [
    "- Take a look inside file1.txt and file2.txt. They each contain a bunch of numbers, each number on a new line.\n",
    "- You are going to create a list called result which contains the numbers that are common in both files."
   ]
  },
  {
   "cell_type": "code",
   "execution_count": 14,
   "id": "3e327fda",
   "metadata": {},
   "outputs": [],
   "source": [
    "file1 = [3, 6, 5, 8, 33, 12, 7, 4, 72, 2, 42, 13]\n",
    "file2 = [3, 6, 13, 5, 7, 89, 12, 3, 33, 34, 1, 344, 42]\n",
    "\n",
    "with open(\"file1.txt\", \"w\") as file_one:\n",
    "    for n in file1:\n",
    "        file_one.write(f\"{n}\\n\")\n",
    "        \n",
    "with open(\"file2.txt\", \"w\") as file_two:\n",
    "    for n in file2:\n",
    "        file_two.write(f\"{n}\\n\")"
   ]
  },
  {
   "cell_type": "code",
   "execution_count": 16,
   "id": "8e253983",
   "metadata": {},
   "outputs": [
    {
     "name": "stdout",
     "output_type": "stream",
     "text": [
      "[3, 6, 5, 33, 12, 7, 42, 13]\n"
     ]
    }
   ],
   "source": [
    "with open(\"file1.txt\") as file1:\n",
    "    contents1 = file1.readlines()\n",
    "\n",
    "with open(\"file2.txt\") as file2:\n",
    "    contents2 = file2.readlines()\n",
    "\n",
    "result = [int(num) for num in contents1 if num in contents2]\n",
    "print(result)"
   ]
  },
  {
   "cell_type": "markdown",
   "id": "e73a45a6",
   "metadata": {},
   "source": [
    "**------------------------------------------------------------------------------------------------------------------------------------------------------------------------------------------------------------------**"
   ]
  },
  {
   "cell_type": "markdown",
   "id": "d99d6e2e",
   "metadata": {},
   "source": [
    "#### Apply List Comprehension to the US States Game"
   ]
  },
  {
   "cell_type": "code",
   "execution_count": null,
   "id": "0712fb11",
   "metadata": {},
   "outputs": [],
   "source": [
    "missing_states = [state for state in df[\"state\"] if state not in game_master.correct_answers]\n",
    "pd.DataFrame(missing_states).to_csv(\"states_to_learn.csv\")"
   ]
  },
  {
   "cell_type": "markdown",
   "id": "f3918fe2",
   "metadata": {},
   "source": [
    "**------------------------------------------------------------------------------------------------------------------------------------------------------------------------------------------------------------------**"
   ]
  },
  {
   "cell_type": "markdown",
   "id": "9cde3b44",
   "metadata": {},
   "source": [
    "### Dictionary Comprehension"
   ]
  },
  {
   "cell_type": "markdown",
   "id": "98dc78f3",
   "metadata": {},
   "source": [
    "new_dict = {new_key:new_value for item in list if test}"
   ]
  },
  {
   "cell_type": "markdown",
   "id": "6e8c475f",
   "metadata": {},
   "source": [
    "new_dict = {new_key:new_value for (key, value) in dict.items() if test}"
   ]
  },
  {
   "cell_type": "code",
   "execution_count": 5,
   "id": "fd67ba85",
   "metadata": {},
   "outputs": [
    {
     "name": "stdout",
     "output_type": "stream",
     "text": [
      "{'Alex': 80, 'Beth': 93, 'Caroline': 19, 'Dave': 37, 'Eleanor': 51, 'Freddie': 70}\n"
     ]
    }
   ],
   "source": [
    "import random\n",
    "\n",
    "names = [\"Alex\", \"Beth\", \"Caroline\", \"Dave\", \"Eleanor\", \"Freddie\"]\n",
    "student_scores = {name:random.randint(1, 100) for name in names}\n",
    "print(student_scores)"
   ]
  },
  {
   "cell_type": "code",
   "execution_count": 7,
   "id": "218abecb",
   "metadata": {},
   "outputs": [
    {
     "name": "stdout",
     "output_type": "stream",
     "text": [
      "{'Alex': 80, 'Beth': 93, 'Freddie': 70}\n"
     ]
    }
   ],
   "source": [
    "passed_students = {name:score for (name, score) in student_scores.items() if score >= 60}\n",
    "print(passed_students)"
   ]
  },
  {
   "cell_type": "markdown",
   "id": "50b0b289",
   "metadata": {},
   "source": [
    "**------------------------------------------------------------------------------------------------------------------------------------------------------------------------------------------------------------------**"
   ]
  },
  {
   "cell_type": "markdown",
   "id": "4b8d8ade",
   "metadata": {},
   "source": [
    "### Interactive Coding Exercises"
   ]
  },
  {
   "cell_type": "markdown",
   "id": "c688caa2",
   "metadata": {},
   "source": [
    "#### Dictionary Comprehension 1"
   ]
  },
  {
   "cell_type": "markdown",
   "id": "44cc1618",
   "metadata": {},
   "source": [
    "- You are going to use Dictionary Comprehension to create a dictionary called result that takes each word in the given sentence and calculates the number of letters in each word.\n",
    "\n",
    "- Try Googling to find out how to convert a sentence into a list of words."
   ]
  },
  {
   "cell_type": "code",
   "execution_count": 9,
   "id": "ce3a0c8b",
   "metadata": {},
   "outputs": [
    {
     "name": "stdout",
     "output_type": "stream",
     "text": [
      "{'What': 4, 'is': 2, 'the': 3, 'Airspeed': 8, 'Velocity': 8, 'of': 2, 'an': 2, 'Unladen': 7, 'Swallow?': 8}\n"
     ]
    }
   ],
   "source": [
    "sentence = \"What is the Airspeed Velocity of an Unladen Swallow?\"\n",
    "# Don't change code above 👆\n",
    "\n",
    "# Write your code below:\n",
    "words_list = sentence.split()\n",
    "result = {word:len(word) for word in words_list}\n",
    "\n",
    "print(result)"
   ]
  },
  {
   "cell_type": "markdown",
   "id": "0bc7db74",
   "metadata": {},
   "source": [
    "#### Dictionary Comprehension 2"
   ]
  },
  {
   "cell_type": "markdown",
   "id": "e30b6ede",
   "metadata": {},
   "source": [
    "- You are going to use Dictionary Comprehension to create a dictionary called weather_f that takes each temperature in degrees Celsius and converts it into degrees Fahrenheit.\n",
    "\n",
    "- To convert temp_c into temp_f:\n",
    "\n",
    "- (temp_c * 9/5) + 32 = temp_f"
   ]
  },
  {
   "cell_type": "code",
   "execution_count": 11,
   "id": "8d7b3598",
   "metadata": {},
   "outputs": [
    {
     "name": "stdout",
     "output_type": "stream",
     "text": [
      "{'Monday': 53.6, 'Tuesday': 57.2, 'Wednesday': 59.0, 'Thursday': 57.2, 'Friday': 69.8, 'Saturday': 71.6, 'Sunday': 75.2}\n"
     ]
    }
   ],
   "source": [
    "weather_c = {\n",
    "    \"Monday\": 12,\n",
    "    \"Tuesday\": 14,\n",
    "    \"Wednesday\": 15,\n",
    "    \"Thursday\": 14,\n",
    "    \"Friday\": 21,\n",
    "    \"Saturday\": 22,\n",
    "    \"Sunday\": 24,\n",
    "}\n",
    "# 🚨 Don't change code above 👆\n",
    "\n",
    "\n",
    "# Write your code 👇 below:\n",
    "weather_f = {day:(tempc*9/5)+32 for (day, tempc) in weather_c.items()}\n",
    "\n",
    "\n",
    "\n",
    "print(weather_f)"
   ]
  },
  {
   "cell_type": "markdown",
   "id": "2175aaac",
   "metadata": {},
   "source": [
    "**------------------------------------------------------------------------------------------------------------------------------------------------------------------------------------------------------------------**"
   ]
  },
  {
   "cell_type": "markdown",
   "id": "a056006c",
   "metadata": {},
   "source": [
    "### Iterating over a Pandas DataFrame"
   ]
  },
  {
   "cell_type": "code",
   "execution_count": 13,
   "id": "9f861543",
   "metadata": {},
   "outputs": [],
   "source": [
    "import pandas as pd\n",
    "\n",
    "student_dict = {\n",
    "    \"student\": [\"Angela\", \"James\", \"Lily\"],\n",
    "    \"score\": [56, 76, 98]\n",
    "}"
   ]
  },
  {
   "cell_type": "code",
   "execution_count": 14,
   "id": "8c96c775",
   "metadata": {},
   "outputs": [
    {
     "name": "stdout",
     "output_type": "stream",
     "text": [
      "  student  score\n",
      "0  Angela     56\n",
      "1   James     76\n",
      "2    Lily     98\n"
     ]
    }
   ],
   "source": [
    "student_data_frame = pd.DataFrame(student_dict)\n",
    "print(student_data_frame)"
   ]
  },
  {
   "cell_type": "code",
   "execution_count": 17,
   "id": "c6bbe97b",
   "metadata": {},
   "outputs": [
    {
     "name": "stdout",
     "output_type": "stream",
     "text": [
      "Angela 56\n",
      "James 76\n",
      "Lily 98\n"
     ]
    }
   ],
   "source": [
    "for (index, row) in student_data_frame.iterrows():\n",
    "    print(row.student, row.score)"
   ]
  },
  {
   "cell_type": "markdown",
   "id": "4b1c714c",
   "metadata": {},
   "source": [
    "**------------------------------------------------------------------------------------------------------------------------------------------------------------------------------------------------------------------**"
   ]
  },
  {
   "cell_type": "markdown",
   "id": "e6917fdc",
   "metadata": {},
   "source": [
    "### NATO Alphabet Project"
   ]
  },
  {
   "cell_type": "code",
   "execution_count": 22,
   "id": "f4de8df9",
   "metadata": {},
   "outputs": [
    {
     "name": "stdout",
     "output_type": "stream",
     "text": [
      "Please provide a word: ok ba\n",
      "['Oscar', 'Kilo', 'Bravo', 'Alfa']\n",
      "Do you want to use the program again?: 'Yes' or 'No': No\n"
     ]
    }
   ],
   "source": [
    "\"\"\"\n",
    "NATO Alphabet Project by Benedict Z. Castro | benedict.zcastro@gmail.com\n",
    "\"\"\"\n",
    "\n",
    "# Import needed modules\n",
    "import pandas as pd\n",
    "\n",
    "# Declare constants/global variables\n",
    "NATO_CSV = \"nato_phonetic_alphabet.csv\"\n",
    "\n",
    "# Import data frame from csv file and convert to a dictionary\n",
    "nato_alphabet = pd.read_csv(NATO_CSV)\n",
    "nato_dict = {row.letter:row.code for (index, row) in nato_alphabet.iterrows()}\n",
    "\n",
    "\n",
    "def main():\n",
    "\n",
    "    # Create a variable and condition asking if the user wants to use the program again\n",
    "    try_again = True\n",
    "    while try_again:\n",
    "\n",
    "        user_input = input(\"Please provide a word: \").upper()\n",
    "        user_code = [nato_dict[letter] for letter in user_input if letter in nato_dict.keys()]\n",
    "        print(user_code)\n",
    "\n",
    "        if input(\"Do you want to use the program again?: 'Yes' or 'No': \").lower() != \"yes\":\n",
    "            try_again = False\n",
    "\n",
    "\n",
    "# Run the project\n",
    "if __name__ == \"__main__\":\n",
    "    main()\n"
   ]
  },
  {
   "cell_type": "code",
   "execution_count": 28,
   "id": "d52eaf19",
   "metadata": {},
   "outputs": [
    {
     "data": {
      "text/plain": [
       "['Alfa', 'Sierra', 'Tango', 'Romeo', 'Oscar', 'Charlie']"
      ]
     },
     "execution_count": 28,
     "metadata": {},
     "output_type": "execute_result"
    }
   ],
   "source": [
    "from phonetic_code import PhoneticCode\n",
    "nato_trial = PhoneticCode()\n",
    "\n",
    "word = \"Astroc\"\n",
    "nato_trial.nato_code(word)"
   ]
  },
  {
   "cell_type": "markdown",
   "id": "bdb4d887",
   "metadata": {},
   "source": [
    "**------------------------------------------------------------------------------------------------------------------------------------------------------------------------------------------------------------------**"
   ]
  },
  {
   "cell_type": "code",
   "execution_count": null,
   "id": "06c545aa",
   "metadata": {},
   "outputs": [],
   "source": [
    "# Keyword Method with iterrows()\n",
    "# {new_key:new_value for (index, row) in df.iterrows()}\n",
    "\n",
    "import pandas\n",
    "\n",
    "data = pandas.read_csv(\"nato_phonetic_alphabet.csv\")\n",
    "#TODO 1. Create a dictionary in this format:\n",
    "phonetic_dict = {row.letter: row.code for (index, row) in data.iterrows()}\n",
    "print(phonetic_dict)\n",
    "\n",
    "#TODO 2. Create a list of the phonetic code words from a word that the user inputs.\n",
    "\n",
    "word = input(\"Enter a word: \").upper()\n",
    "output_list = [phonetic_dict[letter] for letter in word]\n",
    "print(output_list)"
   ]
  }
 ],
 "metadata": {
  "kernelspec": {
   "display_name": "Python 3 (ipykernel)",
   "language": "python",
   "name": "python3"
  },
  "language_info": {
   "codemirror_mode": {
    "name": "ipython",
    "version": 3
   },
   "file_extension": ".py",
   "mimetype": "text/x-python",
   "name": "python",
   "nbconvert_exporter": "python",
   "pygments_lexer": "ipython3",
   "version": "3.9.13"
  }
 },
 "nbformat": 4,
 "nbformat_minor": 5
}
