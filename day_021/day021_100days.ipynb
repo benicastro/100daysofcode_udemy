{
 "cells": [
  {
   "cell_type": "markdown",
   "id": "ca5cdb2b",
   "metadata": {},
   "source": [
    "### Section 21: Day 21 - Intermediate - Build the Snake Game Part 2: Inheritance & List Slicing"
   ]
  },
  {
   "cell_type": "markdown",
   "id": "7a572fd7",
   "metadata": {},
   "source": [
    "**------------------------------------------------------------------------------------------------------------------------------------------------------------------------------------------------------------------**"
   ]
  },
  {
   "cell_type": "markdown",
   "id": "a0b689c0",
   "metadata": {},
   "source": [
    "### Class Inheritance"
   ]
  },
  {
   "cell_type": "markdown",
   "id": "e7ff2459",
   "metadata": {},
   "source": [
    "- Classes can inherit from other classes."
   ]
  },
  {
   "cell_type": "code",
   "execution_count": 6,
   "id": "4e0d333a",
   "metadata": {},
   "outputs": [],
   "source": [
    "class Animal:\n",
    "    def __init___(self):\n",
    "        self.num_eyes = 2\n",
    "        \n",
    "    def breathe(self):\n",
    "        print(\"Inhale, exhale.\")\n",
    "\n",
    "class Fish(Animal):\n",
    "    \n",
    "    def __init__(self):\n",
    "        super().__init__()\n",
    "        \n",
    "    def breathe(self):\n",
    "        super().breathe()\n",
    "        print(\"doing this underwater\")\n",
    "        \n",
    "    def swim(self):\n",
    "        print(\"Moving in water.\")"
   ]
  },
  {
   "cell_type": "code",
   "execution_count": 7,
   "id": "86a6e5cb",
   "metadata": {},
   "outputs": [
    {
     "name": "stdout",
     "output_type": "stream",
     "text": [
      "Moving in water.\n",
      "Inhale, exhale.\n",
      "doing this underwater\n"
     ]
    }
   ],
   "source": [
    "nemo = Fish()\n",
    "nemo.swim()\n",
    "nemo.breathe()"
   ]
  },
  {
   "cell_type": "markdown",
   "id": "418b6f89",
   "metadata": {},
   "source": [
    "**------------------------------------------------------------------------------------------------------------------------------------------------------------------------------------------------------------------**"
   ]
  },
  {
   "cell_type": "markdown",
   "id": "69a337fb",
   "metadata": {},
   "source": [
    "### Quiz 12: Inheritance Quiz"
   ]
  },
  {
   "cell_type": "markdown",
   "id": "92f4b16b",
   "metadata": {},
   "source": [
    "1. Given the following:"
   ]
  },
  {
   "cell_type": "code",
   "execution_count": 8,
   "id": "ee0e5792",
   "metadata": {},
   "outputs": [],
   "source": [
    "class Dog:\n",
    "    def __init__(self):\n",
    "        self.temperament = \"loyal\"\n",
    " \n",
    "    def bark(self):\n",
    "        print(\"Woof, woof!\")"
   ]
  },
  {
   "cell_type": "markdown",
   "id": "8f1407e3",
   "metadata": {},
   "source": [
    "- How do you create a class called Labrador (the subclass) that inherits from the Dog class (the superclass)?"
   ]
  },
  {
   "cell_type": "code",
   "execution_count": 10,
   "id": "55f42a61",
   "metadata": {},
   "outputs": [],
   "source": [
    "class Labrador(Dog):\n",
    "    \n",
    "    def __init__(self):\n",
    "        self.temperament = \"friendly\""
   ]
  },
  {
   "cell_type": "markdown",
   "id": "13d84d45",
   "metadata": {},
   "source": [
    "- The call to super() in the initialiser is recommended, but not strictly required."
   ]
  },
  {
   "cell_type": "markdown",
   "id": "a0e022b6",
   "metadata": {},
   "source": [
    "2. Given this:"
   ]
  },
  {
   "cell_type": "code",
   "execution_count": 13,
   "id": "776e4941",
   "metadata": {},
   "outputs": [],
   "source": [
    "class Dog:\n",
    "    def __init__(self):\n",
    "        self.temperament = \"loyal\"\n",
    " \n",
    "class Labrador(Dog):\n",
    "    def __init__(self):\n",
    "        super().__init__()\n",
    "        self.temperament = \"gentle\""
   ]
  },
  {
   "cell_type": "markdown",
   "id": "5d377fbf",
   "metadata": {},
   "source": [
    "- What will this code print?"
   ]
  },
  {
   "cell_type": "code",
   "execution_count": 12,
   "id": "8d353d49",
   "metadata": {},
   "outputs": [
    {
     "name": "stdout",
     "output_type": "stream",
     "text": [
      "A dog is loyal\n",
      "Sparky is gentle\n"
     ]
    }
   ],
   "source": [
    "doggo = Dog()\n",
    "print(f\"A dog is {doggo.temperament}\")\n",
    " \n",
    "sparky = Labrador()\n",
    "print(f\"Sparky is {sparky.temperament}\")"
   ]
  },
  {
   "cell_type": "markdown",
   "id": "23ca75cb",
   "metadata": {},
   "source": [
    "3. Given this code:"
   ]
  },
  {
   "cell_type": "code",
   "execution_count": 14,
   "id": "eb27d957",
   "metadata": {},
   "outputs": [],
   "source": [
    "class Dog:\n",
    "    def __init__(self):\n",
    "        self.temperament = \"loyal\"\n",
    " \n",
    "    def bark(self):\n",
    "        print(\"Woof, woof!\")\n",
    " \n",
    "class Labrador(Dog):\n",
    "    def __init__(self):\n",
    "        super().__init__()\n",
    "        self.is_a_good_boy = True\n",
    " \n",
    "    def bark(self):\n",
    "        super().bark()\n",
    "        print(\"Greetings, good sir. How do you do?\")"
   ]
  },
  {
   "cell_type": "markdown",
   "id": "b147ae95",
   "metadata": {},
   "source": [
    "- What will this print?"
   ]
  },
  {
   "cell_type": "code",
   "execution_count": 15,
   "id": "c47c9081",
   "metadata": {},
   "outputs": [
    {
     "name": "stdout",
     "output_type": "stream",
     "text": [
      "Woof, woof!\n",
      "Greetings, good sir. How do you do?\n"
     ]
    }
   ],
   "source": [
    "sparky = Labrador()\n",
    "sparky.bark()"
   ]
  },
  {
   "cell_type": "markdown",
   "id": "ac2f51bd",
   "metadata": {},
   "source": [
    "**------------------------------------------------------------------------------------------------------------------------------------------------------------------------------------------------------------------**"
   ]
  },
  {
   "cell_type": "markdown",
   "id": "6bcae5ac",
   "metadata": {},
   "source": [
    "4. Detect Collision with Food\n",
    "5. Create a scoreboard\n",
    "6. Detect Collision with Wall\n",
    "7. Detect Collision with Tail"
   ]
  },
  {
   "cell_type": "markdown",
   "id": "3e050630",
   "metadata": {},
   "source": [
    "**------------------------------------------------------------------------------------------------------------------------------------------------------------------------------------------------------------------**"
   ]
  },
  {
   "cell_type": "code",
   "execution_count": null,
   "id": "28d43680",
   "metadata": {},
   "outputs": [],
   "source": [
    "### Detect Collision with Food\n",
    "snake = Snake()\n",
    "food = Food()\n",
    "\n",
    "# Make the screen listen to keypress\n",
    "screen.listen()\n",
    "screen.onkey(snake.up, \"Up\")\n",
    "screen.onkey(snake.down, \"Down\")\n",
    "screen.onkey(snake.left, \"Left\")\n",
    "screen.onkey(snake.right, \"Right\")\n",
    "\n",
    "game_is_on = True\n",
    "while game_is_on:\n",
    "    screen.update()\n",
    "    time.sleep(0.1)\n",
    "    snake.move()\n",
    "\n",
    "    # Detect collision with food\n",
    "    if snake.head.distance(food) < 15:\n",
    "        food.refresh()"
   ]
  },
  {
   "cell_type": "code",
   "execution_count": null,
   "id": "c41d57c2",
   "metadata": {},
   "outputs": [],
   "source": [
    "### Detect Collision with Wall\n",
    "\n",
    "    if snake.head.xcor() > 280 or snake.head.xcor() < -280 or snake.head.ycor() > 280 or snake.head.ycor() < -280:\n",
    "        game_is_on = False\n",
    "        score.game_over()"
   ]
  },
  {
   "cell_type": "code",
   "execution_count": null,
   "id": "c53a0f3a",
   "metadata": {},
   "outputs": [],
   "source": [
    "### Detect collision with tail\n",
    "    for segment in snake.segments[1:]:\n",
    "        if snake.head.distance(segment) < 10:\n",
    "            game_is_on = False\n",
    "            score.game_over()"
   ]
  },
  {
   "cell_type": "markdown",
   "id": "5fc3087c",
   "metadata": {},
   "source": [
    "**------------------------------------------------------------------------------------------------------------------------------------------------------------------------------------------------------------------**"
   ]
  },
  {
   "cell_type": "markdown",
   "id": "162533cc",
   "metadata": {},
   "source": [
    "### Slicing Lists & Tuples"
   ]
  },
  {
   "cell_type": "code",
   "execution_count": 1,
   "id": "a0e67896",
   "metadata": {},
   "outputs": [],
   "source": [
    "piano_keys = [\"a\", \"b\", \"c\", \"d\", \"e\", \"f\", \"g\"]"
   ]
  },
  {
   "cell_type": "code",
   "execution_count": 2,
   "id": "aa36b1cc",
   "metadata": {},
   "outputs": [
    {
     "data": {
      "text/plain": [
       "['a', 'c', 'e', 'g']"
      ]
     },
     "execution_count": 2,
     "metadata": {},
     "output_type": "execute_result"
    }
   ],
   "source": [
    "piano_keys[::2]"
   ]
  },
  {
   "cell_type": "code",
   "execution_count": 3,
   "id": "5a530e3d",
   "metadata": {},
   "outputs": [
    {
     "data": {
      "text/plain": [
       "['g', 'f', 'e', 'd', 'c', 'b', 'a']"
      ]
     },
     "execution_count": 3,
     "metadata": {},
     "output_type": "execute_result"
    }
   ],
   "source": [
    "piano_keys[::-1]"
   ]
  },
  {
   "cell_type": "code",
   "execution_count": 4,
   "id": "43b8bd96",
   "metadata": {},
   "outputs": [
    {
     "data": {
      "text/plain": [
       "['g', 'e', 'c', 'a']"
      ]
     },
     "execution_count": 4,
     "metadata": {},
     "output_type": "execute_result"
    }
   ],
   "source": [
    "piano_keys[::-2]"
   ]
  },
  {
   "cell_type": "markdown",
   "id": "f992c37f",
   "metadata": {},
   "source": [
    "**------------------------------------------------------------------------------------------------------------------------------------------------------------------------------------------------------------------**"
   ]
  },
  {
   "cell_type": "markdown",
   "id": "a7587bb7",
   "metadata": {},
   "source": [
    "### Project 21 - Snake Game"
   ]
  },
  {
   "cell_type": "code",
   "execution_count": null,
   "id": "4a1b0a76",
   "metadata": {},
   "outputs": [],
   "source": [
    "\"\"\"\n",
    "The Snake Game by Benedict Castro | benedict.zcastro@gmail.com\n",
    "\"\"\"\n",
    "\n",
    "# Import needed modules #######################################################################################################\n",
    "from turtle import Screen\n",
    "from snake import Snake\n",
    "from food import Food\n",
    "from scoreboard import Scoreboard\n",
    "import time\n",
    "\n",
    "# Declare constants #################################################################################################\n",
    "WIDTH = 600\n",
    "HEIGHT = 600\n",
    "BG_COLOR = \"black\"\n",
    "TITLE = \"Milyastroc's Snake Game\"\n",
    "\n",
    "\n",
    "###############################################################################################################################\n",
    "def main():\n",
    "    \"\"\"The Snake Game\n",
    "    by Benedict Castro | benedict.zcastro@gmail.com\"\"\"\n",
    "\n",
    "    play_again = True  # Create a variable to determine if the player wants to try the game again\n",
    "    while play_again:\n",
    "\n",
    "        # Configure screen\n",
    "        screen = Screen()\n",
    "        screen.setup(width=WIDTH, height=HEIGHT)\n",
    "        screen.bgcolor(BG_COLOR)\n",
    "        screen.title(TITLE)\n",
    "        screen.tracer(0)\n",
    "\n",
    "        # Initialize the imported classes\n",
    "        snake = Snake()\n",
    "        food = Food()\n",
    "        score = Scoreboard()\n",
    "\n",
    "        # Make the screen listen to keypress\n",
    "        screen.listen()\n",
    "        screen.onkey(snake.up, \"Up\")\n",
    "        screen.onkey(snake.down, \"Down\")\n",
    "        screen.onkey(snake.left, \"Left\")\n",
    "        screen.onkey(snake.right, \"Right\")\n",
    "\n",
    "        game_is_on = True  # Main game loop\n",
    "        while game_is_on:\n",
    "\n",
    "            # Configure animation settings\n",
    "            screen.update()\n",
    "            time.sleep(0.1)\n",
    "\n",
    "            # Make the snake move by default\n",
    "            snake.move()\n",
    "\n",
    "            # Detect collision with food\n",
    "            if snake.head.distance(food) < 15:\n",
    "                food.refresh()\n",
    "                snake.extend()\n",
    "                score.increase_score()\n",
    "\n",
    "            # Detect collision with wall\n",
    "            if snake.head.xcor() > 280 or snake.head.xcor() < -280 or snake.head.ycor() > 280 or snake.head.ycor() < -280:\n",
    "                game_is_on = False\n",
    "                score.game_over()\n",
    "\n",
    "            # Detect collision with tail\n",
    "            for segment in snake.segments[1:]:\n",
    "                if snake.head.distance(segment) < 10:\n",
    "                    game_is_on = False\n",
    "                    score.game_over()\n",
    "\n",
    "        if screen.textinput(title=TITLE, prompt=\"Do you want to play again? (Yes | No): \").lower() != \"yes\":\n",
    "            play_again = False\n",
    "        else:\n",
    "            screen.clear()\n",
    "\n",
    "\n",
    "# If the game is run (instead of imported), run the game.\n",
    "if __name__ == \"__main__\":\n",
    "    main()\n",
    "\n",
    "# Prevent the window from closing without user intervention\n",
    "Screen().exitonclick()\n"
   ]
  },
  {
   "cell_type": "markdown",
   "id": "c8c4a979",
   "metadata": {},
   "source": [
    "**------------------------------------------------------------------------------------------------------------------------------------------------------------------------------------------------------------------**"
   ]
  },
  {
   "cell_type": "code",
   "execution_count": null,
   "id": "20071119",
   "metadata": {},
   "outputs": [],
   "source": [
    "# Snake \n",
    "from turtle import Turtle\n",
    "STARTING_POSITIONS = [(0, 0), (-20, 0), (-40, 0)]\n",
    "MOVE_DISTANCE = 20\n",
    "UP = 90\n",
    "DOWN = 270\n",
    "LEFT = 180\n",
    "RIGHT = 0\n",
    "\n",
    "\n",
    "class Snake:\n",
    "\n",
    "    def __init__(self):\n",
    "        self.segments = []\n",
    "        self.create_snake()\n",
    "        self.head = self.segments[0]\n",
    "\n",
    "    def create_snake(self):\n",
    "        for position in STARTING_POSITIONS:\n",
    "            self.add_segment(position)\n",
    "\n",
    "    def add_segment(self, position):\n",
    "        new_segment = Turtle(\"square\")\n",
    "        new_segment.color(\"white\")\n",
    "        new_segment.penup()\n",
    "        new_segment.goto(position)\n",
    "        self.segments.append(new_segment)\n",
    "\n",
    "    def extend(self):\n",
    "        self.add_segment(self.segments[-1].position())\n",
    "\n",
    "    def move(self):\n",
    "        for seg_num in range(len(self.segments) - 1, 0, -1):\n",
    "            new_x = self.segments[seg_num - 1].xcor()\n",
    "            new_y = self.segments[seg_num - 1].ycor()\n",
    "            self.segments[seg_num].goto(new_x, new_y)\n",
    "        self.head.forward(MOVE_DISTANCE)\n",
    "\n",
    "    def up(self):\n",
    "        if self.head.heading() != DOWN:\n",
    "            self.head.setheading(UP)\n",
    "\n",
    "    def down(self):\n",
    "        if self.head.heading() != UP:\n",
    "            self.head.setheading(DOWN)\n",
    "\n",
    "    def left(self):\n",
    "        if self.head.heading() != RIGHT:\n",
    "            self.head.setheading(LEFT)\n",
    "\n",
    "    def right(self):\n",
    "        if self.head.heading() != LEFT:\n",
    "            self.head.setheading(RIGHT)"
   ]
  },
  {
   "cell_type": "code",
   "execution_count": null,
   "id": "bdfbfcf3",
   "metadata": {},
   "outputs": [],
   "source": [
    "# Food\n",
    "from turtle import Turtle\n",
    "import random\n",
    "\n",
    "\n",
    "class Food(Turtle):\n",
    "\n",
    "    def __init__(self):\n",
    "        super().__init__()\n",
    "        self.shape(\"circle\")\n",
    "        self.penup()\n",
    "        self.shapesize(stretch_len=0.5, stretch_wid=0.5)\n",
    "        self.color(\"blue\")\n",
    "        self.speed(\"fastest\")\n",
    "        self.refresh()\n",
    "\n",
    "    def refresh(self):\n",
    "        random_x = random.randint(-280, 280)\n",
    "        random_y = random.randint(-280, 280)\n",
    "        self.goto(random_x, random_y)"
   ]
  },
  {
   "cell_type": "code",
   "execution_count": null,
   "id": "0daab408",
   "metadata": {},
   "outputs": [],
   "source": [
    "# Scoreboard\n",
    "from turtle import Turtle\n",
    "ALIGNMENT = \"center\"\n",
    "FONT = (\"Courier\", 24, \"normal\")\n",
    "\n",
    "\n",
    "class Scoreboard(Turtle):\n",
    "\n",
    "    def __init__(self):\n",
    "        super().__init__()\n",
    "        self.score = 0\n",
    "        self.color(\"white\")\n",
    "        self.penup()\n",
    "        self.goto(0, 270)\n",
    "        self.hideturtle()\n",
    "        self.update_scoreboard()\n",
    "\n",
    "    def update_scoreboard(self):\n",
    "        self.write(f\"Score: {self.score}\", align=ALIGNMENT, font=FONT)\n",
    "\n",
    "    def game_over(self):\n",
    "        self.goto(0, 0)\n",
    "        self.write(\"GAME OVER\", align=ALIGNMENT, font=FONT)\n",
    "\n",
    "    def increase_score(self):\n",
    "        self.score += 1\n",
    "        self.clear()\n",
    "        self.update_scoreboard()"
   ]
  },
  {
   "cell_type": "code",
   "execution_count": null,
   "id": "171afb49",
   "metadata": {},
   "outputs": [],
   "source": [
    "# main\n",
    "from turtle import Screen\n",
    "from snake import Snake\n",
    "from food import Food\n",
    "from scoreboard import Scoreboard\n",
    "import time\n",
    "\n",
    "screen = Screen()\n",
    "screen.setup(width=600, height=600)\n",
    "screen.bgcolor(\"black\")\n",
    "screen.title(\"My Snake Game\")\n",
    "screen.tracer(0)\n",
    "\n",
    "snake = Snake()\n",
    "food = Food()\n",
    "scoreboard = Scoreboard()\n",
    "\n",
    "screen.listen()\n",
    "screen.onkey(snake.up, \"Up\")\n",
    "screen.onkey(snake.down, \"Down\")\n",
    "screen.onkey(snake.left, \"Left\")\n",
    "screen.onkey(snake.right, \"Right\")\n",
    "\n",
    "game_is_on = True\n",
    "while game_is_on:\n",
    "    screen.update()\n",
    "    time.sleep(0.1)\n",
    "    snake.move()\n",
    "\n",
    "    #Detect collision with food.\n",
    "    if snake.head.distance(food) < 15:\n",
    "        food.refresh()\n",
    "        snake.extend()\n",
    "        scoreboard.increase_score()\n",
    "\n",
    "    #Detect collision with wall.\n",
    "    if snake.head.xcor() > 280 or snake.head.xcor() < -280 or snake.head.ycor() > 280 or snake.head.ycor() < -280:\n",
    "        game_is_on = False\n",
    "        scoreboard.game_over()\n",
    "\n",
    "    #Detect collision with tail.\n",
    "    for segment in snake.segments:\n",
    "        if segment == snake.head:\n",
    "            pass\n",
    "        elif snake.head.distance(segment) < 10:\n",
    "            game_is_on = False\n",
    "            scoreboard.game_over()\n",
    "\n",
    "\n",
    "\n",
    "\n",
    "\n",
    "screen.exitonclick()"
   ]
  }
 ],
 "metadata": {
  "kernelspec": {
   "display_name": "Python 3 (ipykernel)",
   "language": "python",
   "name": "python3"
  },
  "language_info": {
   "codemirror_mode": {
    "name": "ipython",
    "version": 3
   },
   "file_extension": ".py",
   "mimetype": "text/x-python",
   "name": "python",
   "nbconvert_exporter": "python",
   "pygments_lexer": "ipython3",
   "version": "3.9.13"
  }
 },
 "nbformat": 4,
 "nbformat_minor": 5
}
