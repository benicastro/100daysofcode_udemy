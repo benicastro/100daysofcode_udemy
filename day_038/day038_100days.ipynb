{
 "cells": [
  {
   "cell_type": "markdown",
   "id": "bb9b6f7f",
   "metadata": {},
   "source": [
    "### Section 38: Day 38 - Intermediate+ Workout Tracking Using Google Sheets"
   ]
  },
  {
   "cell_type": "markdown",
   "id": "8c98f4b8",
   "metadata": {},
   "source": [
    "***\n"
   ]
  },
  {
   "cell_type": "code",
   "execution_count": 1,
   "id": "24352af2",
   "metadata": {},
   "outputs": [],
   "source": [
    "# Sample \n",
    "\n",
    "# list = []\n",
    "# def users_name():\n",
    "# while True: # Never ending loop\n",
    "#   try:\n",
    "#     name = str(input(\"Please enter your first name: \"))\n",
    "#     if (len(name) > 2 && name.isalpha()):\n",
    "#         list.append(name)\n",
    "#         break\n",
    "#     else:\n",
    "#         raise TypeError\n",
    "#   except TypeError:\n",
    "#     print(\"Letters only please.\")\n",
    "#     continue # This causes it to continue\n",
    "#   except EOFError:\n",
    "#     print(\"Please input something....\")\n",
    "#     continue # This causes it to continue\n",
    "#\n",
    "# users_name()"
   ]
  },
  {
   "cell_type": "code",
   "execution_count": null,
   "id": "cf845e9c",
   "metadata": {},
   "outputs": [],
   "source": [
    "# PyCharm\n",
    "\n",
    "ENV_NIX_APP_ID=e53c2cc1\n",
    "ENV_NIX_API_KEY=367fac05ded98b3acb54d018205cc773\n",
    "ENV_SHEETY_ENDPOINT=https://api.sheety.co/95d949299830cb0ec6024f9a48eab1b1/myWorkouts/workout\n",
    "ENV_SHEETY_USERNAME=AppBreweryInfo\n",
    "ENV_SHEETY_PASSWORD=MySecretPassword!Mwahahah\n",
    "ENV_SHEETY_TOKEN=hjsdf8i7sdfhjkh3jk4hjkbefkjshef"
   ]
  },
  {
   "cell_type": "code",
   "execution_count": null,
   "id": "44e55b44",
   "metadata": {},
   "outputs": [],
   "source": [
    "# Replit\n",
    "\n",
    "{\n",
    "  \"ENV_NIX_APP_ID\": \"e53c2cc1\",\n",
    "  \"ENV_NIX_API_KEY\": \"367fac05ded98b3acb54d018205cc773\",\n",
    "  \"ENV_SHEETY_ENDPOINT\": \"https://api.sheety.co/95d949299830cb0ec6024f9a48eab1b1/myWorkouts/workout\",\n",
    "  \"ENV_SHEETY_USERNAME\": \"AppBreweryInfo\",\n",
    "  \"ENV_SHEETY_PASSWORD\": \"MySecretPassword!Mwahahah\",\n",
    "  \"ENV_SHEETY_TOKEN\": \"YOUR_TOKEN_HERE\"\n",
    "}"
   ]
  },
  {
   "cell_type": "code",
   "execution_count": null,
   "id": "aedc7b02",
   "metadata": {},
   "outputs": [],
   "source": [
    "import requests\n",
    "from datetime import datetime\n",
    "import os\n",
    "\n",
    "# Your personal data. Used by Nutritionix to calculate calories.\n",
    "GENDER = \"male\"\n",
    "WEIGHT_KG = 84\n",
    "HEIGHT_CM = 180\n",
    "AGE = 32\n",
    "\n",
    "# Nutritionix APP ID and API Key. Actual values are stored as environment variables.\n",
    "APP_ID = os.environ[\"ENV_NIX_APP_ID\"]\n",
    "API_KEY = os.environ[\"ENV_NIX_API_KEY\"]\n",
    "\n",
    "exercise_endpoint = \"https://trackapi.nutritionix.com/v2/natural/exercise\"\n",
    "\n",
    "\n",
    "exercise_text = input(\"Tell me which exercises you did: \")\n",
    "\n",
    "# Nutritionix API Call\n",
    "headers = {\n",
    "    \"x-app-id\": APP_ID,\n",
    "    \"x-app-key\": API_KEY,\n",
    "}\n",
    "\n",
    "parameters = {\n",
    "    \"query\": exercise_text,\n",
    "    \"gender\": GENDER,\n",
    "    \"weight_kg\": WEIGHT_KG,\n",
    "    \"height_cm\": HEIGHT_CM,\n",
    "    \"age\": AGE\n",
    "}\n",
    "\n",
    "response = requests.post(exercise_endpoint, json=parameters, headers=headers)\n",
    "result = response.json()\n",
    "print(f\"Nutritionix API call: \\n {result} \\n\")\n",
    "\n",
    "# Adding date and time\n",
    "today_date = datetime.now().strftime(\"%d/%m/%Y\")\n",
    "now_time = datetime.now().strftime(\"%X\")\n",
    "\n",
    "# Sheety Project API. Check your Google sheet name and Sheety endpoint\n",
    "GOOGLE_SHEET_NAME = \"workout\"\n",
    "sheet_endpoint = os.environ[\n",
    "    \"ENV_SHEETY_ENDPOINT\"]\n",
    "\n",
    "# Sheety API Call & Authentication\n",
    "for exercise in result[\"exercises\"]:\n",
    "    sheet_inputs = {\n",
    "        GOOGLE_SHEET_NAME: {\n",
    "            \"date\": today_date,\n",
    "            \"time\": now_time,\n",
    "            \"exercise\": exercise[\"name\"].title(),\n",
    "            \"duration\": exercise[\"duration_min\"],\n",
    "            \"calories\": exercise[\"nf_calories\"]\n",
    "        }\n",
    "    }\n",
    "\n",
    "    # Sheety Authentication Option 1: No Auth\n",
    "    \"\"\"\n",
    "    sheet_response = requests.post(sheet_endpoint, json=sheet_inputs)\n",
    "    \"\"\"\n",
    "\n",
    "    # Sheety Authentication Option 2: Basic Auth\n",
    "    sheet_response = requests.post(\n",
    "        sheet_endpoint,\n",
    "        json=sheet_inputs,\n",
    "        auth=(\n",
    "            os.environ[\"ENV_SHEETY_USERNAME\"],\n",
    "            os.environ[\"ENV_SHEETY_PASSWORD\"],\n",
    "        )\n",
    "    )\n",
    "\n",
    "    # Sheety Authentication Option 3: Bearer Token\n",
    "    \"\"\"\n",
    "    bearer_headers = {\n",
    "        \"Authorization\": f\"Bearer {os.environ['ENV_SHEETY_TOKEN']}\"\n",
    "    }\n",
    "    sheet_response = requests.post(\n",
    "        sheet_endpoint,\n",
    "        json=sheet_inputs,\n",
    "        headers=bearer_headers\n",
    "    )    \n",
    "    \"\"\"\n",
    "    print(f\"Sheety Response: \\n {sheet_response.text}\")\n"
   ]
  },
  {
   "cell_type": "markdown",
   "id": "e7ac3eb1",
   "metadata": {},
   "source": [
    "***"
   ]
  }
 ],
 "metadata": {
  "kernelspec": {
   "display_name": "Python 3 (ipykernel)",
   "language": "python",
   "name": "python3"
  },
  "language_info": {
   "codemirror_mode": {
    "name": "ipython",
    "version": 3
   },
   "file_extension": ".py",
   "mimetype": "text/x-python",
   "name": "python",
   "nbconvert_exporter": "python",
   "pygments_lexer": "ipython3",
   "version": "3.9.13"
  }
 },
 "nbformat": 4,
 "nbformat_minor": 5
}
