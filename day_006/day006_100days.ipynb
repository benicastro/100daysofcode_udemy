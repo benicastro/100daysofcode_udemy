{
 "cells": [
  {
   "cell_type": "markdown",
   "id": "63cfe8d0",
   "metadata": {},
   "source": [
    "### Section 6: Day 6 - Beginner - Python Functions and Karel"
   ]
  },
  {
   "cell_type": "markdown",
   "id": "322aff73",
   "metadata": {},
   "source": [
    "**------------------------------------------------------------------------------------------------------------------------------------------------------------------------------------------------------------------**"
   ]
  },
  {
   "cell_type": "code",
   "execution_count": 1,
   "id": "4a3782a0",
   "metadata": {},
   "outputs": [
    {
     "name": "stdout",
     "output_type": "stream",
     "text": [
      "Hello\n"
     ]
    }
   ],
   "source": [
    "print(\"Hello\")"
   ]
  },
  {
   "cell_type": "code",
   "execution_count": 3,
   "id": "03b359a4",
   "metadata": {},
   "outputs": [
    {
     "name": "stdout",
     "output_type": "stream",
     "text": [
      "5\n"
     ]
    }
   ],
   "source": [
    "num_char = len(\"Hello\")\n",
    "print(num_char)"
   ]
  },
  {
   "cell_type": "code",
   "execution_count": 4,
   "id": "fb3021fa",
   "metadata": {},
   "outputs": [],
   "source": [
    "def my_function():\n",
    "    print(\"Hello\")\n",
    "    print(\"Bye\")"
   ]
  },
  {
   "cell_type": "code",
   "execution_count": 5,
   "id": "b357a825",
   "metadata": {},
   "outputs": [
    {
     "name": "stdout",
     "output_type": "stream",
     "text": [
      "Hello\n",
      "Bye\n"
     ]
    }
   ],
   "source": [
    "my_function()"
   ]
  },
  {
   "cell_type": "markdown",
   "id": "8d739fe3",
   "metadata": {},
   "source": [
    "- Defining functions"
   ]
  },
  {
   "cell_type": "code",
   "execution_count": 7,
   "id": "9d2cf4df",
   "metadata": {},
   "outputs": [],
   "source": [
    "def my_function():\n",
    "    # Do this\n",
    "    # Then do this\n",
    "    # Finally do this\n",
    "    pass"
   ]
  },
  {
   "cell_type": "markdown",
   "id": "8e038af3",
   "metadata": {},
   "source": [
    "- Karel Robot"
   ]
  },
  {
   "cell_type": "markdown",
   "id": "5ba005eb",
   "metadata": {},
   "source": [
    "**------------------------------------------------------------------------------------------------------------------------------------------------------------------------------------------------------------------**"
   ]
  },
  {
   "cell_type": "markdown",
   "id": "50895672",
   "metadata": {},
   "source": [
    "- Reeborg's World"
   ]
  },
  {
   "cell_type": "code",
   "execution_count": null,
   "id": "db6d33c2",
   "metadata": {},
   "outputs": [],
   "source": [
    "# Turn right\n",
    "def turn_right():\n",
    "    turn_left()\n",
    "    turn_left()\n",
    "    turn_left()"
   ]
  },
  {
   "cell_type": "code",
   "execution_count": null,
   "id": "837c062e",
   "metadata": {},
   "outputs": [],
   "source": [
    "# Make a square\n",
    "def turn_right():\n",
    "    turn_left()\n",
    "    turn_left()\n",
    "    turn_left()\n",
    "    \n",
    "turn_left()\n",
    "move()\n",
    "turn_right()\n",
    "move()\n",
    "turn_right()\n",
    "move()\n",
    "turn_right()\n",
    "move()"
   ]
  },
  {
   "cell_type": "code",
   "execution_count": null,
   "id": "c47b958e",
   "metadata": {},
   "outputs": [],
   "source": [
    "# Hurdle 1\n",
    "def turn_right():\n",
    "    turn_left()\n",
    "    turn_left()\n",
    "    turn_left()\n",
    "    \n",
    "def jump():\n",
    "    turn_left()\n",
    "    move()\n",
    "    turn_right()\n",
    "    move()\n",
    "    turn_right()\n",
    "    move()\n",
    "    turn_left()\n",
    "    \n",
    "MAX_HURDLES = 6\n",
    "hurdle = 0\n",
    "\n",
    "while hurdle < MAX_HURDLES:\n",
    "    move()\n",
    "    jump()\n",
    "    hurdle += 1"
   ]
  },
  {
   "cell_type": "markdown",
   "id": "f2f7b64f",
   "metadata": {},
   "source": [
    "**------------------------------------------------------------------------------------------------------------------------------------------------------------------------------------------------------------------**"
   ]
  },
  {
   "cell_type": "markdown",
   "id": "c5151a4a",
   "metadata": {},
   "source": [
    "### Quiz 6"
   ]
  },
  {
   "cell_type": "markdown",
   "id": "060b96ab",
   "metadata": {},
   "source": [
    "1. Which version of code will produce an Indentation Error when it is run?"
   ]
  },
  {
   "cell_type": "code",
   "execution_count": 9,
   "id": "5c7a35a5",
   "metadata": {},
   "outputs": [
    {
     "ename": "IndentationError",
     "evalue": "expected an indented block (1112650084.py, line 2)",
     "output_type": "error",
     "traceback": [
      "\u001b[1;36m  File \u001b[1;32m\"C:\\Users\\bened\\AppData\\Local\\Temp\\ipykernel_10948\\1112650084.py\"\u001b[1;36m, line \u001b[1;32m2\u001b[0m\n\u001b[1;33m    print(\"Hello\")\u001b[0m\n\u001b[1;37m    ^\u001b[0m\n\u001b[1;31mIndentationError\u001b[0m\u001b[1;31m:\u001b[0m expected an indented block\n"
     ]
    }
   ],
   "source": [
    "def my_function():\n",
    "print(\"Hello\")"
   ]
  },
  {
   "cell_type": "markdown",
   "id": "4f75a2e4",
   "metadata": {},
   "source": [
    "2. Which version of code will output \"This will run\"?"
   ]
  },
  {
   "cell_type": "code",
   "execution_count": 10,
   "id": "35a52784",
   "metadata": {},
   "outputs": [
    {
     "name": "stdout",
     "output_type": "stream",
     "text": [
      "This will run.\n"
     ]
    }
   ],
   "source": [
    "def my_function():\n",
    "    print(\"This will run.\")\n",
    "my_function()"
   ]
  },
  {
   "cell_type": "markdown",
   "id": "ba03a503",
   "metadata": {},
   "source": [
    "3. In which version of code, will you see \"This will run\" printed?"
   ]
  },
  {
   "cell_type": "code",
   "execution_count": 12,
   "id": "5ea2dd3b",
   "metadata": {},
   "outputs": [
    {
     "name": "stdout",
     "output_type": "stream",
     "text": [
      "This will run.\n"
     ]
    }
   ],
   "source": [
    "def my_function():\n",
    "    a = 3\n",
    "    if a > 2:\n",
    "        print(\"This will run.\")\n",
    "my_function()"
   ]
  },
  {
   "cell_type": "markdown",
   "id": "e4b01323",
   "metadata": {},
   "source": [
    "**------------------------------------------------------------------------------------------------------------------------------------------------------------------------------------------------------------------**"
   ]
  },
  {
   "cell_type": "markdown",
   "id": "77d6e230",
   "metadata": {},
   "source": [
    "#### While Loops"
   ]
  },
  {
   "cell_type": "code",
   "execution_count": null,
   "id": "a7a544f4",
   "metadata": {},
   "outputs": [],
   "source": [
    "while something_is_true:\n",
    "    # Do something repeatedly"
   ]
  },
  {
   "cell_type": "markdown",
   "id": "36a32fb1",
   "metadata": {},
   "source": [
    "**------------------------------------------------------------------------------------------------------------------------------------------------------------------------------------------------------------------**"
   ]
  },
  {
   "cell_type": "code",
   "execution_count": null,
   "id": "8fb2af59",
   "metadata": {},
   "outputs": [],
   "source": [
    "# Variable number of hurdles\n",
    "def turn_right():\n",
    "    turn_left()\n",
    "    turn_left()\n",
    "    turn_left()\n",
    "    \n",
    "def jump():\n",
    "    turn_left()\n",
    "    move()\n",
    "    turn_right()\n",
    "    move()\n",
    "    turn_right()\n",
    "    move()\n",
    "    turn_left()\n",
    "    \n",
    "while not at_goal():\n",
    "    move()\n",
    "    jump()"
   ]
  },
  {
   "cell_type": "code",
   "execution_count": null,
   "id": "acc73e18",
   "metadata": {},
   "outputs": [],
   "source": [
    "# Variable number and position of hurdles\n",
    "def turn_right():\n",
    "    turn_left()\n",
    "    turn_left()\n",
    "    turn_left()\n",
    "    \n",
    "def jump():\n",
    "    turn_left()\n",
    "    move()\n",
    "    turn_right()\n",
    "    move()\n",
    "    turn_right()\n",
    "    move()\n",
    "    turn_left()\n",
    "    \n",
    "# while not at_goal():\n",
    "#     while front_is_clear():\n",
    "#         move()\n",
    "#     jump()\n",
    "while not at_goal():\n",
    "    if wall_in_front():\n",
    "        jump()\n",
    "    else:\n",
    "        move()"
   ]
  },
  {
   "cell_type": "code",
   "execution_count": null,
   "id": "08dd9448",
   "metadata": {},
   "outputs": [],
   "source": [
    "# Variable hurdle heights"
   ]
  },
  {
   "cell_type": "code",
   "execution_count": null,
   "id": "cd180b86",
   "metadata": {},
   "outputs": [],
   "source": [
    "def turn_right():\n",
    "    turn_left()\n",
    "    turn_left()\n",
    "    turn_left()\n",
    "    \n",
    "def jump():\n",
    "    turn_left()\n",
    "    while not right_is_clear():\n",
    "        move()\n",
    "    turn_right()\n",
    "    move()\n",
    "    turn_right()\n",
    "    move()\n",
    "    while front_is_clear():\n",
    "        move()\n",
    "    turn_left()\n",
    "    \n",
    "while not at_goal():\n",
    "    if wall_in_front():\n",
    "        jump()\n",
    "    else:\n",
    "        move()"
   ]
  },
  {
   "cell_type": "markdown",
   "id": "edc93c85",
   "metadata": {},
   "source": [
    "**------------------------------------------------------------------------------------------------------------------------------------------------------------------------------------------------------------------**"
   ]
  },
  {
   "cell_type": "markdown",
   "id": "702053a9",
   "metadata": {},
   "source": [
    "### Project 6 - Escaping the Maze"
   ]
  },
  {
   "cell_type": "code",
   "execution_count": null,
   "id": "dfa22f61",
   "metadata": {},
   "outputs": [],
   "source": [
    "def turn_right():\n",
    "    turn_left()\n",
    "    turn_left()\n",
    "    turn_left()\n",
    "\n",
    "if front_is_clear() and right_is_clear():\n",
    "    move()\n",
    "turn_left()\n",
    "while not at_goal():\n",
    "    if right_is_clear():\n",
    "        turn_right()\n",
    "        move()\n",
    "    elif front_is_clear():\n",
    "        move()\n",
    "    else:\n",
    "        turn_left()"
   ]
  }
 ],
 "metadata": {
  "kernelspec": {
   "display_name": "Python 3 (ipykernel)",
   "language": "python",
   "name": "python3"
  },
  "language_info": {
   "codemirror_mode": {
    "name": "ipython",
    "version": 3
   },
   "file_extension": ".py",
   "mimetype": "text/x-python",
   "name": "python",
   "nbconvert_exporter": "python",
   "pygments_lexer": "ipython3",
   "version": "3.9.13"
  }
 },
 "nbformat": 4,
 "nbformat_minor": 5
}
