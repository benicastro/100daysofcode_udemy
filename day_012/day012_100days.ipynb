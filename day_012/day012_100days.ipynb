{
 "cells": [
  {
   "cell_type": "markdown",
   "id": "3d2fa2dd",
   "metadata": {},
   "source": [
    "### Section 12: Day 12 - Beginner - Scope & Number Guessing Game"
   ]
  },
  {
   "cell_type": "markdown",
   "id": "322aff73",
   "metadata": {},
   "source": [
    "**------------------------------------------------------------------------------------------------------------------------------------------------------------------------------------------------------------------**"
   ]
  },
  {
   "cell_type": "markdown",
   "id": "079bb3b8",
   "metadata": {},
   "source": [
    "##### Namespaces: Local vs. Global Scope"
   ]
  },
  {
   "cell_type": "code",
   "execution_count": 4,
   "id": "a62ce530",
   "metadata": {},
   "outputs": [
    {
     "name": "stdout",
     "output_type": "stream",
     "text": [
      "enemies inside function: 2\n",
      "enemies inside function: 1\n"
     ]
    }
   ],
   "source": [
    "enemies = 1\n",
    "def increase_enemies():\n",
    "    enemies = 2\n",
    "    print(f\"enemies inside function: {enemies}\")\n",
    "\n",
    "increase_enemies()\n",
    "print(f\"enemies inside function: {enemies}\")"
   ]
  },
  {
   "cell_type": "markdown",
   "id": "8ccbc568",
   "metadata": {},
   "source": [
    "- ***Local scopes*** exists within functions"
   ]
  },
  {
   "cell_type": "markdown",
   "id": "856e6e94",
   "metadata": {},
   "source": [
    "**------------------------------------------------------------------------------------------------------------------------------------------------------------------------------------------------------------------**"
   ]
  },
  {
   "cell_type": "markdown",
   "id": "c419cf42",
   "metadata": {},
   "source": [
    "### Quiz 9 - Scope Quiz"
   ]
  },
  {
   "cell_type": "markdown",
   "id": "b2c7cbe6",
   "metadata": {},
   "source": [
    "1. What will be printed in the console when the following code is run?"
   ]
  },
  {
   "cell_type": "code",
   "execution_count": 1,
   "id": "25f9d59e",
   "metadata": {},
   "outputs": [
    {
     "ename": "NameError",
     "evalue": "name 'a_variable' is not defined",
     "output_type": "error",
     "traceback": [
      "\u001b[1;31m---------------------------------------------------------------------------\u001b[0m",
      "\u001b[1;31mNameError\u001b[0m                                 Traceback (most recent call last)",
      "\u001b[1;32m~\\AppData\\Local\\Temp\\ipykernel_5232\\615173679.py\u001b[0m in \u001b[0;36m<module>\u001b[1;34m\u001b[0m\n\u001b[0;32m      4\u001b[0m \u001b[1;33m\u001b[0m\u001b[0m\n\u001b[0;32m      5\u001b[0m \u001b[0ma_function\u001b[0m\u001b[1;33m(\u001b[0m\u001b[1;36m10\u001b[0m\u001b[1;33m)\u001b[0m\u001b[1;33m\u001b[0m\u001b[1;33m\u001b[0m\u001b[0m\n\u001b[1;32m----> 6\u001b[1;33m \u001b[0mprint\u001b[0m\u001b[1;33m(\u001b[0m\u001b[0ma_variable\u001b[0m\u001b[1;33m)\u001b[0m\u001b[1;33m\u001b[0m\u001b[1;33m\u001b[0m\u001b[0m\n\u001b[0m",
      "\u001b[1;31mNameError\u001b[0m: name 'a_variable' is not defined"
     ]
    }
   ],
   "source": [
    "def a_function(a_parameter):\n",
    "    a_variable = 15\n",
    "    return a_parameter\n",
    " \n",
    "a_function(10)\n",
    "print(a_variable)"
   ]
  },
  {
   "cell_type": "markdown",
   "id": "24c76687",
   "metadata": {},
   "source": [
    "- It's trying to print a variable that is local to a_function() and is only available inside the function."
   ]
  },
  {
   "cell_type": "markdown",
   "id": "001777b7",
   "metadata": {},
   "source": [
    "2. What will be printed in the console when the code is run?"
   ]
  },
  {
   "cell_type": "code",
   "execution_count": 2,
   "id": "192789e8",
   "metadata": {},
   "outputs": [
    {
     "name": "stdout",
     "output_type": "stream",
     "text": [
      "50\n"
     ]
    }
   ],
   "source": [
    "i = 50\n",
    "def foo():\n",
    "    i = 100\n",
    "    return i\n",
    " \n",
    "foo()\n",
    "print(i)"
   ]
  },
  {
   "cell_type": "markdown",
   "id": "09adbec6",
   "metadata": {},
   "source": [
    "- The print statement is outside the function foo(). So it can't access the local variable i = 100. It only sees the global i, which is equal to 50."
   ]
  },
  {
   "cell_type": "markdown",
   "id": "112ba610",
   "metadata": {},
   "source": [
    "3. What will be printed in the console when the following code is run?"
   ]
  },
  {
   "cell_type": "code",
   "execution_count": 3,
   "id": "d7f69c83",
   "metadata": {},
   "outputs": [
    {
     "name": "stdout",
     "output_type": "stream",
     "text": [
      "16\n"
     ]
    }
   ],
   "source": [
    "def bar():\n",
    "    my_variable = 9\n",
    " \n",
    "    if 16 > 9:\n",
    "      my_variable = 16\n",
    " \n",
    "    print(my_variable)\n",
    " \n",
    "bar()"
   ]
  },
  {
   "cell_type": "markdown",
   "id": "400d7e92",
   "metadata": {},
   "source": [
    "- Remember that in Python there is no block scope. Inside a if/else/for/while code block is the same as outside it."
   ]
  },
  {
   "cell_type": "markdown",
   "id": "9010b950",
   "metadata": {},
   "source": [
    "**------------------------------------------------------------------------------------------------------------------------------------------------------------------------------------------------------------------**"
   ]
  },
  {
   "cell_type": "code",
   "execution_count": 1,
   "id": "35aa7566",
   "metadata": {},
   "outputs": [],
   "source": [
    "class Solution:\n",
    "    def sum(self, num1: int, num2: int) -> int:\n",
    "        return num1 + num2"
   ]
  },
  {
   "cell_type": "code",
   "execution_count": 2,
   "id": "e7b3ccec",
   "metadata": {},
   "outputs": [],
   "source": [
    "test = Solution()"
   ]
  },
  {
   "cell_type": "code",
   "execution_count": 3,
   "id": "0e17ebcf",
   "metadata": {},
   "outputs": [
    {
     "data": {
      "text/plain": [
       "13"
      ]
     },
     "execution_count": 3,
     "metadata": {},
     "output_type": "execute_result"
    }
   ],
   "source": [
    "test.sum(5, 8)"
   ]
  },
  {
   "cell_type": "markdown",
   "id": "a6f6a5d3",
   "metadata": {},
   "source": [
    "**------------------------------------------------------------------------------------------------------------------------------------------------------------------------------------------------------------------**"
   ]
  },
  {
   "cell_type": "markdown",
   "id": "0e3b6d3a",
   "metadata": {},
   "source": [
    "### Final Project: The Number Guessing Game"
   ]
  },
  {
   "cell_type": "code",
   "execution_count": null,
   "id": "6d7dd2e1",
   "metadata": {},
   "outputs": [],
   "source": [
    "\"\"\"Number Guessing Game, by Benedict Castro | benedict.castro11@gmail.com\n",
    "A digital number guessing game.\n",
    "Tags: game, logic\"\"\"\n",
    "\n",
    "# Import needed modules\n",
    "import proj_art\n",
    "import random\n",
    "import os\n",
    "\n",
    "\n",
    "def main():\n",
    "    print(proj_art.logo)\n",
    "\n",
    "    def choose_difficulty():\n",
    "        \"\"\"This function asks the user for the game difficulty. It returns the number of attempts the player can guess depending on the\n",
    "        difficulty, 10 for 'easy', or 5 for 'hard'.\"\"\"\n",
    "        difficulty = ''\n",
    "        while difficulty not in [\"easy\", \"hard\"]:\n",
    "            difficulty = input('Choose a difficulty. Type \"easy\" or \"hard\": ')\n",
    "            if difficulty.lower() == \"easy\":\n",
    "                return 10\n",
    "            elif difficulty.lower() == \"hard\":\n",
    "                return 5\n",
    "            else:\n",
    "                print(\"Please provide a valid answer among the options.\")\n",
    "\n",
    "    def get_number():\n",
    "        \"\"\"This function returns a random number to be guessed by the user\"\"\"\n",
    "        return random.randint(1, 100)\n",
    "\n",
    "    def compare_guess(guess, answer, attempts):\n",
    "        \"\"\"This function compares the player's guess to the correct number.\n",
    "        It returns a number to be deducted to the number of attempts.\"\"\"\n",
    "        if guess == answer:\n",
    "            print(\"You've got the right number. You won!\")\n",
    "            return 0\n",
    "        elif guess > answer:\n",
    "            print(\"Too high!\")\n",
    "            if attempts > 1:\n",
    "                print(\"Guess again.\")\n",
    "            return 1\n",
    "        else:\n",
    "            print(\"Too low!\")\n",
    "            if attempts > 1:\n",
    "                print(\"Guess again.\")\n",
    "            return 1\n",
    "\n",
    "    run_game = True\n",
    "    while run_game:  # Main game loop\n",
    "        print(\"I'm thinking of a number between 1 and 100.\")\n",
    "        number_in_mind = get_number()  # Get number to be guessed by the player\n",
    "        attempt_count = choose_difficulty()  # Ask user for game difficulty\n",
    "\n",
    "        number_guess =[]  # Create a variable to store the player's guesses\n",
    "        while (attempt_count != 0) or (number_in_mind not in number_guess):\n",
    "            print(f\"You have {attempt_count} attempt(s) remaining to guess the number.\")  # Display the number of attempts of the player\n",
    "            player_guess = int(input(\"Make a guess: \"))  # Ask player to guess the number\n",
    "            number_guess.append(player_guess)\n",
    "\n",
    "            # Compare the player's guess to the right number\n",
    "            guess_result = compare_guess(player_guess, number_in_mind, attempt_count)\n",
    "            attempt_count -= guess_result\n",
    "            if guess_result == 0:\n",
    "                break  # The player already won the game\n",
    "\n",
    "            # Print the player's guesses so far, for reference\n",
    "            if attempt_count == 0:\n",
    "                print(f\"The answer is {number_in_mind}. You lose!\")\n",
    "                break\n",
    "            else:\n",
    "                print(f\"Your guesses: {number_guess}\")\n",
    "\n",
    "        # Ask user if they want to play again\n",
    "        if input('Do you want to play again? Type \"Y\" or \"N\": ').upper() != \"Y\":\n",
    "            print(\"Thanks for playing! Have a nice day\")\n",
    "            run_game = False\n",
    "        else:\n",
    "            os.system('cls' if os.name == 'nt' else 'clear')\n",
    "\n",
    "\n",
    "# If game is run (instead of imported), then run the game\n",
    "if __name__ == \"__main__\":\n",
    "    main()"
   ]
  },
  {
   "cell_type": "code",
   "execution_count": null,
   "id": "8812e1c1",
   "metadata": {},
   "outputs": [],
   "source": [
    "from random import randint\n",
    "from art import logo\n",
    "\n",
    "EASY_LEVEL_TURNS = 10\n",
    "HARD_LEVEL_TURNS = 5\n",
    "\n",
    "#Function to check user's guess against actual answer.\n",
    "def check_answer(guess, answer, turns):\n",
    "  \"\"\"checks answer against guess. Returns the number of turns remaining.\"\"\"\n",
    "  if guess > answer:\n",
    "    print(\"Too high.\")\n",
    "    return turns - 1\n",
    "  elif guess < answer:\n",
    "    print(\"Too low.\")\n",
    "    return turns - 1\n",
    "  else:\n",
    "    print(f\"You got it! The answer was {answer}.\")\n",
    "\n",
    "#Make function to set difficulty.\n",
    "def set_difficulty():\n",
    "  level = input(\"Choose a difficulty. Type 'easy' or 'hard': \")\n",
    "  if level == \"easy\":\n",
    "    return EASY_LEVEL_TURNS\n",
    "  else:\n",
    "    return HARD_LEVEL_TURNS\n",
    "\n",
    "def game():\n",
    "  print(logo)\n",
    "  #Choosing a random number between 1 and 100.\n",
    "  print(\"Welcome to the Number Guessing Game!\")\n",
    "  print(\"I'm thinking of a number between 1 and 100.\")\n",
    "  answer = randint(1, 100)\n",
    "  print(f\"Pssst, the correct answer is {answer}\") \n",
    "\n",
    "  turns = set_difficulty()\n",
    "  #Repeat the guessing functionality if they get it wrong.\n",
    "  guess = 0\n",
    "  while guess != answer:\n",
    "    print(f\"You have {turns} attempts remaining to guess the number.\")\n",
    "\n",
    "    #Let the user guess a number.\n",
    "    guess = int(input(\"Make a guess: \"))\n",
    "\n",
    "    #Track the number of turns and reduce by 1 if they get it wrong.\n",
    "    turns = check_answer(guess, answer, turns)\n",
    "    if turns == 0:\n",
    "      print(\"You've run out of guesses, you lose.\")\n",
    "      return\n",
    "    elif guess != answer:\n",
    "      print(\"Guess again.\")\n",
    "\n",
    "\n",
    "game()"
   ]
  }
 ],
 "metadata": {
  "kernelspec": {
   "display_name": "Python 3 (ipykernel)",
   "language": "python",
   "name": "python3"
  },
  "language_info": {
   "codemirror_mode": {
    "name": "ipython",
    "version": 3
   },
   "file_extension": ".py",
   "mimetype": "text/x-python",
   "name": "python",
   "nbconvert_exporter": "python",
   "pygments_lexer": "ipython3",
   "version": "3.9.13"
  }
 },
 "nbformat": 4,
 "nbformat_minor": 5
}
