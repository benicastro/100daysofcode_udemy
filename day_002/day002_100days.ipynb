{
 "cells": [
  {
   "cell_type": "markdown",
   "id": "b7e33165",
   "metadata": {},
   "source": [
    "## Section 2: Day 2 - Beginner - Understanding Data Types and How to Manipulate Strings"
   ]
  },
  {
   "cell_type": "markdown",
   "id": "322aff73",
   "metadata": {},
   "source": [
    "**------------------------------------------------------------------------------------------------------------------------------------------------------------------------------------------------------------------**"
   ]
  },
  {
   "cell_type": "code",
   "execution_count": 8,
   "id": "9e44d7ea",
   "metadata": {},
   "outputs": [
    {
     "name": "stdout",
     "output_type": "stream",
     "text": [
      "5\n"
     ]
    }
   ],
   "source": [
    "print(len(\"Hello\"))"
   ]
  },
  {
   "cell_type": "code",
   "execution_count": 9,
   "id": "a06f5909",
   "metadata": {},
   "outputs": [
    {
     "ename": "TypeError",
     "evalue": "object of type 'int' has no len()",
     "output_type": "error",
     "traceback": [
      "\u001b[1;31m---------------------------------------------------------------------------\u001b[0m",
      "\u001b[1;31mTypeError\u001b[0m                                 Traceback (most recent call last)",
      "\u001b[1;32m~\\AppData\\Local\\Temp\\ipykernel_19704\\1876933067.py\u001b[0m in \u001b[0;36m<module>\u001b[1;34m\u001b[0m\n\u001b[1;32m----> 1\u001b[1;33m \u001b[0mprint\u001b[0m\u001b[1;33m(\u001b[0m\u001b[0mlen\u001b[0m\u001b[1;33m(\u001b[0m\u001b[1;36m12345\u001b[0m\u001b[1;33m)\u001b[0m\u001b[1;33m)\u001b[0m\u001b[1;33m\u001b[0m\u001b[1;33m\u001b[0m\u001b[0m\n\u001b[0m",
      "\u001b[1;31mTypeError\u001b[0m: object of type 'int' has no len()"
     ]
    }
   ],
   "source": [
    "print(len(12345))"
   ]
  },
  {
   "cell_type": "markdown",
   "id": "e9c8daf0",
   "metadata": {},
   "source": [
    "- String\n",
    "- Integer\n",
    "- Boolean\n",
    "- Float"
   ]
  },
  {
   "cell_type": "code",
   "execution_count": 12,
   "id": "6838ac19",
   "metadata": {},
   "outputs": [
    {
     "data": {
      "text/plain": [
       "'H'"
      ]
     },
     "execution_count": 12,
     "metadata": {},
     "output_type": "execute_result"
    }
   ],
   "source": [
    "\"Hello\"[0]"
   ]
  },
  {
   "cell_type": "markdown",
   "id": "65f7ec06",
   "metadata": {},
   "source": [
    "- This method of pulling out a particular element from a string is called ***subscripting***."
   ]
  },
  {
   "cell_type": "markdown",
   "id": "7da0e22e",
   "metadata": {},
   "source": [
    "- Integer - lingo for whole numbers"
   ]
  },
  {
   "cell_type": "code",
   "execution_count": 13,
   "id": "cfaa7e96",
   "metadata": {},
   "outputs": [
    {
     "data": {
      "text/plain": [
       "123457"
      ]
     },
     "execution_count": 13,
     "metadata": {},
     "output_type": "execute_result"
    }
   ],
   "source": [
    "123_456 + 1"
   ]
  },
  {
   "cell_type": "markdown",
   "id": "3849af4e",
   "metadata": {},
   "source": [
    "- Float - numbers with decimal places"
   ]
  },
  {
   "cell_type": "code",
   "execution_count": 14,
   "id": "b8cd683c",
   "metadata": {},
   "outputs": [
    {
     "data": {
      "text/plain": [
       "float"
      ]
     },
     "execution_count": 14,
     "metadata": {},
     "output_type": "execute_result"
    }
   ],
   "source": [
    "type(3.14159)"
   ]
  },
  {
   "cell_type": "markdown",
   "id": "923b04ef",
   "metadata": {},
   "source": [
    "- Boolean - only True or False values"
   ]
  },
  {
   "cell_type": "markdown",
   "id": "a760c713",
   "metadata": {},
   "source": [
    "**------------------------------------------------------------------------------------------------------------------------------------------------------------------------------------------------------------------**"
   ]
  },
  {
   "cell_type": "markdown",
   "id": "f4873b02",
   "metadata": {},
   "source": [
    "### Quiz 3: Data Types Quiz"
   ]
  },
  {
   "cell_type": "markdown",
   "id": "28c91870",
   "metadata": {},
   "source": [
    "1. \"False\" is a String, not a boolean. Booleans are either True or False. Booleans don't have quotation marks around them, otherwise it would turn them into a String. So it should be bool = False"
   ]
  },
  {
   "cell_type": "markdown",
   "id": "f54c8557",
   "metadata": {},
   "source": [
    "2. mystery = 734_529.678 ---> Float\n",
    "- Even though the underscore is there to make the large number more readable, because there is a decimal point it is still a Float. If you printed the number in your code, it would be stripped down to 734529.678"
   ]
  },
  {
   "cell_type": "markdown",
   "id": "06563e1a",
   "metadata": {},
   "source": [
    "3. I've put a spell on you. You are now a computer. If I give you the following code, what will you print out?"
   ]
  },
  {
   "cell_type": "code",
   "execution_count": 16,
   "id": "54eb4bc1",
   "metadata": {},
   "outputs": [
    {
     "name": "stdout",
     "output_type": "stream",
     "text": [
      "yo\n"
     ]
    }
   ],
   "source": [
    "street_name = \"Abbey Road\"\n",
    "print(street_name[4] + street_name[7])"
   ]
  },
  {
   "cell_type": "markdown",
   "id": "ea926a71",
   "metadata": {},
   "source": [
    "**------------------------------------------------------------------------------------------------------------------------------------------------------------------------------------------------------------------**"
   ]
  },
  {
   "cell_type": "markdown",
   "id": "fac9383e",
   "metadata": {},
   "source": [
    "##### Type Error, Type Checking, and Type Conversion"
   ]
  },
  {
   "cell_type": "code",
   "execution_count": 17,
   "id": "4eaeef88",
   "metadata": {},
   "outputs": [
    {
     "name": "stdout",
     "output_type": "stream",
     "text": [
      "What is your name? Benedict\n"
     ]
    },
    {
     "ename": "TypeError",
     "evalue": "can only concatenate str (not \"int\") to str",
     "output_type": "error",
     "traceback": [
      "\u001b[1;31m---------------------------------------------------------------------------\u001b[0m",
      "\u001b[1;31mTypeError\u001b[0m                                 Traceback (most recent call last)",
      "\u001b[1;32m~\\AppData\\Local\\Temp\\ipykernel_19704\\1550143014.py\u001b[0m in \u001b[0;36m<module>\u001b[1;34m\u001b[0m\n\u001b[0;32m      1\u001b[0m \u001b[0mnum_char\u001b[0m \u001b[1;33m=\u001b[0m \u001b[0mlen\u001b[0m\u001b[1;33m(\u001b[0m\u001b[0minput\u001b[0m\u001b[1;33m(\u001b[0m\u001b[1;34m\"What is your name? \"\u001b[0m\u001b[1;33m)\u001b[0m\u001b[1;33m)\u001b[0m\u001b[1;33m\u001b[0m\u001b[1;33m\u001b[0m\u001b[0m\n\u001b[1;32m----> 2\u001b[1;33m \u001b[0mprint\u001b[0m\u001b[1;33m(\u001b[0m\u001b[1;34m\"Your name has \"\u001b[0m \u001b[1;33m+\u001b[0m \u001b[0mnum_char\u001b[0m \u001b[1;33m+\u001b[0m \u001b[1;34m\" characters.\"\u001b[0m\u001b[1;33m)\u001b[0m\u001b[1;33m\u001b[0m\u001b[1;33m\u001b[0m\u001b[0m\n\u001b[0m",
      "\u001b[1;31mTypeError\u001b[0m: can only concatenate str (not \"int\") to str"
     ]
    }
   ],
   "source": [
    "num_char = len(input(\"What is your name? \"))\n",
    "print(\"Your name has \" + num_char + \" characters.\")"
   ]
  },
  {
   "cell_type": "code",
   "execution_count": 18,
   "id": "e4bd36c6",
   "metadata": {},
   "outputs": [
    {
     "data": {
      "text/plain": [
       "int"
      ]
     },
     "execution_count": 18,
     "metadata": {},
     "output_type": "execute_result"
    }
   ],
   "source": [
    "type(num_char)"
   ]
  },
  {
   "cell_type": "markdown",
   "id": "93bcf8f6",
   "metadata": {},
   "source": [
    "- ***Type Casting*** is a method where we change a piece of data from one particular data type to another."
   ]
  },
  {
   "cell_type": "code",
   "execution_count": 19,
   "id": "fbeb67ed",
   "metadata": {},
   "outputs": [
    {
     "name": "stdout",
     "output_type": "stream",
     "text": [
      "Your name has 8 characters.\n"
     ]
    }
   ],
   "source": [
    "new_num_char = str(num_char)\n",
    "print(\"Your name has \" + new_num_char + \" characters.\")"
   ]
  },
  {
   "cell_type": "code",
   "execution_count": 20,
   "id": "1158707d",
   "metadata": {},
   "outputs": [
    {
     "name": "stdout",
     "output_type": "stream",
     "text": [
      "170.5\n"
     ]
    }
   ],
   "source": [
    "print(70 + float(\"100.5\"))"
   ]
  },
  {
   "cell_type": "markdown",
   "id": "73e9af1b",
   "metadata": {},
   "source": [
    "**------------------------------------------------------------------------------------------------------------------------------------------------------------------------------------------------------------------**"
   ]
  },
  {
   "cell_type": "markdown",
   "id": "bfa06dae",
   "metadata": {},
   "source": [
    "### Exercise 1 - Data Types"
   ]
  },
  {
   "cell_type": "markdown",
   "id": "f448e2d4",
   "metadata": {},
   "source": [
    "- Write a program that adds the digits in a 2 digit number. e.g. if the input was 35, then the output should be 3 + 5 = 8"
   ]
  },
  {
   "cell_type": "code",
   "execution_count": 21,
   "id": "6d3741c7",
   "metadata": {},
   "outputs": [],
   "source": [
    "def get_digits_sum(n):\n",
    "    # This function adds the digits of a number and outputs the sum\n",
    "    n_str = str(n)\n",
    "#     n_len = len(n_str)\n",
    "    sum = 0\n",
    "    for digit in n_str:\n",
    "        sum += int(digit)\n",
    "    return sum"
   ]
  },
  {
   "cell_type": "code",
   "execution_count": 25,
   "id": "c104fefd",
   "metadata": {},
   "outputs": [
    {
     "name": "stdout",
     "output_type": "stream",
     "text": [
      "Please provide a number: 111\n"
     ]
    },
    {
     "data": {
      "text/plain": [
       "3"
      ]
     },
     "execution_count": 25,
     "metadata": {},
     "output_type": "execute_result"
    }
   ],
   "source": [
    "n = int(input(\"Please provide a number: \"))\n",
    "get_digits_sum(n)"
   ]
  },
  {
   "cell_type": "markdown",
   "id": "d589a317",
   "metadata": {},
   "source": [
    "**------------------------------------------------------------------------------------------------------------------------------------------------------------------------------------------------------------------**"
   ]
  },
  {
   "cell_type": "markdown",
   "id": "1f16b0c1",
   "metadata": {},
   "source": [
    "### Exercise 2 - BMI Calculator"
   ]
  },
  {
   "cell_type": "markdown",
   "id": "b9b230ac",
   "metadata": {},
   "source": [
    "- Write a program that calculates the Body Mass Index (BMI) from a user's weight and height.\n",
    "\n",
    "- The BMI is a measure of someone's weight taking into account their height. e.g. If a tall person and a short person both weigh the same amount, the short person is usually more overweight.\n",
    "\n",
    "- The BMI is calculated by dividing a person's weight (in kg) by the square of their height (in m):\n",
    "\n",
    "$$\n",
    "BMI = \\frac{weight (kg)}{height^2 (m^2)}\n",
    "$$"
   ]
  },
  {
   "cell_type": "code",
   "execution_count": 30,
   "id": "45c25a7d",
   "metadata": {},
   "outputs": [],
   "source": [
    "def get_bmi(weight, height):\n",
    "    # This functions computes for the BMI using the user's weight and height info\n",
    "    bmi = weight / height**2\n",
    "    return bmi"
   ]
  },
  {
   "cell_type": "code",
   "execution_count": 38,
   "id": "ccbec72e",
   "metadata": {},
   "outputs": [
    {
     "name": "stdout",
     "output_type": "stream",
     "text": [
      "Please provide weight (in kg): 80\n",
      "Please provide height (in m): 1.75\n",
      "26.0\n"
     ]
    }
   ],
   "source": [
    "weight = float(input(\"Please provide weight (in kg): \"))\n",
    "height = float(input(\"Please provide height (in m): \"))\n",
    "bmi = get_bmi(weight, height)\n",
    "print(f\"{bmi:.1f}\")"
   ]
  },
  {
   "cell_type": "markdown",
   "id": "ac3c642f",
   "metadata": {},
   "source": [
    "**------------------------------------------------------------------------------------------------------------------------------------------------------------------------------------------------------------------**"
   ]
  },
  {
   "cell_type": "markdown",
   "id": "06c1a9b2",
   "metadata": {},
   "source": [
    "##### Number Manipulation and F Strings"
   ]
  },
  {
   "cell_type": "code",
   "execution_count": 39,
   "id": "46186522",
   "metadata": {},
   "outputs": [
    {
     "name": "stdout",
     "output_type": "stream",
     "text": [
      "3\n"
     ]
    }
   ],
   "source": [
    "print(round(8 / 3))"
   ]
  },
  {
   "cell_type": "code",
   "execution_count": 41,
   "id": "28b3a7ee",
   "metadata": {},
   "outputs": [
    {
     "name": "stdout",
     "output_type": "stream",
     "text": [
      "2.67\n"
     ]
    }
   ],
   "source": [
    "print(round(8 / 3, 2))"
   ]
  },
  {
   "cell_type": "code",
   "execution_count": 42,
   "id": "178390fa",
   "metadata": {},
   "outputs": [
    {
     "name": "stdout",
     "output_type": "stream",
     "text": [
      "2\n"
     ]
    }
   ],
   "source": [
    "print(round(8 // 3))"
   ]
  },
  {
   "cell_type": "code",
   "execution_count": 43,
   "id": "1804d811",
   "metadata": {},
   "outputs": [
    {
     "name": "stdout",
     "output_type": "stream",
     "text": [
      "Your score is 100!\n"
     ]
    }
   ],
   "source": [
    "score = 100\n",
    "print(f\"Your score is {score}!\")"
   ]
  },
  {
   "cell_type": "markdown",
   "id": "b252bed2",
   "metadata": {},
   "source": [
    "**------------------------------------------------------------------------------------------------------------------------------------------------------------------------------------------------------------------**"
   ]
  },
  {
   "cell_type": "markdown",
   "id": "7abb1167",
   "metadata": {},
   "source": [
    "### Exercise 3 - Life in Weeks"
   ]
  },
  {
   "cell_type": "markdown",
   "id": "768c6f60",
   "metadata": {},
   "source": [
    "- https://waitbutwhy.com/2014/05/life-weeks.html\n",
    "- Create a program using maths and f-Strings that tells us how many days, weeks, months we have left if we live until 90 years old.\n",
    "- It will take your current age as the input and output a message with our time left in this format:\n",
    "\n",
    "<center> You have x days, y weeks, and z months left. </center>\n",
    "\n",
    "- Where x, y and z are replaced with the actual calculated numbers."
   ]
  },
  {
   "cell_type": "code",
   "execution_count": 48,
   "id": "62b197dd",
   "metadata": {},
   "outputs": [],
   "source": [
    "def get_time_left(age):\n",
    "    # This function takes in the user's age and converts the remaining years (if we live until 90 years old) into days, \n",
    "    # weeks, and months.\n",
    "    CUTOFF_AGE = 90\n",
    "    years_left = CUTOFF_AGE - age\n",
    "    # Convert years into months, weeks, and days\n",
    "    months = years_left * 12\n",
    "    weeks = years_left * 54\n",
    "    days = years_left * 365\n",
    "    return months, weeks, days"
   ]
  },
  {
   "cell_type": "code",
   "execution_count": 49,
   "id": "a93997fe",
   "metadata": {},
   "outputs": [
    {
     "name": "stdout",
     "output_type": "stream",
     "text": [
      "Please provide age: 56\n",
      "You have 12410 days, 1836 weeks, 408 months left.\n"
     ]
    }
   ],
   "source": [
    "age = int(input(\"Please provide age: \"))\n",
    "months, weeks, days = get_time_left(age)\n",
    "print(f\"You have {days} days, {weeks} weeks, {months} months left.\")"
   ]
  },
  {
   "cell_type": "markdown",
   "id": "cb64e400",
   "metadata": {},
   "source": [
    "**------------------------------------------------------------------------------------------------------------------------------------------------------------------------------------------------------------------**"
   ]
  },
  {
   "cell_type": "markdown",
   "id": "d92658df",
   "metadata": {},
   "source": [
    "### Quiz 4: Mathematical Operations Quiz"
   ]
  },
  {
   "cell_type": "markdown",
   "id": "8e6b1af0",
   "metadata": {},
   "source": [
    "1. You are a computer. What will this line of code print?"
   ]
  },
  {
   "cell_type": "code",
   "execution_count": 50,
   "id": "488e614b",
   "metadata": {},
   "outputs": [
    {
     "name": "stdout",
     "output_type": "stream",
     "text": [
      "6.0\n"
     ]
    }
   ],
   "source": [
    "print(6 + 4 / 2 - (1 * 2))"
   ]
  },
  {
   "cell_type": "markdown",
   "id": "e9bc03e4",
   "metadata": {},
   "source": [
    "2. What is the data type of the result of the variable a in the following line of code:"
   ]
  },
  {
   "cell_type": "code",
   "execution_count": 52,
   "id": "1f231d48",
   "metadata": {},
   "outputs": [
    {
     "data": {
      "text/plain": [
       "float"
      ]
     },
     "execution_count": 52,
     "metadata": {},
     "output_type": "execute_result"
    }
   ],
   "source": [
    "a = int(\"5\") / int(2.7)\n",
    "type(a)"
   ]
  },
  {
   "cell_type": "markdown",
   "id": "1b259044",
   "metadata": {},
   "source": [
    "3. Which of these lines of code will give you an error?"
   ]
  },
  {
   "cell_type": "code",
   "execution_count": 55,
   "id": "7142ad23",
   "metadata": {},
   "outputs": [
    {
     "ename": "TypeError",
     "evalue": "can only concatenate str (not \"int\") to str",
     "output_type": "error",
     "traceback": [
      "\u001b[1;31m---------------------------------------------------------------------------\u001b[0m",
      "\u001b[1;31mTypeError\u001b[0m                                 Traceback (most recent call last)",
      "\u001b[1;32m~\\AppData\\Local\\Temp\\ipykernel_19704\\1325296711.py\u001b[0m in \u001b[0;36m<module>\u001b[1;34m\u001b[0m\n\u001b[0;32m      1\u001b[0m \u001b[0mage\u001b[0m \u001b[1;33m=\u001b[0m \u001b[1;36m12\u001b[0m\u001b[1;33m\u001b[0m\u001b[1;33m\u001b[0m\u001b[0m\n\u001b[1;32m----> 2\u001b[1;33m \u001b[0mprint\u001b[0m\u001b[1;33m(\u001b[0m\u001b[1;34m\"You are \"\u001b[0m \u001b[1;33m+\u001b[0m \u001b[0mage\u001b[0m \u001b[1;33m+\u001b[0m \u001b[1;34m\" years old\"\u001b[0m\u001b[1;33m)\u001b[0m\u001b[1;33m\u001b[0m\u001b[1;33m\u001b[0m\u001b[0m\n\u001b[0m",
      "\u001b[1;31mTypeError\u001b[0m: can only concatenate str (not \"int\") to str"
     ]
    }
   ],
   "source": [
    "age = 12\n",
    "print(\"You are \" + age + \" years old\")"
   ]
  },
  {
   "cell_type": "markdown",
   "id": "26ea1f6a",
   "metadata": {},
   "source": [
    "### Project 2 - Tip Calculator"
   ]
  },
  {
   "cell_type": "code",
   "execution_count": 56,
   "id": "106a5559",
   "metadata": {},
   "outputs": [
    {
     "name": "stdout",
     "output_type": "stream",
     "text": [
      "Welcome to the Tip Calculator!\n"
     ]
    }
   ],
   "source": [
    "print(\"Welcome to the Tip Calculator!\")\n",
    "\n",
    "def calculate_tip(total_cost, num_people, tip_percentage):\n",
    "    # This function calculates the share of a single individual from the total bill cost including the tip amount\n",
    "    # Calculate the amount to be paid by each person\n",
    "    person_share = total_cost / num_people\n",
    "    # Add corresponding tip amount\n",
    "    person_share *= 1 + tip_percentage/100\n",
    "    return person_share"
   ]
  },
  {
   "cell_type": "code",
   "execution_count": 57,
   "id": "4aa42fc7",
   "metadata": {
    "scrolled": true
   },
   "outputs": [
    {
     "name": "stdout",
     "output_type": "stream",
     "text": [
      "Please provide total bill cost: $150\n",
      "How many people should share the expense?: 5\n",
      "Please provide the percentage tip agreed upon: 12\n",
      "Each individual should pay: $33.60\n"
     ]
    }
   ],
   "source": [
    "# Ask user to provide info about the bill\n",
    "total_cost = float(input(\"Please provide total bill cost: $\"))\n",
    "num_people = int(input(\"How many people should share the expense?: \"))\n",
    "tip_percentage = int(input(\"Please provide the percentage tip agreed upon: \"))\n",
    "\n",
    "print(f\"Each individual should pay: ${calculate_tip(total_cost, num_people, tip_percentage):.2f}\")"
   ]
  }
 ],
 "metadata": {
  "kernelspec": {
   "display_name": "Python 3 (ipykernel)",
   "language": "python",
   "name": "python3"
  },
  "language_info": {
   "codemirror_mode": {
    "name": "ipython",
    "version": 3
   },
   "file_extension": ".py",
   "mimetype": "text/x-python",
   "name": "python",
   "nbconvert_exporter": "python",
   "pygments_lexer": "ipython3",
   "version": "3.9.13"
  }
 },
 "nbformat": 4,
 "nbformat_minor": 5
}
