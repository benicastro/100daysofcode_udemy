{
 "cells": [
  {
   "cell_type": "markdown",
   "id": "208145a2",
   "metadata": {},
   "source": [
    "### Section 17: Day 17 - Intermediate - The Quiz Project & the Benefits of OOP"
   ]
  },
  {
   "cell_type": "markdown",
   "id": "0b8c8119",
   "metadata": {},
   "source": [
    "**------------------------------------------------------------------------------------------------------------------------------------------------------------------------------------------------------------------**"
   ]
  },
  {
   "cell_type": "code",
   "execution_count": 1,
   "id": "6df01531",
   "metadata": {},
   "outputs": [],
   "source": [
    "class User:  # Pascal Case\n",
    "    pass"
   ]
  },
  {
   "cell_type": "code",
   "execution_count": 2,
   "id": "57592bfc",
   "metadata": {},
   "outputs": [],
   "source": [
    "user_1 = User()\n",
    "user_1.id = \"001\"\n",
    "user_1.username = \"astroc\""
   ]
  },
  {
   "cell_type": "code",
   "execution_count": 3,
   "id": "95f5b1d1",
   "metadata": {},
   "outputs": [
    {
     "name": "stdout",
     "output_type": "stream",
     "text": [
      "astroc\n"
     ]
    }
   ],
   "source": [
    "print(user_1.username)"
   ]
  },
  {
   "cell_type": "markdown",
   "id": "57e2cee1",
   "metadata": {},
   "source": [
    "- This is prone to error."
   ]
  },
  {
   "cell_type": "markdown",
   "id": "0af903c6",
   "metadata": {},
   "source": [
    "- We need a constructor. A **constructor** is part of the blueprint that allows us to specify what should happen when our object is being constructed."
   ]
  },
  {
   "cell_type": "markdown",
   "id": "597373f5",
   "metadata": {},
   "source": [
    "- This is also called as **initializing** an object."
   ]
  },
  {
   "cell_type": "code",
   "execution_count": 4,
   "id": "d21c0982",
   "metadata": {},
   "outputs": [],
   "source": [
    "class Car:\n",
    "    def __init__(self):\n",
    "        # Initialize attributes\n",
    "        pass"
   ]
  },
  {
   "cell_type": "code",
   "execution_count": 5,
   "id": "dc9e9421",
   "metadata": {},
   "outputs": [],
   "source": [
    "class User:\n",
    "    \n",
    "    def __init__(self):\n",
    "        print(\"new user being created...\")"
   ]
  },
  {
   "cell_type": "code",
   "execution_count": 10,
   "id": "ef7b9491",
   "metadata": {},
   "outputs": [],
   "source": [
    "class User:\n",
    "    def __init__(self, user_id, username):\n",
    "        self.id = user_id\n",
    "        self.username = username\n",
    "        self.followers = 0"
   ]
  },
  {
   "cell_type": "code",
   "execution_count": 12,
   "id": "bd9ae165",
   "metadata": {},
   "outputs": [
    {
     "name": "stdout",
     "output_type": "stream",
     "text": [
      "astroc\n"
     ]
    }
   ],
   "source": [
    "user_1 = User(\"001\", \"astroc\")\n",
    "print(user_1.username)"
   ]
  },
  {
   "cell_type": "code",
   "execution_count": 5,
   "id": "40ed049c",
   "metadata": {},
   "outputs": [],
   "source": [
    "# Adding methods\n",
    "\n",
    "class User:\n",
    "    \n",
    "    def __init__(self, user_id, username):\n",
    "        self.id = user_id\n",
    "        self.username = username\n",
    "        self.followers = 0\n",
    "        self.following = 0\n",
    "    \n",
    "    def follow(self, user):\n",
    "        user.followers += 1\n",
    "        self.following += 1\n",
    "        "
   ]
  },
  {
   "cell_type": "code",
   "execution_count": 6,
   "id": "0d5ee243",
   "metadata": {},
   "outputs": [],
   "source": [
    "user_1 = User(\"001\", \"milytoni\")\n",
    "user_2 = User(\"002\", \"emi\")"
   ]
  },
  {
   "cell_type": "code",
   "execution_count": 7,
   "id": "c0c66033",
   "metadata": {},
   "outputs": [
    {
     "name": "stdout",
     "output_type": "stream",
     "text": [
      "1\n",
      "0\n",
      "0\n",
      "1\n"
     ]
    }
   ],
   "source": [
    "user_1.follow(user_2)\n",
    "\n",
    "print(user_1.following)\n",
    "print(user_1.followers)\n",
    "print(user_2.following)\n",
    "print(user_2.followers)"
   ]
  },
  {
   "cell_type": "markdown",
   "id": "04ced4e5",
   "metadata": {},
   "source": [
    "**------------------------------------------------------------------------------------------------------------------------------------------------------------------------------------------------------------------**"
   ]
  },
  {
   "cell_type": "markdown",
   "id": "34a2b8c9",
   "metadata": {},
   "source": [
    "### Project 17 - The Quiz Project"
   ]
  },
  {
   "cell_type": "code",
   "execution_count": null,
   "id": "6cad321f",
   "metadata": {},
   "outputs": [],
   "source": [
    "\"\"\"\n",
    "The Quiz Game by Benedict Castro | benedict.zcastro@gmail.com\n",
    "\"\"\"\n",
    "\n",
    "# Import needed modules\n",
    "from question_model import Question\n",
    "from data import question_data\n",
    "from quiz_brain import QuizBrain\n",
    "import random\n",
    "\n",
    "\n",
    "def main():\n",
    "    \"\"\"\n",
    "    The Quiz Game\n",
    "    by Benedict Castro | benedict.zcastro@gmail.com\n",
    "    \"\"\"\n",
    "\n",
    "    play_again = True\n",
    "    while play_again:  # Main program loop\n",
    "\n",
    "        # Create a question bank to store all the question objects for the game\n",
    "        question_bank = []\n",
    "        # random.shuffle(question_data)\n",
    "        for item in question_data:\n",
    "            question_bank.append(Question(item[\"text\"], item[\"answer\"]))\n",
    "\n",
    "        # Create an instance of the QuizBrain class\n",
    "        quiz_master = QuizBrain(question_bank)\n",
    "\n",
    "        while quiz_master.still_has_questions():  # Continue game as long as there are still questions available\n",
    "            # Ask the user a question\n",
    "            quiz_master.next_question()\n",
    "\n",
    "        print(\"You've completed the quiz.\")\n",
    "        print(f\"Your final score was: {quiz_master.score}/{quiz_master.question_number}\")\n",
    "\n",
    "        # Ask user if they want to try again\n",
    "        if input(\"Do you want to try the quiz again? (Yes | No): \").lower() != \"yes\":\n",
    "            print(\"\\n\")\n",
    "            play_again = False\n",
    "\n",
    "\n",
    "# If the program is run (instead of imported), run the program\n",
    "if __name__ == \"__main__\":\n",
    "    main()"
   ]
  },
  {
   "cell_type": "code",
   "execution_count": null,
   "id": "2ccf5082",
   "metadata": {},
   "outputs": [],
   "source": [
    "# from question_model import Question\n",
    "# from data import question_data\n",
    "# from quiz_brain import QuizBrain\n",
    "\n",
    "# question_bank = []\n",
    "# for question in question_data:\n",
    "#     question_text = question[\"question\"]\n",
    "#     question_answer = question[\"correct_answer\"]\n",
    "#     new_question = Question(question_text, question_answer)\n",
    "#     question_bank.append(new_question)\n",
    "\n",
    "# quiz = QuizBrain(question_bank)\n",
    "\n",
    "# while quiz.still_has_questions():\n",
    "#     quiz.next_question()\n",
    "\n",
    "# print(\"You've completed the quiz\")\n",
    "# print(f\"Your final score was: {quiz.score}/{quiz.question_number}\")"
   ]
  }
 ],
 "metadata": {
  "kernelspec": {
   "display_name": "Python 3 (ipykernel)",
   "language": "python",
   "name": "python3"
  },
  "language_info": {
   "codemirror_mode": {
    "name": "ipython",
    "version": 3
   },
   "file_extension": ".py",
   "mimetype": "text/x-python",
   "name": "python",
   "nbconvert_exporter": "python",
   "pygments_lexer": "ipython3",
   "version": "3.9.13"
  }
 },
 "nbformat": 4,
 "nbformat_minor": 5
}
